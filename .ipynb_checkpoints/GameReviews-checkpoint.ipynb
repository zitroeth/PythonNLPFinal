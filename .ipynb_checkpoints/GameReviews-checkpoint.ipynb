{
 "cells": [
  {
   "cell_type": "code",
   "execution_count": 27,
   "id": "4d1a882f-268f-417b-b259-52c812392009",
   "metadata": {
    "collapsed": true,
    "jupyter": {
     "outputs_hidden": true,
     "source_hidden": true
    },
    "scrolled": true
   },
   "outputs": [
    {
     "name": "stdout",
     "output_type": "stream",
     "text": [
      "Fetched reviews. New cursor: AoIIPwYYanDj7egE\n",
      "Fetched reviews. New cursor: AoIIPwFUIn744ekE\n",
      "Fetched reviews. New cursor: AoIIPwAAAHb2gOcE\n",
      "Fetched reviews. New cursor: AoIIPwwLVnSJ6egE\n",
      "Fetched reviews. New cursor: AoIIPwVCon%2Bo3uwE\n",
      "Fetched reviews. New cursor: AoIIPwAAAHb2gOcE\n",
      "Fetched reviews. New cursor: AoIIPwwLVnSJ6egE\n",
      "Fetched reviews. New cursor: AoIIPwVCon%2Bo3uwE\n",
      "Fetched reviews. New cursor: AoIIPwAAAHb2gOcE\n",
      "Fetched reviews. New cursor: AoIIPwwLVnSJ6egE\n",
      "Fetched reviews. New cursor: AoIIPwVCon%2Bo3uwE\n",
      "Fetched reviews. New cursor: AoIIPwAAAHb2gOcE\n",
      "Fetched reviews. New cursor: AoIIPwwLVnSJ6egE\n",
      "Fetched reviews. New cursor: AoIIPwVCon%2Bo3uwE\n",
      "Fetched reviews. New cursor: AoIIPwAAAHb2gOcE\n"
     ]
    },
    {
     "ename": "KeyboardInterrupt",
     "evalue": "",
     "output_type": "error",
     "traceback": [
      "\u001b[1;31m---------------------------------------------------------------------------\u001b[0m",
      "\u001b[1;31mKeyboardInterrupt\u001b[0m                         Traceback (most recent call last)",
      "Cell \u001b[1;32mIn[27], line 43\u001b[0m\n\u001b[0;32m     40\u001b[0m     \u001b[38;5;28mprint\u001b[39m(\u001b[38;5;124m\"\u001b[39m\u001b[38;5;124mNumber of reviews: \u001b[39m\u001b[38;5;124m\"\u001b[39m, \u001b[38;5;28mlen\u001b[39m(reviewData))\n\u001b[0;32m     42\u001b[0m \u001b[38;5;28;01mif\u001b[39;00m \u001b[38;5;18m__name__\u001b[39m \u001b[38;5;241m==\u001b[39m \u001b[38;5;124m\"\u001b[39m\u001b[38;5;124m__main__\u001b[39m\u001b[38;5;124m\"\u001b[39m:\n\u001b[1;32m---> 43\u001b[0m     \u001b[43mmain\u001b[49m\u001b[43m(\u001b[49m\u001b[43m)\u001b[49m\n",
      "Cell \u001b[1;32mIn[27], line 36\u001b[0m, in \u001b[0;36mmain\u001b[1;34m()\u001b[0m\n\u001b[0;32m     35\u001b[0m \u001b[38;5;28;01mdef\u001b[39;00m \u001b[38;5;21mmain\u001b[39m():\n\u001b[1;32m---> 36\u001b[0m     \u001b[43mgetApiSteam\u001b[49m\u001b[43m(\u001b[49m\u001b[38;5;241;43m20\u001b[39;49m\u001b[43m,\u001b[49m\u001b[43m \u001b[49m\u001b[38;5;241;43m50\u001b[39;49m\u001b[43m)\u001b[49m\n\u001b[0;32m     37\u001b[0m     \u001b[38;5;66;03m# Load the review data from the file\u001b[39;00m\n\u001b[0;32m     38\u001b[0m     \u001b[38;5;28;01mwith\u001b[39;00m \u001b[38;5;28mopen\u001b[39m(\u001b[38;5;124m\"\u001b[39m\u001b[38;5;124mreviewdata.json\u001b[39m\u001b[38;5;124m\"\u001b[39m, \u001b[38;5;124m\"\u001b[39m\u001b[38;5;124mr\u001b[39m\u001b[38;5;124m\"\u001b[39m, encoding\u001b[38;5;241m=\u001b[39m\u001b[38;5;124m'\u001b[39m\u001b[38;5;124mutf-8\u001b[39m\u001b[38;5;124m'\u001b[39m) \u001b[38;5;28;01mas\u001b[39;00m file:\n",
      "Cell \u001b[1;32mIn[27], line 33\u001b[0m, in \u001b[0;36mgetApiSteam\u001b[1;34m(repeat, num_per_page, url, cursor, data)\u001b[0m\n\u001b[0;32m     30\u001b[0m \u001b[38;5;28mprint\u001b[39m(\u001b[38;5;124mf\u001b[39m\u001b[38;5;124m\"\u001b[39m\u001b[38;5;124mFetched reviews. New cursor: \u001b[39m\u001b[38;5;132;01m{\u001b[39;00mnew_cursor\u001b[38;5;132;01m}\u001b[39;00m\u001b[38;5;124m\"\u001b[39m)\n\u001b[0;32m     32\u001b[0m \u001b[38;5;66;03m# Recursively call the function with the updated cursor and data\u001b[39;00m\n\u001b[1;32m---> 33\u001b[0m \u001b[38;5;28;01mreturn\u001b[39;00m \u001b[43mgetApiSteam\u001b[49m\u001b[43m(\u001b[49m\u001b[43mrepeat\u001b[49m\u001b[43m,\u001b[49m\u001b[43m \u001b[49m\u001b[43mnum_per_page\u001b[49m\u001b[43m,\u001b[49m\u001b[43m \u001b[49m\u001b[43mcursor\u001b[49m\u001b[38;5;241;43m=\u001b[39;49m\u001b[43mnew_cursor\u001b[49m\u001b[43m,\u001b[49m\u001b[43m \u001b[49m\u001b[43mdata\u001b[49m\u001b[38;5;241;43m=\u001b[39;49m\u001b[43mdata\u001b[49m\u001b[43m)\u001b[49m\n",
      "Cell \u001b[1;32mIn[27], line 33\u001b[0m, in \u001b[0;36mgetApiSteam\u001b[1;34m(repeat, num_per_page, url, cursor, data)\u001b[0m\n\u001b[0;32m     30\u001b[0m \u001b[38;5;28mprint\u001b[39m(\u001b[38;5;124mf\u001b[39m\u001b[38;5;124m\"\u001b[39m\u001b[38;5;124mFetched reviews. New cursor: \u001b[39m\u001b[38;5;132;01m{\u001b[39;00mnew_cursor\u001b[38;5;132;01m}\u001b[39;00m\u001b[38;5;124m\"\u001b[39m)\n\u001b[0;32m     32\u001b[0m \u001b[38;5;66;03m# Recursively call the function with the updated cursor and data\u001b[39;00m\n\u001b[1;32m---> 33\u001b[0m \u001b[38;5;28;01mreturn\u001b[39;00m \u001b[43mgetApiSteam\u001b[49m\u001b[43m(\u001b[49m\u001b[43mrepeat\u001b[49m\u001b[43m,\u001b[49m\u001b[43m \u001b[49m\u001b[43mnum_per_page\u001b[49m\u001b[43m,\u001b[49m\u001b[43m \u001b[49m\u001b[43mcursor\u001b[49m\u001b[38;5;241;43m=\u001b[39;49m\u001b[43mnew_cursor\u001b[49m\u001b[43m,\u001b[49m\u001b[43m \u001b[49m\u001b[43mdata\u001b[49m\u001b[38;5;241;43m=\u001b[39;49m\u001b[43mdata\u001b[49m\u001b[43m)\u001b[49m\n",
      "    \u001b[1;31m[... skipping similar frames: getApiSteam at line 33 (12 times)]\u001b[0m\n",
      "Cell \u001b[1;32mIn[27], line 33\u001b[0m, in \u001b[0;36mgetApiSteam\u001b[1;34m(repeat, num_per_page, url, cursor, data)\u001b[0m\n\u001b[0;32m     30\u001b[0m \u001b[38;5;28mprint\u001b[39m(\u001b[38;5;124mf\u001b[39m\u001b[38;5;124m\"\u001b[39m\u001b[38;5;124mFetched reviews. New cursor: \u001b[39m\u001b[38;5;132;01m{\u001b[39;00mnew_cursor\u001b[38;5;132;01m}\u001b[39;00m\u001b[38;5;124m\"\u001b[39m)\n\u001b[0;32m     32\u001b[0m \u001b[38;5;66;03m# Recursively call the function with the updated cursor and data\u001b[39;00m\n\u001b[1;32m---> 33\u001b[0m \u001b[38;5;28;01mreturn\u001b[39;00m \u001b[43mgetApiSteam\u001b[49m\u001b[43m(\u001b[49m\u001b[43mrepeat\u001b[49m\u001b[43m,\u001b[49m\u001b[43m \u001b[49m\u001b[43mnum_per_page\u001b[49m\u001b[43m,\u001b[49m\u001b[43m \u001b[49m\u001b[43mcursor\u001b[49m\u001b[38;5;241;43m=\u001b[39;49m\u001b[43mnew_cursor\u001b[49m\u001b[43m,\u001b[49m\u001b[43m \u001b[49m\u001b[43mdata\u001b[49m\u001b[38;5;241;43m=\u001b[39;49m\u001b[43mdata\u001b[49m\u001b[43m)\u001b[49m\n",
      "Cell \u001b[1;32mIn[27], line 7\u001b[0m, in \u001b[0;36mgetApiSteam\u001b[1;34m(repeat, num_per_page, url, cursor, data)\u001b[0m\n\u001b[0;32m      6\u001b[0m \u001b[38;5;28;01mdef\u001b[39;00m \u001b[38;5;21mgetApiSteam\u001b[39m(repeat, num_per_page\u001b[38;5;241m=\u001b[39m\u001b[38;5;241m20\u001b[39m, url\u001b[38;5;241m=\u001b[39m\u001b[38;5;124m\"\u001b[39m\u001b[38;5;124mhttps://store.steampowered.com/appreviews/892970?json=1&language=english\u001b[39m\u001b[38;5;124m\"\u001b[39m, cursor\u001b[38;5;241m=\u001b[39m\u001b[38;5;124m'\u001b[39m\u001b[38;5;124m*\u001b[39m\u001b[38;5;124m'\u001b[39m, data\u001b[38;5;241m=\u001b[39m[]):\n\u001b[1;32m----> 7\u001b[0m     \u001b[43mtime\u001b[49m\u001b[38;5;241;43m.\u001b[39;49m\u001b[43msleep\u001b[49m\u001b[43m(\u001b[49m\u001b[43m(\u001b[49m\u001b[43mnum_per_page\u001b[49m\u001b[38;5;241;43m/\u001b[39;49m\u001b[38;5;241;43m10\u001b[39;49m\u001b[43m)\u001b[49m\u001b[38;5;241;43m+\u001b[39;49m\u001b[38;5;241;43m5\u001b[39;49m\u001b[43m)\u001b[49m\n\u001b[0;32m      9\u001b[0m     \u001b[38;5;28;01mif\u001b[39;00m repeat \u001b[38;5;241m==\u001b[39m \u001b[38;5;241m0\u001b[39m:\n\u001b[0;32m     10\u001b[0m         \u001b[38;5;66;03m# Flatten the list of reviews\u001b[39;00m\n\u001b[0;32m     11\u001b[0m         data \u001b[38;5;241m=\u001b[39m [x \u001b[38;5;28;01mfor\u001b[39;00m xs \u001b[38;5;129;01min\u001b[39;00m data \u001b[38;5;28;01mfor\u001b[39;00m x \u001b[38;5;129;01min\u001b[39;00m xs]\n",
      "\u001b[1;31mKeyboardInterrupt\u001b[0m: "
     ]
    }
   ],
   "source": [
    "import requests\n",
    "import json\n",
    "import urllib.parse\n",
    "import time\n",
    "\n",
    "def getApiSteam(repeat, num_per_page=20, url=\"https://store.steampowered.com/appreviews/892970?json=1&language=english\", cursor='*', data=[]):\n",
    "    time.sleep(num_per_page/10)\n",
    "    \n",
    "    if repeat == 0:\n",
    "        # Flatten the list of reviews\n",
    "        data = [x for xs in data for x in xs]\n",
    "        # Extract only the review text\n",
    "        reviewData = [i[\"review\"] for i in data]\n",
    "        \n",
    "        # Save the review data to a file\n",
    "        with open('reviewdata.json', 'w', encoding='utf-8') as f:\n",
    "            json.dump(reviewData, f, ensure_ascii=False, indent=4)\n",
    "            \n",
    "        return 1\n",
    "    else:\n",
    "        repeat -= 1\n",
    "\n",
    "        # Fetch the next page of reviews\n",
    "        response = requests.get(f'{url}&cursor={cursor}&num_per_page={num_per_page}')\n",
    "        temp = json.loads(response.text)\n",
    "        # Append the new reviews to the data list\n",
    "        data.append(temp[\"reviews\"])\n",
    "        # Update the cursor for the next request\n",
    "        new_cursor = urllib.parse.quote(temp[\"cursor\"])\n",
    "        print(f\"Fetched reviews. New cursor: {new_cursor}\")\n",
    "        \n",
    "        # Recursively call the function with the updated cursor and data\n",
    "        return getApiSteam(repeat, num_per_page, cursor=new_cursor, data=data)\n",
    "\n",
    "def main():\n",
    "    getApiSteam(20, 50)\n",
    "    # Load the review data from the file\n",
    "    with open(\"reviewdata.json\", \"r\", encoding='utf-8') as file:\n",
    "        reviewData = json.load(file)\n",
    "    print(\"Number of reviews: \", len(reviewData))\n",
    "\n",
    "if __name__ == \"__main__\":\n",
    "    main()\n"
   ]
  },
  {
   "cell_type": "code",
   "execution_count": 57,
   "id": "e6aa5a7a-49d0-4f32-a9b4-5c3ce26a8911",
   "metadata": {
    "collapsed": true,
    "jupyter": {
     "outputs_hidden": true,
     "source_hidden": true
    },
    "scrolled": true
   },
   "outputs": [
    {
     "name": "stdout",
     "output_type": "stream",
     "text": [
      "\n",
      "Processed:\n",
      "took three try get game felt unnatural first sat put two three hour game immediately hooked like basically game ever writing 383 hour later even dove playing game friend yet absolute best part game according take space drive cost le aaa game find absolutely delightful exploration amazing genuinely love world natural difficulty make actually care preparing cooking lose stats adjusted game definitely within top ten game time\n",
      "\n",
      "\n",
      "Not Processed:\n",
      "It took me three tries to get into this game - it felt unnatural to me at first, but after I sat down and put about two to three hours into the game it immediately hooked me like basically no other game ever has. \n",
      "\n",
      "I am writing this 383 hours later, and I haven't even dove into playing the game with my friends yet (The absolute best part of the game according to most). It takes no space on your drive, it costs less than all AAA games, and I find it absolutely delightful.\n",
      "\n",
      "Exploration is amazing - I genuinely love this world.\n",
      "Natural difficulty makes me *actually care* about preparing, about cooking, so I don't lose stats (Can be adjusted)\n",
      "\n",
      "This game is definitely within my top ten games of all time now.\n"
     ]
    },
    {
     "name": "stderr",
     "output_type": "stream",
     "text": [
      "[nltk_data] Downloading package punkt to\n",
      "[nltk_data]     C:\\Users\\reapy\\AppData\\Roaming\\nltk_data...\n",
      "[nltk_data]   Package punkt is already up-to-date!\n",
      "[nltk_data] Downloading package stopwords to\n",
      "[nltk_data]     C:\\Users\\reapy\\AppData\\Roaming\\nltk_data...\n",
      "[nltk_data]   Package stopwords is already up-to-date!\n",
      "[nltk_data] Downloading package wordnet to\n",
      "[nltk_data]     C:\\Users\\reapy\\AppData\\Roaming\\nltk_data...\n",
      "[nltk_data]   Package wordnet is already up-to-date!\n"
     ]
    }
   ],
   "source": [
    "from nltk.tokenize import word_tokenize\n",
    "from nltk.corpus import stopwords\n",
    "from nltk.stem import WordNetLemmatizer\n",
    "import json\n",
    "\n",
    "# Download necessary NLTK resources\n",
    "nltk.download('punkt')\n",
    "nltk.download('stopwords')\n",
    "nltk.download('wordnet')\n",
    "\n",
    "# Read Game Review Data JSON\n",
    "with open(\"reviewdata.json\",\"r\", encoding='utf-8') as file:\n",
    "        reviewData = json.load(file)\n",
    "    \n",
    "def preprocess(text):\n",
    "    # Convert text to lowercase\n",
    "    text_lower = text.lower()\n",
    "    \n",
    "    # Tokenization\n",
    "    tokens = word_tokenize(text_lower)\n",
    "    \n",
    "    # Removing punctuation and special characters\n",
    "    tokens = [word for word in tokens if word.isalnum()]\n",
    "    \n",
    "    # Removing stop words\n",
    "    stop_words = set(stopwords.words('english'))\n",
    "    tokens = [word for word in tokens if word not in stop_words]\n",
    "    \n",
    "    # Lemmatization\n",
    "    lemmatizer = WordNetLemmatizer()\n",
    "    tokens = [lemmatizer.lemmatize(word) for word in tokens]\n",
    "    \n",
    "    return tokens\n",
    "    \n",
    "# Joining tokens back into a string\n",
    "preprocessed_text = ' '.join(preprocess(reviewData[22]))\n",
    "\n",
    "print(\"\\nProcessed:\\n\"+preprocessed_text)\n",
    "print(\"\\n\\nNot Processed:\\n\"+reviewData[22])"
   ]
  },
  {
   "cell_type": "markdown",
   "id": "f66e5e99-6b40-4dc8-a762-b76ae925fafb",
   "metadata": {},
   "source": [
    "### Get Steam Reviews JSON"
   ]
  },
  {
   "cell_type": "code",
   "execution_count": 5,
   "id": "15453d10-029b-4178-b5c6-adb657d270ff",
   "metadata": {
    "collapsed": true,
    "jupyter": {
     "outputs_hidden": true,
     "source_hidden": true
    },
    "scrolled": true
   },
   "outputs": [
    {
     "name": "stdout",
     "output_type": "stream",
     "text": [
      "Loading idlist.txt\n",
      "Loading idprocessed_on_20240422.txt\n",
      "Creating idprocessed_on_20240422.txt\n",
      "Downloading reviews for appID = 1623730\n",
      "[appID = 1623730] expected #reviews = 124655\n",
      "[appID = 1623730] num_reviews = 5349 (expected: 124655)\n",
      "Downloading reviews for appID = 892970\n",
      "[appID = 892970] expected #reviews = 262477\n",
      "[appID = 892970] num_reviews = 600 (expected: 262477)\n",
      "Downloading reviews for appID = 105600\n",
      "[appID = 105600] expected #reviews = 636028\n",
      "[appID = 105600] num_reviews = 1077 (expected: 636028)\n",
      "Downloading reviews for appID = 346110\n",
      "[appID = 346110] expected #reviews = 304609\n",
      "[appID = 346110] num_reviews = 398 (expected: 304609)\n",
      "Downloading reviews for appID = 252490\n",
      "[appID = 252490] expected #reviews = 532677\n",
      "[appID = 252490] num_reviews = 1369 (expected: 532677)\n",
      "Downloading reviews for appID = 275850\n",
      "[appID = 275850] expected #reviews = 176517\n",
      "[appID = 275850] num_reviews = 694 (expected: 176517)\n",
      "Downloading reviews for appID = 322330\n",
      "[appID = 322330] expected #reviews = 116595\n",
      "[appID = 322330] num_reviews = 301 (expected: 116595)\n",
      "Downloading reviews for appID = 648800\n",
      "[appID = 648800] expected #reviews = 126602\n",
      "[appID = 648800] num_reviews = 361 (expected: 126602)\n",
      "Downloading reviews for appID = 251570\n",
      "[appID = 251570] expected #reviews = 146943\n",
      "[appID = 251570] num_reviews = 501 (expected: 146943)\n",
      "Downloading reviews for appID = 211820\n",
      "[appID = 211820] expected #reviews = 72511\n",
      "[appID = 211820] num_reviews = 209 (expected: 72511)\n",
      "Downloading reviews for appID = 242760\n",
      "[appID = 242760] expected #reviews = 184817\n",
      "[appID = 242760] num_reviews = 389 (expected: 184817)\n",
      "Downloading reviews for appID = 513710\n",
      "[appID = 513710] expected #reviews = 40476\n",
      "[appID = 513710] num_reviews = 319 (expected: 40476)\n",
      "Downloading reviews for appID = 108600\n",
      "[appID = 108600] expected #reviews = 129309\n",
      "[appID = 108600] num_reviews = 875 (expected: 129309)\n",
      "Downloading reviews for appID = 440900\n",
      "[appID = 440900] expected #reviews = 49582\n",
      "[appID = 440900] num_reviews = 290 (expected: 49582)\n",
      "Downloading reviews for appID = 1149460\n",
      "[appID = 1149460] expected #reviews = 22485\n",
      "Number of queries 150 reached. Cooldown: 310 seconds\n",
      "[appID = 1149460] num_reviews = 189 (expected: 22485)\n",
      "Downloading reviews for appID = 264710\n",
      "[appID = 264710] expected #reviews = 152808\n",
      "[appID = 264710] num_reviews = 539 (expected: 152808)\n",
      "Downloading reviews for appID = 1371580\n",
      "[appID = 1371580] expected #reviews = 2789\n",
      "[appID = 1371580] num_reviews = 345 (expected: 2789)\n",
      "Downloading reviews for appID = 1928980\n",
      "[appID = 1928980] expected #reviews = 7799\n",
      "[appID = 1928980] num_reviews = 1978 (expected: 7799)\n",
      "Downloading reviews for appID = 239140\n",
      "[appID = 239140] expected #reviews = 110576\n",
      "[appID = 239140] num_reviews = 319 (expected: 110576)\n",
      "Downloading reviews for appID = 848450\n",
      "[appID = 848450] expected #reviews = 49794\n",
      "[appID = 848450] num_reviews = 257 (expected: 49794)\n",
      "Downloading reviews for appID = 1504570\n",
      "[appID = 1504570] expected #reviews = 209\n",
      "[appID = 1504570] num_reviews = 100 (expected: 209)\n",
      "Downloading reviews for appID = 526870\n",
      "[appID = 526870] expected #reviews = 91167\n",
      "[appID = 526870] num_reviews = 423 (expected: 91167)\n",
      "Downloading reviews for appID = 962130\n",
      "[appID = 962130] expected #reviews = 38359\n",
      "[appID = 962130] num_reviews = 317 (expected: 38359)\n",
      "Downloading reviews for appID = 1284190\n",
      "[appID = 1284190] expected #reviews = 16453\n",
      "[appID = 1284190] num_reviews = 409 (expected: 16453)\n",
      "Downloading reviews for appID = 1259420\n",
      "[appID = 1259420] expected #reviews = 35653\n",
      "[appID = 1259420] num_reviews = 349 (expected: 35653)\n",
      "Downloading reviews for appID = 1307550\n",
      "[appID = 1307550] expected #reviews = 7768\n",
      "[appID = 1307550] num_reviews = 100 (expected: 7768)\n",
      "Downloading reviews for appID = 2080690\n",
      "[appID = 2080690] expected #reviews = 7439\n",
      "[appID = 2080690] num_reviews = 213 (expected: 7439)\n",
      "Downloading reviews for appID = 244850\n",
      "[appID = 244850] expected #reviews = 80399\n",
      "[appID = 244850] num_reviews = 193 (expected: 80399)\n",
      "Downloading reviews for appID = 383180\n",
      "[appID = 383180] expected #reviews = 3326\n",
      "[appID = 383180] num_reviews = 319 (expected: 3326)\n",
      "Downloading reviews for appID = 815370\n",
      "[appID = 815370] expected #reviews = 24449\n",
      "[appID = 815370] num_reviews = 215 (expected: 24449)\n",
      "Downloading reviews for appID = 2285150\n",
      "[appID = 2285150] expected #reviews = 3429\n",
      "[appID = 2285150] num_reviews = 160 (expected: 3429)\n",
      "Downloading reviews for appID = 361420\n",
      "[appID = 361420] expected #reviews = 53536\n",
      "[appID = 361420] num_reviews = 245 (expected: 53536)\n",
      "Downloading reviews for appID = 219740\n",
      "[appID = 219740] expected #reviews = 38872\n",
      "[appID = 219740] num_reviews = 124 (expected: 38872)\n",
      "Downloading reviews for appID = 371660\n",
      "[appID = 371660] expected #reviews = 11111\n",
      "[appID = 371660] num_reviews = 154 (expected: 11111)\n",
      "Downloading reviews for appID = 305620\n",
      "[appID = 305620] expected #reviews = 38780\n",
      "[appID = 305620] num_reviews = 197 (expected: 38780)\n",
      "Downloading reviews for appID = 529180\n",
      "[appID = 529180] expected #reviews = 5369\n",
      "[appID = 529180] num_reviews = 114 (expected: 5369)\n",
      "Downloading reviews for appID = 751780\n",
      "[appID = 751780] expected #reviews = 15570\n",
      "[appID = 751780] num_reviews = 143 (expected: 15570)\n",
      "Downloading reviews for appID = 393420\n",
      "[appID = 393420] expected #reviews = 6322\n",
      "[appID = 393420] num_reviews = 105 (expected: 6322)\n",
      "Downloading reviews for appID = 344760\n",
      "[appID = 344760] expected #reviews = 9664\n",
      "[appID = 344760] num_reviews = 118 (expected: 9664)\n",
      "Downloading reviews for appID = 768200\n",
      "[appID = 768200] expected #reviews = 3817\n",
      "[appID = 768200] num_reviews = 168 (expected: 3817)\n",
      "Downloading reviews for appID = 265550\n",
      "[appID = 265550] expected #reviews = 7241\n",
      "[appID = 265550] num_reviews = 118 (expected: 7241)\n",
      "Downloading reviews for appID = 280790\n",
      "[appID = 280790] expected #reviews = 14608\n",
      "[appID = 280790] num_reviews = 128 (expected: 14608)\n",
      "Downloading reviews for appID = 895400\n",
      "[appID = 895400] expected #reviews = 16158\n",
      "[appID = 895400] num_reviews = 174 (expected: 16158)\n",
      "Downloading reviews for appID = 250400\n",
      "[appID = 250400] expected #reviews = 5585\n",
      "[appID = 250400] num_reviews = 107 (expected: 5585)\n",
      "Downloading reviews for appID = 383120\n",
      "[appID = 383120] expected #reviews = 19585\n",
      "[appID = 383120] num_reviews = 297 (expected: 19585)\n",
      "Downloading reviews for appID = 290080\n",
      "[appID = 290080] expected #reviews = 5832\n",
      "[appID = 290080] num_reviews = 108 (expected: 5832)\n",
      "Downloading reviews for appID = 1159690\n",
      "[appID = 1159690] expected #reviews = 2501\n",
      "[appID = 1159690] num_reviews = 171 (expected: 2501)\n",
      "Downloading reviews for appID = 487120\n",
      "[appID = 487120] expected #reviews = 3496\n",
      "[appID = 487120] num_reviews = 106 (expected: 3496)\n",
      "Downloading reviews for appID = 543900\n",
      "[appID = 543900] expected #reviews = 3233\n",
      "[appID = 543900] num_reviews = 120 (expected: 3233)\n",
      "Downloading reviews for appID = 382310\n",
      "[appID = 382310] expected #reviews = 7186\n",
      "[appID = 382310] num_reviews = 143 (expected: 7186)\n",
      "Downloading reviews for appID = 738520\n",
      "[appID = 738520] expected #reviews = 5343\n",
      "Number of queries 150 reached. Cooldown: 310 seconds\n",
      "[appID = 738520] num_reviews = 128 (expected: 5343)\n",
      "Downloading reviews for appID = 573090\n",
      "[appID = 573090] expected #reviews = 34368\n",
      "[appID = 573090] num_reviews = 235 (expected: 34368)\n",
      "Downloading reviews for appID = 332500\n",
      "[appID = 332500] expected #reviews = 4146\n",
      "[appID = 332500] num_reviews = 105 (expected: 4146)\n",
      "Downloading reviews for appID = 313120\n",
      "[appID = 313120] expected #reviews = 23714\n",
      "[appID = 313120] num_reviews = 158 (expected: 23714)\n",
      "Downloading reviews for appID = 285920\n",
      "[appID = 285920] expected #reviews = 14055\n",
      "[appID = 285920] num_reviews = 120 (expected: 14055)\n",
      "Downloading reviews for appID = 715400\n",
      "[appID = 715400] expected #reviews = 1062\n",
      "[appID = 715400] num_reviews = 109 (expected: 1062)\n",
      "Downloading reviews for appID = 700030\n",
      "[appID = 700030] expected #reviews = 2594\n",
      "[appID = 700030] num_reviews = 146 (expected: 2594)\n",
      "Downloading reviews for appID = 1641960\n",
      "[appID = 1641960] expected #reviews = 2382\n",
      "[appID = 1641960] num_reviews = 128 (expected: 2382)\n",
      "Downloading reviews for appID = 299740\n",
      "[appID = 299740] expected #reviews = 15345\n",
      "[appID = 299740] num_reviews = 121 (expected: 15345)\n",
      "Downloading reviews for appID = 547860\n",
      "[appID = 547860] expected #reviews = 1005\n",
      "[appID = 547860] num_reviews = 101 (expected: 1005)\n",
      "Downloading reviews for appID = 402710\n",
      "[appID = 402710] expected #reviews = 8999\n",
      "[appID = 402710] num_reviews = 139 (expected: 8999)\n",
      "Downloading reviews for appID = 840800\n",
      "[appID = 840800] expected #reviews = 3249\n",
      "[appID = 840800] num_reviews = 119 (expected: 3249)\n",
      "Downloading reviews for appID = 1377380\n",
      "[appID = 1377380] expected #reviews = 3147\n",
      "[appID = 1377380] num_reviews = 134 (expected: 3147)\n",
      "Downloading reviews for appID = 349700\n",
      "[appID = 349700] expected #reviews = 4126\n",
      "[appID = 349700] num_reviews = 100 (expected: 4126)\n",
      "Downloading reviews for appID = 327070\n",
      "[appID = 327070] expected #reviews = 5302\n",
      "[appID = 327070] num_reviews = 130 (expected: 5302)\n",
      "Downloading reviews for appID = 1169040\n",
      "[appID = 1169040] expected #reviews = 6296\n",
      "[appID = 1169040] num_reviews = 151 (expected: 6296)\n",
      "Downloading reviews for appID = 361800\n",
      "[appID = 361800] expected #reviews = 2327\n",
      "[appID = 361800] num_reviews = 100 (expected: 2327)\n",
      "Downloading reviews for appID = 829590\n",
      "[appID = 829590] expected #reviews = 2022\n",
      "[appID = 829590] num_reviews = 107 (expected: 2022)\n",
      "Downloading reviews for appID = 2209150\n",
      "[appID = 2209150] expected #reviews = 397\n",
      "[appID = 2209150] num_reviews = 100 (expected: 397)\n",
      "Downloading reviews for appID = 897450\n",
      "[appID = 897450] expected #reviews = 2772\n",
      "[appID = 897450] num_reviews = 129 (expected: 2772)\n",
      "Downloading reviews for appID = 1072420\n",
      "[appID = 1072420] expected #reviews = 1758\n",
      "[appID = 1072420] num_reviews = 114 (expected: 1758)\n",
      "Downloading reviews for appID = 536270\n",
      "[appID = 536270] expected #reviews = 5418\n",
      "[appID = 536270] num_reviews = 161 (expected: 5418)\n",
      "Downloading reviews for appID = 758690\n",
      "[appID = 758690] expected #reviews = 969\n",
      "[appID = 758690] num_reviews = 111 (expected: 969)\n",
      "Downloading reviews for appID = 914620\n",
      "[appID = 914620] expected #reviews = 6638\n",
      "[appID = 914620] num_reviews = 139 (expected: 6638)\n",
      "Downloading reviews for appID = 707010\n",
      "[appID = 707010] expected #reviews = 3626\n",
      "[appID = 707010] num_reviews = 117 (expected: 3626)\n",
      "Downloading reviews for appID = 625340\n",
      "[appID = 625340] expected #reviews = 2216\n",
      "[appID = 625340] num_reviews = 104 (expected: 2216)\n",
      "Downloading reviews for appID = 1519090\n",
      "[appID = 1519090] expected #reviews = 269\n",
      "[appID = 1519090] num_reviews = 100 (expected: 269)\n",
      "Downloading reviews for appID = 360170\n",
      "[appID = 360170] expected #reviews = 2471\n",
      "[appID = 360170] num_reviews = 106 (expected: 2471)\n",
      "Downloading reviews for appID = 1501610\n",
      "[appID = 1501610] expected #reviews = 914\n",
      "[appID = 1501610] num_reviews = 102 (expected: 914)\n",
      "Downloading reviews for appID = 951440\n",
      "[appID = 951440] expected #reviews = 5158\n",
      "[appID = 951440] num_reviews = 119 (expected: 5158)\n",
      "Downloading reviews for appID = 526160\n",
      "[appID = 526160] expected #reviews = 2106\n",
      "[appID = 526160] num_reviews = 100 (expected: 2106)\n",
      "Downloading reviews for appID = 2197910\n",
      "[appID = 2197910] expected #reviews = 799\n",
      "[appID = 2197910] num_reviews = 107 (expected: 799)\n",
      "Downloading reviews for appID = 2313330\n",
      "[appID = 2313330] expected #reviews = 590\n",
      "[appID = 2313330] num_reviews = 188 (expected: 590)\n",
      "Downloading reviews for appID = 450860\n",
      "[appID = 450860] expected #reviews = 223\n",
      "[appID = 450860] num_reviews = 100 (expected: 223)\n",
      "Downloading reviews for appID = 1589120\n",
      "[appID = 1589120] expected #reviews = 575\n",
      "[appID = 1589120] num_reviews = 112 (expected: 575)\n",
      "Downloading reviews for appID = 1239430\n",
      "[appID = 1239430] expected #reviews = 568\n",
      "[appID = 1239430] num_reviews = 100 (expected: 568)\n",
      "Downloading reviews for appID = 307880\n",
      "[appID = 307880] expected #reviews = 4403\n",
      "[appID = 307880] num_reviews = 108 (expected: 4403)\n",
      "Downloading reviews for appID = 237870\n",
      "[appID = 237870] expected #reviews = 3824\n",
      "[appID = 237870] num_reviews = 104 (expected: 3824)\n",
      "Downloading reviews for appID = 366220\n",
      "[appID = 366220] expected #reviews = 2273\n",
      "[appID = 366220] num_reviews = 107 (expected: 2273)\n",
      "Downloading reviews for appID = 1967630\n",
      "[appID = 1967630] expected #reviews = 813\n",
      "[appID = 1967630] num_reviews = 111 (expected: 813)\n",
      "Downloading reviews for appID = 1360000\n",
      "[appID = 1360000] expected #reviews = 3273\n",
      "[appID = 1360000] num_reviews = 123 (expected: 3273)\n",
      "Downloading reviews for appID = 2262080\n",
      "[appID = 2262080] expected #reviews = 79\n",
      "[appID = 2262080] num_reviews = 78 (expected: 79)\n",
      "Downloading reviews for appID = 391730\n",
      "[appID = 391730] expected #reviews = 1802\n",
      "[appID = 391730] num_reviews = 104 (expected: 1802)\n",
      "Downloading reviews for appID = 280520\n",
      "[appID = 280520] expected #reviews = 987\n",
      "[appID = 280520] num_reviews = 101 (expected: 987)\n",
      "Downloading reviews for appID = 227860\n",
      "[appID = 227860] expected #reviews = 4794\n",
      "[appID = 227860] num_reviews = 111 (expected: 4794)\n",
      "Downloading reviews for appID = 1134700\n",
      "[appID = 1134700] expected #reviews = 580\n",
      "[appID = 1134700] num_reviews = 104 (expected: 580)\n",
      "Downloading reviews for appID = 418030\n",
      "[appID = 418030] expected #reviews = 6875\n",
      "[appID = 418030] num_reviews = 128 (expected: 6875)\n",
      "Downloading reviews for appID = 548480\n",
      "[appID = 548480] expected #reviews = 68\n",
      "[appID = 548480] num_reviews = 68 (expected: 68)\n",
      "Downloading reviews for appID = 544550\n",
      "[appID = 544550] expected #reviews = 3979\n",
      "[appID = 544550] num_reviews = 141 (expected: 3979)\n",
      "Downloading reviews for appID = 1635450\n",
      "[appID = 1635450] expected #reviews = 1532\n",
      "[appID = 1635450] num_reviews = 110 (expected: 1532)\n",
      "Game records written: 100\n"
     ]
    },
    {
     "data": {
      "text/plain": [
       "True"
      ]
     },
     "execution_count": 5,
     "metadata": {},
     "output_type": "execute_result"
    }
   ],
   "source": [
    "import steamreviews\n",
    "\n",
    "request_params = dict()\n",
    "# Reference: https://partner.steamgames.com/doc/store/getreviews\n",
    "request_params['filter'] = 'all'  # reviews are sorted by helpfulness instead of chronology\n",
    "request_params['language'] = 'english'\n",
    "request_params['day_range'] = '84'  # focus on reviews which were published during the past four weeks\n",
    "\n",
    "steamreviews.download_reviews_for_app_id_batch(chosen_request_params=request_params)"
   ]
  },
  {
   "cell_type": "markdown",
   "id": "99218e2c-6096-4343-957c-1523f448e93b",
   "metadata": {},
   "source": [
    "### Merge Multiple JSON to one CSV"
   ]
  },
  {
   "cell_type": "code",
   "execution_count": 7,
   "id": "170ce72c-2b92-400c-90cb-557f675abe9c",
   "metadata": {
    "jupyter": {
     "source_hidden": true
    }
   },
   "outputs": [
    {
     "name": "stdout",
     "output_type": "stream",
     "text": [
      "Data has been written to game_reviews.csv\n"
     ]
    }
   ],
   "source": [
    "import os\n",
    "import json\n",
    "import csv\n",
    "\n",
    "# Directory containing the JSON files\n",
    "json_directory = os.getcwd()+\"/data/\"\n",
    "\n",
    "# Output CSV file path\n",
    "csv_file_path = 'game_reviews.csv'\n",
    "\n",
    "# Initialize an empty list to hold the extracted data\n",
    "data = []\n",
    "\n",
    "# Iterate over each file in the directory\n",
    "for filename in os.listdir(json_directory):\n",
    "    if filename.endswith('.json'):\n",
    "        file_path = os.path.join(json_directory, filename)\n",
    "        with open(file_path, 'r', encoding='utf-8') as file:\n",
    "            # Load the JSON file\n",
    "            json_data = json.load(file)\n",
    "            # Extract reviews\n",
    "            for review_id, review_data in json_data['reviews'].items():\n",
    "                review_id = review_id\n",
    "                # Determine sentiment\n",
    "                sentiment = 'positive' if review_data['voted_up'] else 'negative'\n",
    "                # Extract the review text\n",
    "                review_text = review_data['review']\n",
    "                # Append the data to the list\n",
    "                timestamp_updated = review_data[\"timestamp_updated\"]\n",
    "                data.append([review_id, sentiment, review_text, timestamp_updated])\n",
    "# Write the data to a CSV file\n",
    "with open(csv_file_path, 'w', newline='', encoding='utf-8') as csvfile:\n",
    "    writer = csv.writer(csvfile)\n",
    "    # Write the header\n",
    "    writer.writerow(['review_id','sentiment', 'review', 'timestamp_updated'])\n",
    "    # Write the data\n",
    "    writer.writerows(data)\n",
    "\n",
    "print(f\"Data has been written to {csv_file_path}\")"
   ]
  },
  {
   "cell_type": "code",
   "execution_count": 18,
   "id": "a7e97fa2-d40a-454b-b6f3-3623735869d0",
   "metadata": {},
   "outputs": [],
   "source": [
    "import torch\n",
    "torch.cuda.is_available()\n",
    "torch.set_default_device('cuda')"
   ]
  },
  {
   "cell_type": "code",
   "execution_count": 22,
   "id": "75cfe8d2-d34b-47e7-a426-4df1a8e1d271",
   "metadata": {},
   "outputs": [
    {
     "data": {
      "application/vnd.jupyter.widget-view+json": {
       "model_id": "09378d1eb7b24275900702c8deb1bf52",
       "version_major": 2,
       "version_minor": 0
      },
      "text/plain": [
       "VBox(children=(HTML(value='<center> <img\\nsrc=https://huggingface.co/front/assets/huggingface_logo-noborder.sv…"
      ]
     },
     "metadata": {},
     "output_type": "display_data"
    }
   ],
   "source": [
    "from huggingface_hub import notebook_login\n",
    "notebook_login()"
   ]
  },
  {
   "cell_type": "code",
   "execution_count": 40,
   "id": "807bb48f-9925-486f-aff8-22689815e0c6",
   "metadata": {
    "collapsed": true,
    "jupyter": {
     "outputs_hidden": true,
     "source_hidden": true
    },
    "scrolled": true
   },
   "outputs": [
    {
     "data": {
      "application/vnd.jupyter.widget-view+json": {
       "model_id": "08992a32a2f24fee84c04eeb46efb446",
       "version_major": 2,
       "version_minor": 0
      },
      "text/plain": [
       "Map:   0%|          | 0/22329 [00:00<?, ? examples/s]"
      ]
     },
     "metadata": {},
     "output_type": "display_data"
    },
    {
     "data": {
      "application/vnd.jupyter.widget-view+json": {
       "model_id": "0169ea6df92a41a49bee2b873aee3340",
       "version_major": 2,
       "version_minor": 0
      },
      "text/plain": [
       "Map:   0%|          | 0/5582 [00:00<?, ? examples/s]"
      ]
     },
     "metadata": {},
     "output_type": "display_data"
    },
    {
     "name": "stderr",
     "output_type": "stream",
     "text": [
      "Some weights of DistilBertForSequenceClassification were not initialized from the model checkpoint at distilbert-base-uncased and are newly initialized: ['classifier.bias', 'classifier.weight', 'pre_classifier.bias', 'pre_classifier.weight']\n",
      "You should probably TRAIN this model on a down-stream task to be able to use it for predictions and inference.\n",
      "D:\\anaconda3\\envs\\torch-gpu\\Lib\\site-packages\\accelerate\\accelerator.py:436: FutureWarning: Passing the following arguments to `Accelerator` is deprecated and will be removed in version 1.0 of Accelerate: dict_keys(['dispatch_batches', 'split_batches', 'even_batches', 'use_seedable_sampler']). Please pass an `accelerate.DataLoaderConfiguration` instead: \n",
      "dataloader_config = DataLoaderConfiguration(dispatch_batches=None, split_batches=False, even_batches=True, use_seedable_sampler=True)\n",
      "  warnings.warn(\n"
     ]
    },
    {
     "data": {
      "text/html": [
       "\n",
       "    <div>\n",
       "      \n",
       "      <progress value='324' max='2792' style='width:300px; height:20px; vertical-align: middle;'></progress>\n",
       "      [ 324/2792 2:00:22 < 15:22:37, 0.04 it/s, Epoch 0.23/2]\n",
       "    </div>\n",
       "    <table border=\"1\" class=\"dataframe\">\n",
       "  <thead>\n",
       " <tr style=\"text-align: left;\">\n",
       "      <th>Step</th>\n",
       "      <th>Training Loss</th>\n",
       "    </tr>\n",
       "  </thead>\n",
       "  <tbody>\n",
       "  </tbody>\n",
       "</table><p>"
      ],
      "text/plain": [
       "<IPython.core.display.HTML object>"
      ]
     },
     "metadata": {},
     "output_type": "display_data"
    },
    {
     "ename": "KeyboardInterrupt",
     "evalue": "",
     "output_type": "error",
     "traceback": [
      "\u001b[1;31m---------------------------------------------------------------------------\u001b[0m",
      "\u001b[1;31mKeyboardInterrupt\u001b[0m                         Traceback (most recent call last)",
      "Cell \u001b[1;32mIn[40], line 67\u001b[0m\n\u001b[0;32m     46\u001b[0m training_args \u001b[38;5;241m=\u001b[39m TrainingArguments(\n\u001b[0;32m     47\u001b[0m    output_dir\u001b[38;5;241m=\u001b[39mrepo_name,\n\u001b[0;32m     48\u001b[0m    learning_rate\u001b[38;5;241m=\u001b[39m\u001b[38;5;241m2e-5\u001b[39m,\n\u001b[1;32m   (...)\u001b[0m\n\u001b[0;32m     54\u001b[0m    push_to_hub\u001b[38;5;241m=\u001b[39m\u001b[38;5;28;01mTrue\u001b[39;00m,\n\u001b[0;32m     55\u001b[0m )\n\u001b[0;32m     57\u001b[0m trainer \u001b[38;5;241m=\u001b[39m Trainer(\n\u001b[0;32m     58\u001b[0m    model\u001b[38;5;241m=\u001b[39mmodel,\n\u001b[0;32m     59\u001b[0m    args\u001b[38;5;241m=\u001b[39mtraining_args,\n\u001b[1;32m   (...)\u001b[0m\n\u001b[0;32m     64\u001b[0m    compute_metrics\u001b[38;5;241m=\u001b[39mcompute_metrics,\n\u001b[0;32m     65\u001b[0m )\n\u001b[1;32m---> 67\u001b[0m \u001b[43mtrainer\u001b[49m\u001b[38;5;241;43m.\u001b[39;49m\u001b[43mtrain\u001b[49m\u001b[43m(\u001b[49m\u001b[43m)\u001b[49m\n\u001b[0;32m     68\u001b[0m trainer\u001b[38;5;241m.\u001b[39mevaluate()\n\u001b[0;32m     69\u001b[0m trainer\u001b[38;5;241m.\u001b[39mpush_to_hub()\n",
      "File \u001b[1;32m~\\AppData\\Roaming\\Python\\Python312\\site-packages\\transformers\\trainer.py:1771\u001b[0m, in \u001b[0;36mTrainer.train\u001b[1;34m(self, resume_from_checkpoint, trial, ignore_keys_for_eval, **kwargs)\u001b[0m\n\u001b[0;32m   1768\u001b[0m \u001b[38;5;28;01mtry\u001b[39;00m:\n\u001b[0;32m   1769\u001b[0m     \u001b[38;5;66;03m# Disable progress bars when uploading models during checkpoints to avoid polluting stdout\u001b[39;00m\n\u001b[0;32m   1770\u001b[0m     hf_hub_utils\u001b[38;5;241m.\u001b[39mdisable_progress_bars()\n\u001b[1;32m-> 1771\u001b[0m     \u001b[38;5;28;01mreturn\u001b[39;00m \u001b[43minner_training_loop\u001b[49m\u001b[43m(\u001b[49m\n\u001b[0;32m   1772\u001b[0m \u001b[43m        \u001b[49m\u001b[43margs\u001b[49m\u001b[38;5;241;43m=\u001b[39;49m\u001b[43margs\u001b[49m\u001b[43m,\u001b[49m\n\u001b[0;32m   1773\u001b[0m \u001b[43m        \u001b[49m\u001b[43mresume_from_checkpoint\u001b[49m\u001b[38;5;241;43m=\u001b[39;49m\u001b[43mresume_from_checkpoint\u001b[49m\u001b[43m,\u001b[49m\n\u001b[0;32m   1774\u001b[0m \u001b[43m        \u001b[49m\u001b[43mtrial\u001b[49m\u001b[38;5;241;43m=\u001b[39;49m\u001b[43mtrial\u001b[49m\u001b[43m,\u001b[49m\n\u001b[0;32m   1775\u001b[0m \u001b[43m        \u001b[49m\u001b[43mignore_keys_for_eval\u001b[49m\u001b[38;5;241;43m=\u001b[39;49m\u001b[43mignore_keys_for_eval\u001b[49m\u001b[43m,\u001b[49m\n\u001b[0;32m   1776\u001b[0m \u001b[43m    \u001b[49m\u001b[43m)\u001b[49m\n\u001b[0;32m   1777\u001b[0m \u001b[38;5;28;01mfinally\u001b[39;00m:\n\u001b[0;32m   1778\u001b[0m     hf_hub_utils\u001b[38;5;241m.\u001b[39menable_progress_bars()\n",
      "File \u001b[1;32m~\\AppData\\Roaming\\Python\\Python312\\site-packages\\transformers\\trainer.py:2123\u001b[0m, in \u001b[0;36mTrainer._inner_training_loop\u001b[1;34m(self, batch_size, args, resume_from_checkpoint, trial, ignore_keys_for_eval)\u001b[0m\n\u001b[0;32m   2117\u001b[0m \u001b[38;5;28;01mwith\u001b[39;00m \u001b[38;5;28mself\u001b[39m\u001b[38;5;241m.\u001b[39maccelerator\u001b[38;5;241m.\u001b[39maccumulate(model):\n\u001b[0;32m   2118\u001b[0m     tr_loss_step \u001b[38;5;241m=\u001b[39m \u001b[38;5;28mself\u001b[39m\u001b[38;5;241m.\u001b[39mtraining_step(model, inputs)\n\u001b[0;32m   2120\u001b[0m \u001b[38;5;28;01mif\u001b[39;00m (\n\u001b[0;32m   2121\u001b[0m     args\u001b[38;5;241m.\u001b[39mlogging_nan_inf_filter\n\u001b[0;32m   2122\u001b[0m     \u001b[38;5;129;01mand\u001b[39;00m \u001b[38;5;129;01mnot\u001b[39;00m is_torch_xla_available()\n\u001b[1;32m-> 2123\u001b[0m     \u001b[38;5;129;01mand\u001b[39;00m (torch\u001b[38;5;241m.\u001b[39misnan(tr_loss_step) \u001b[38;5;129;01mor\u001b[39;00m torch\u001b[38;5;241m.\u001b[39misinf(tr_loss_step))\n\u001b[0;32m   2124\u001b[0m ):\n\u001b[0;32m   2125\u001b[0m     \u001b[38;5;66;03m# if loss is nan or inf simply add the average of previous logged losses\u001b[39;00m\n\u001b[0;32m   2126\u001b[0m     tr_loss \u001b[38;5;241m+\u001b[39m\u001b[38;5;241m=\u001b[39m tr_loss \u001b[38;5;241m/\u001b[39m (\u001b[38;5;241m1\u001b[39m \u001b[38;5;241m+\u001b[39m \u001b[38;5;28mself\u001b[39m\u001b[38;5;241m.\u001b[39mstate\u001b[38;5;241m.\u001b[39mglobal_step \u001b[38;5;241m-\u001b[39m \u001b[38;5;28mself\u001b[39m\u001b[38;5;241m.\u001b[39m_globalstep_last_logged)\n\u001b[0;32m   2127\u001b[0m \u001b[38;5;28;01melse\u001b[39;00m:\n",
      "File \u001b[1;32mD:\\anaconda3\\envs\\torch-gpu\\Lib\\site-packages\\torch\\utils\\_device.py:78\u001b[0m, in \u001b[0;36mDeviceContext.__torch_function__\u001b[1;34m(self, func, types, args, kwargs)\u001b[0m\n\u001b[0;32m     76\u001b[0m \u001b[38;5;28;01mif\u001b[39;00m func \u001b[38;5;129;01min\u001b[39;00m _device_constructors() \u001b[38;5;129;01mand\u001b[39;00m kwargs\u001b[38;5;241m.\u001b[39mget(\u001b[38;5;124m'\u001b[39m\u001b[38;5;124mdevice\u001b[39m\u001b[38;5;124m'\u001b[39m) \u001b[38;5;129;01mis\u001b[39;00m \u001b[38;5;28;01mNone\u001b[39;00m:\n\u001b[0;32m     77\u001b[0m     kwargs[\u001b[38;5;124m'\u001b[39m\u001b[38;5;124mdevice\u001b[39m\u001b[38;5;124m'\u001b[39m] \u001b[38;5;241m=\u001b[39m \u001b[38;5;28mself\u001b[39m\u001b[38;5;241m.\u001b[39mdevice\n\u001b[1;32m---> 78\u001b[0m \u001b[38;5;28;01mreturn\u001b[39;00m \u001b[43mfunc\u001b[49m\u001b[43m(\u001b[49m\u001b[38;5;241;43m*\u001b[39;49m\u001b[43margs\u001b[49m\u001b[43m,\u001b[49m\u001b[43m \u001b[49m\u001b[38;5;241;43m*\u001b[39;49m\u001b[38;5;241;43m*\u001b[39;49m\u001b[43mkwargs\u001b[49m\u001b[43m)\u001b[49m\n",
      "\u001b[1;31mKeyboardInterrupt\u001b[0m: "
     ]
    }
   ],
   "source": [
    "import pandas as pd\n",
    "import numpy as np\n",
    "import torch\n",
    "from transformers import AutoTokenizer, DataCollatorWithPadding, AutoModelForSequenceClassification, TrainingArguments, Trainer\n",
    "from datasets import Dataset, load_dataset, load_metric\n",
    "from huggingface_hub import notebook_login\n",
    "\n",
    "torch.set_default_device('cpu')\n",
    "\n",
    "\n",
    "df = pd.read_csv('output.csv')\n",
    "df = pd.DataFrame(df)\n",
    "train=df.sample(frac=0.8,random_state=333)\n",
    "test=df.drop(train.index)\n",
    "\n",
    "# # Print the number of empty values\n",
    "# print(\"Number of empty values in train 'review' column:\", train['review'].isna().sum())\n",
    "# print(\"Number of empty values in test 'review' column:\", test['review'].isna().sum())\n",
    "\n",
    "train_dataset = Dataset.from_pandas(train)\n",
    "test_dataset = Dataset.from_pandas(test)\n",
    "\n",
    "tokenizer = AutoTokenizer.from_pretrained(\"distilbert-base-uncased\")\n",
    "\n",
    "def preprocess_function(examples):\n",
    "   return tokenizer(examples['text'], truncation=True)\n",
    "\n",
    "tokenized_train = train_dataset.map(preprocess_function)\n",
    "tokenized_test = test_dataset.map(preprocess_function)\n",
    "\n",
    "data_collator = DataCollatorWithPadding(tokenizer=tokenizer)\n",
    "model = AutoModelForSequenceClassification.from_pretrained(\"distilbert-base-uncased\", num_labels=2)\n",
    "\n",
    "def compute_metrics(eval_pred):\n",
    "   load_accuracy = load_metric(\"accuracy\")\n",
    "   load_f1 = load_metric(\"f1\")\n",
    "  \n",
    "   logits, labels = eval_pred\n",
    "   predictions = np.argmax(logits, axis=-1)\n",
    "   accuracy = load_accuracy.compute(predictions=predictions, references=labels)[\"accuracy\"]\n",
    "   f1 = load_f1.compute(predictions=predictions, references=labels)[\"f1\"]\n",
    "   return {\"accuracy\": accuracy, \"f1\": f1}\n",
    "    \n",
    "repo_name = \"finetuning-distilbert-model-steam-game-reviews\"\n",
    " \n",
    "training_args = TrainingArguments(\n",
    "   output_dir=repo_name,\n",
    "   learning_rate=2e-5,\n",
    "   per_device_train_batch_size=16,\n",
    "   per_device_eval_batch_size=16,\n",
    "   num_train_epochs=2,\n",
    "   weight_decay=0.01,\n",
    "   save_strategy=\"epoch\",\n",
    "   push_to_hub=True,\n",
    ")\n",
    " \n",
    "trainer = Trainer(\n",
    "   model=model,\n",
    "   args=training_args,\n",
    "   train_dataset=tokenized_train,\n",
    "   eval_dataset=tokenized_test,\n",
    "   tokenizer=tokenizer,\n",
    "   data_collator=data_collator,\n",
    "   compute_metrics=compute_metrics,\n",
    ")\n",
    "\n",
    "trainer.train()\n",
    "trainer.evaluate()\n",
    "trainer.push_to_hub()"
   ]
  },
  {
   "cell_type": "code",
   "execution_count": 2,
   "id": "d9289418-6457-49ba-b82d-71755c646cc4",
   "metadata": {
    "collapsed": true,
    "jupyter": {
     "outputs_hidden": true
    },
    "scrolled": true
   },
   "outputs": [
    {
     "data": {
      "application/vnd.jupyter.widget-view+json": {
       "model_id": "8c13f8336b2e4b6aaaa1979f8d8e040e",
       "version_major": 2,
       "version_minor": 0
      },
      "text/plain": [
       "config.json:   0%|          | 0.00/615 [00:00<?, ?B/s]"
      ]
     },
     "metadata": {},
     "output_type": "display_data"
    },
    {
     "name": "stderr",
     "output_type": "stream",
     "text": [
      "C:\\Users\\reapy\\AppData\\Roaming\\Python\\Python312\\site-packages\\huggingface_hub\\file_download.py:148: UserWarning: `huggingface_hub` cache-system uses symlinks by default to efficiently store duplicated files but your machine does not support them in C:\\Users\\reapy\\.cache\\huggingface\\hub\\models--zitroeth--finetuning-distilbert-model-steam-game-reviews. Caching files will still work but in a degraded version that might require more space on your disk. This warning can be disabled by setting the `HF_HUB_DISABLE_SYMLINKS_WARNING` environment variable. For more details, see https://huggingface.co/docs/huggingface_hub/how-to-cache#limitations.\n",
      "To support symlinks on Windows, you either need to activate Developer Mode or to run Python as an administrator. In order to see activate developer mode, see this article: https://docs.microsoft.com/en-us/windows/apps/get-started/enable-your-device-for-development\n",
      "  warnings.warn(message)\n"
     ]
    },
    {
     "data": {
      "application/vnd.jupyter.widget-view+json": {
       "model_id": "2a03c7b3e88d418e832267e0c8952d5c",
       "version_major": 2,
       "version_minor": 0
      },
      "text/plain": [
       "model.safetensors:   0%|          | 0.00/268M [00:00<?, ?B/s]"
      ]
     },
     "metadata": {},
     "output_type": "display_data"
    },
    {
     "data": {
      "application/vnd.jupyter.widget-view+json": {
       "model_id": "9fe0780664594279b8ce0a03c46e2041",
       "version_major": 2,
       "version_minor": 0
      },
      "text/plain": [
       "tokenizer_config.json:   0%|          | 0.00/1.22k [00:00<?, ?B/s]"
      ]
     },
     "metadata": {},
     "output_type": "display_data"
    },
    {
     "data": {
      "application/vnd.jupyter.widget-view+json": {
       "model_id": "1589d25939674af0986327a7ab8d0964",
       "version_major": 2,
       "version_minor": 0
      },
      "text/plain": [
       "vocab.txt:   0%|          | 0.00/232k [00:00<?, ?B/s]"
      ]
     },
     "metadata": {},
     "output_type": "display_data"
    },
    {
     "data": {
      "application/vnd.jupyter.widget-view+json": {
       "model_id": "b8d8ae9469d9490e8ec1dd74f024cb2c",
       "version_major": 2,
       "version_minor": 0
      },
      "text/plain": [
       "tokenizer.json:   0%|          | 0.00/711k [00:00<?, ?B/s]"
      ]
     },
     "metadata": {},
     "output_type": "display_data"
    },
    {
     "data": {
      "application/vnd.jupyter.widget-view+json": {
       "model_id": "81e72be064ed4282a86afb6236c4217a",
       "version_major": 2,
       "version_minor": 0
      },
      "text/plain": [
       "special_tokens_map.json:   0%|          | 0.00/125 [00:00<?, ?B/s]"
      ]
     },
     "metadata": {},
     "output_type": "display_data"
    },
    {
     "data": {
      "text/plain": [
       "[{'label': 'LABEL_1', 'score': 0.9984083771705627}]"
      ]
     },
     "execution_count": 2,
     "metadata": {},
     "output_type": "execute_result"
    }
   ],
   "source": [
    "from transformers import pipeline\n",
    "sentiment_model = pipeline(model=\"zitroeth/finetuning-distilbert-model-steam-game-reviews\")\n",
    "sentiment_model([\"It’s astonishing how much has been packed into Palworld given its Early Access status. Sure, the developers will probably expand the world, add in more Pals, and grow the story, too. But what we have here is already great, and features so many small details you’ll be amazed at what you discover. It’s a little rough around the edges in places, but the blueprint and starting product are more than enough to keep you going. With a dedicated community, Palworld can only get better. Is it a Pokemon beater? Probably not, but it deserves its place in the conversation.\"])"
   ]
  },
  {
   "cell_type": "markdown",
   "id": "b536548d-e15b-4586-bd3a-1638dcad708e",
   "metadata": {},
   "source": [
    "## Importing the Required Libraries"
   ]
  },
  {
   "cell_type": "code",
   "execution_count": 96,
   "id": "7abc953a-afd5-4337-bc04-6cf96efdc597",
   "metadata": {
    "scrolled": true
   },
   "outputs": [
    {
     "name": "stderr",
     "output_type": "stream",
     "text": [
      "[nltk_data] Downloading package stopwords to\n",
      "[nltk_data]     C:\\Users\\reapy\\AppData\\Roaming\\nltk_data...\n",
      "[nltk_data]   Package stopwords is already up-to-date!\n"
     ]
    }
   ],
   "source": [
    "import nltk\n",
    "nltk.download(\"stopwords\")\n",
    "import numpy as np\n",
    "import json\n",
    "import glob\n",
    "\n",
    "#Gensim\n",
    "import gensim\n",
    "import gensim.corpora as corpora\n",
    "from gensim.utils import simple_preprocess\n",
    "from gensim.models import CoherenceModel\n",
    "\n",
    "#Spacy\n",
    "import spacy\n",
    "from nltk.corpus import stopwords\n",
    "# !python -m spacy download en\n",
    "#vis\n",
    "import pyLDAvis\n",
    "import pyLDAvis.gensim_models"
   ]
  },
  {
   "cell_type": "code",
   "execution_count": 97,
   "id": "4a434d1b-2b76-4870-9599-f5068774235f",
   "metadata": {},
   "outputs": [],
   "source": [
    "import logging\n",
    "logging.basicConfig(format='%(asctime)s : %(levelname)s : %(message)s', level=logging.INFO)"
   ]
  },
  {
   "cell_type": "markdown",
   "id": "c30e4408-5904-4cfe-8781-b2d54e538e05",
   "metadata": {},
   "source": [
    "## Preparing the Data"
   ]
  },
  {
   "cell_type": "code",
   "execution_count": 98,
   "id": "e7f30184-fef0-46d4-9274-ab27d8a9cc95",
   "metadata": {},
   "outputs": [],
   "source": [
    "def load_data(file):\n",
    "    with open (file, \"r\", encoding=\"utf-8\") as f:\n",
    "        data = json.load(f, strict=False) \n",
    "    return (data)\n",
    "\n",
    "def write_data(file, data):\n",
    "    with open (file, \"w\", encoding=\"utf-8\") as f:\n",
    "        json.dump(data, f, indent=4)"
   ]
  },
  {
   "cell_type": "code",
   "execution_count": 99,
   "id": "a9ee658d-6fab-4e36-9921-6a789239a750",
   "metadata": {},
   "outputs": [
    {
     "name": "stdout",
     "output_type": "stream",
     "text": [
      "['i', 'me', 'my', 'myself', 'we', 'our', 'ours', 'ourselves', 'you', \"you're\", \"you've\", \"you'll\", \"you'd\", 'your', 'yours', 'yourself', 'yourselves', 'he', 'him', 'his', 'himself', 'she', \"she's\", 'her', 'hers', 'herself', 'it', \"it's\", 'its', 'itself', 'they', 'them', 'their', 'theirs', 'themselves', 'what', 'which', 'who', 'whom', 'this', 'that', \"that'll\", 'these', 'those', 'am', 'is', 'are', 'was', 'were', 'be', 'been', 'being', 'have', 'has', 'had', 'having', 'do', 'does', 'did', 'doing', 'a', 'an', 'the', 'and', 'but', 'if', 'or', 'because', 'as', 'until', 'while', 'of', 'at', 'by', 'for', 'with', 'about', 'against', 'between', 'into', 'through', 'during', 'before', 'after', 'above', 'below', 'to', 'from', 'up', 'down', 'in', 'out', 'on', 'off', 'over', 'under', 'again', 'further', 'then', 'once', 'here', 'there', 'when', 'where', 'why', 'how', 'all', 'any', 'both', 'each', 'few', 'more', 'most', 'other', 'some', 'such', 'no', 'nor', 'not', 'only', 'own', 'same', 'so', 'than', 'too', 'very', 's', 't', 'can', 'will', 'just', 'don', \"don't\", 'should', \"should've\", 'now', 'd', 'll', 'm', 'o', 're', 've', 'y', 'ain', 'aren', \"aren't\", 'couldn', \"couldn't\", 'didn', \"didn't\", 'doesn', \"doesn't\", 'hadn', \"hadn't\", 'hasn', \"hasn't\", 'haven', \"haven't\", 'isn', \"isn't\", 'ma', 'mightn', \"mightn't\", 'mustn', \"mustn't\", 'needn', \"needn't\", 'shan', \"shan't\", 'shouldn', \"shouldn't\", 'wasn', \"wasn't\", 'weren', \"weren't\", 'won', \"won't\", 'wouldn', \"wouldn't\"]\n"
     ]
    }
   ],
   "source": [
    "stopwords = stopwords.words(\"english\")\n",
    "print(stopwords)"
   ]
  },
  {
   "cell_type": "code",
   "execution_count": 100,
   "id": "e525c207-d16d-44a3-bb7c-97442d297bf6",
   "metadata": {},
   "outputs": [
    {
     "name": "stdout",
     "output_type": "stream",
     "text": [
      "There was a review a long time ago saying you should buy extra copies and give it to people who look sad.\n",
      "\n",
      "I was one of those sad people.\n",
      "\n",
      "Was.\n"
     ]
    }
   ],
   "source": [
    "data = load_data(\"game_reviews.json\")\n",
    "\n",
    "print (data[1][2])"
   ]
  },
  {
   "cell_type": "code",
   "execution_count": 101,
   "id": "62598d67-945a-434e-987a-2f44c4d81776",
   "metadata": {
    "scrolled": true
   },
   "outputs": [
    {
     "name": "stdout",
     "output_type": "stream",
     "text": [
      "review long time ago say buy extra copy people look sad sad people\n"
     ]
    }
   ],
   "source": [
    "def lemmatization(texts, allowed_postags=[\"NOUN\", \"ADJ\", \"VERB\", \"ADV\"]):\n",
    "    nlp = spacy.load(\"en_core_web_sm\", disable=[\"parser\", \"ner\"])\n",
    "    texts_out = []\n",
    "    for text in texts:\n",
    "        doc = nlp(text[2])\n",
    "        new_text = []\n",
    "        for token in doc:\n",
    "            if token.pos_ in allowed_postags and not token.is_stop:\n",
    "                new_text.append(token.lemma_)\n",
    "        final = \" \".join(new_text)\n",
    "        texts_out.append(final)\n",
    "    return (texts_out)\n",
    "\n",
    "\n",
    "lemmatized_texts = lemmatization(data)\n",
    "print (lemmatized_texts[1])"
   ]
  },
  {
   "cell_type": "code",
   "execution_count": 102,
   "id": "50283d12-5f51-4ef4-a9c3-e39dd03ff2df",
   "metadata": {},
   "outputs": [
    {
     "name": "stdout",
     "output_type": "stream",
     "text": [
      "['goosebump', 'arm', 'hair', 'raise', 'survival', 'zombie', 'slayer', 'decent', 'story', 'great', 'scenery']\n"
     ]
    }
   ],
   "source": [
    "def gen_words(texts):\n",
    "    final = []\n",
    "    for text in texts:\n",
    "        new = gensim.utils.simple_preprocess(text, deacc=True)\n",
    "        final.append(new)\n",
    "    return (final)\n",
    "\n",
    "data_words = gen_words(lemmatized_texts)\n",
    "\n",
    "print (data_words[3114])"
   ]
  },
  {
   "cell_type": "code",
   "execution_count": 103,
   "id": "7e2e40af-65bc-40d0-9d4a-4514612f40c6",
   "metadata": {
    "scrolled": true
   },
   "outputs": [
    {
     "name": "stderr",
     "output_type": "stream",
     "text": [
      "2024-04-29 05:00:21,735 : INFO : collecting all words and their counts\n",
      "2024-04-29 05:00:21,736 : INFO : PROGRESS: at sentence #0, processed 0 words and 0 word types\n",
      "2024-04-29 05:00:22,282 : INFO : PROGRESS: at sentence #10000, processed 314499 words and 205428 word types\n",
      "2024-04-29 05:00:23,349 : INFO : PROGRESS: at sentence #20000, processed 843415 words and 466977 word types\n",
      "2024-04-29 05:00:24,201 : INFO : collected 689506 token types (unigram + bigrams) from a corpus of 1362942 words and 27935 sentences\n",
      "2024-04-29 05:00:24,201 : INFO : merged Phrases<689506 vocab, min_count=5, threshold=50, max_vocab_size=40000000>\n",
      "2024-04-29 05:00:24,202 : INFO : Phrases lifecycle event {'msg': 'built Phrases<689506 vocab, min_count=5, threshold=50, max_vocab_size=40000000> in 2.47s', 'datetime': '2024-04-29T05:00:24.202656', 'gensim': '4.3.2', 'python': '3.12.3 | packaged by conda-forge | (main, Apr 15 2024, 18:20:11) [MSC v.1938 64 bit (AMD64)]', 'platform': 'Windows-10-10.0.19045-SP0', 'event': 'created'}\n",
      "2024-04-29 05:00:24,245 : INFO : collecting all words and their counts\n",
      "2024-04-29 05:00:24,246 : INFO : PROGRESS: at sentence #0, processed 0 words and 0 word types\n",
      "2024-04-29 05:00:25,507 : INFO : PROGRESS: at sentence #10000, processed 305281 words and 207509 word types\n",
      "2024-04-29 05:00:27,955 : INFO : PROGRESS: at sentence #20000, processed 820045 words and 474755 word types\n",
      "2024-04-29 05:00:30,488 : INFO : collected 702988 token types (unigram + bigrams) from a corpus of 1326208 words and 27935 sentences\n",
      "2024-04-29 05:00:30,489 : INFO : merged Phrases<702988 vocab, min_count=5, threshold=100, max_vocab_size=40000000>\n",
      "2024-04-29 05:00:30,490 : INFO : Phrases lifecycle event {'msg': 'built Phrases<702988 vocab, min_count=5, threshold=100, max_vocab_size=40000000> in 6.24s', 'datetime': '2024-04-29T05:00:30.490269', 'gensim': '4.3.2', 'python': '3.12.3 | packaged by conda-forge | (main, Apr 15 2024, 18:20:11) [MSC v.1938 64 bit (AMD64)]', 'platform': 'Windows-10-10.0.19045-SP0', 'event': 'created'}\n",
      "2024-04-29 05:00:30,530 : INFO : exporting phrases from Phrases<689506 vocab, min_count=5, threshold=50, max_vocab_size=40000000>\n",
      "2024-04-29 05:00:32,621 : INFO : FrozenPhrases lifecycle event {'msg': 'exported FrozenPhrases<1411 phrases, min_count=5, threshold=50> from Phrases<689506 vocab, min_count=5, threshold=50, max_vocab_size=40000000> in 2.09s', 'datetime': '2024-04-29T05:00:32.621683', 'gensim': '4.3.2', 'python': '3.12.3 | packaged by conda-forge | (main, Apr 15 2024, 18:20:11) [MSC v.1938 64 bit (AMD64)]', 'platform': 'Windows-10-10.0.19045-SP0', 'event': 'created'}\n",
      "2024-04-29 05:00:32,622 : INFO : exporting phrases from Phrases<702988 vocab, min_count=5, threshold=100, max_vocab_size=40000000>\n",
      "2024-04-29 05:00:34,494 : INFO : FrozenPhrases lifecycle event {'msg': 'exported FrozenPhrases<1147 phrases, min_count=5, threshold=100> from Phrases<702988 vocab, min_count=5, threshold=100, max_vocab_size=40000000> in 1.87s', 'datetime': '2024-04-29T05:00:34.494908', 'gensim': '4.3.2', 'python': '3.12.3 | packaged by conda-forge | (main, Apr 15 2024, 18:20:11) [MSC v.1938 64 bit (AMD64)]', 'platform': 'Windows-10-10.0.19045-SP0', 'event': 'created'}\n"
     ]
    },
    {
     "name": "stdout",
     "output_type": "stream",
     "text": [
      "['play', 'game', 'hour', 'get', 'bored']\n"
     ]
    }
   ],
   "source": [
    "# BIGRAM and TRIGRAM\n",
    "bigram_phrases = gensim.models.Phrases(data_words, min_count=5, threshold=50) # higher threshold fewer phrases.\n",
    "trigram_phrases = gensim.models.Phrases(bigram_phrases[data_words], threshold=100)  \n",
    "\n",
    "bigram = gensim.models.phrases.Phraser(bigram_phrases)\n",
    "trigram = gensim.models.phrases.Phraser(trigram_phrases)\n",
    "\n",
    "def make_bigrams(texts):\n",
    "    return ([bigram[doc] for doc in texts])\n",
    "\n",
    "def make_trigrams(texts):\n",
    "    return ([trigram[bigram[doc]] for doc in texts])\n",
    "\n",
    "data_bigrams = make_bigrams(data_words)\n",
    "data_bigrams_trigrams = make_trigrams(data_bigrams)\n",
    "\n",
    "print(data_bigrams_trigrams[0])"
   ]
  },
  {
   "cell_type": "code",
   "execution_count": 104,
   "id": "84ce4318-809e-4dbe-b853-39531bb94481",
   "metadata": {},
   "outputs": [
    {
     "name": "stderr",
     "output_type": "stream",
     "text": [
      "2024-04-29 05:00:39,724 : INFO : adding document #0 to Dictionary<0 unique tokens: []>\n",
      "2024-04-29 05:00:40,144 : INFO : adding document #10000 to Dictionary<15232 unique tokens: ['bored', 'game', 'get', 'hour', 'play']...>\n",
      "2024-04-29 05:00:40,834 : INFO : adding document #20000 to Dictionary<24598 unique tokens: ['bored', 'game', 'get', 'hour', 'play']...>\n",
      "2024-04-29 05:00:41,505 : INFO : built Dictionary<30730 unique tokens: ['bored', 'game', 'get', 'hour', 'play']...> from 27935 documents (total 1321816 corpus positions)\n",
      "2024-04-29 05:00:41,505 : INFO : Dictionary lifecycle event {'msg': \"built Dictionary<30730 unique tokens: ['bored', 'game', 'get', 'hour', 'play']...> from 27935 documents (total 1321816 corpus positions)\", 'datetime': '2024-04-29T05:00:41.505484', 'gensim': '4.3.2', 'python': '3.12.3 | packaged by conda-forge | (main, Apr 15 2024, 18:20:11) [MSC v.1938 64 bit (AMD64)]', 'platform': 'Windows-10-10.0.19045-SP0', 'event': 'created'}\n",
      "2024-04-29 05:00:42,698 : INFO : collecting document frequencies\n",
      "2024-04-29 05:00:42,699 : INFO : PROGRESS: processing document #0\n",
      "2024-04-29 05:00:42,749 : INFO : PROGRESS: processing document #10000\n",
      "2024-04-29 05:00:42,836 : INFO : PROGRESS: processing document #20000\n"
     ]
    },
    {
     "name": "stdout",
     "output_type": "stream",
     "text": [
      "[(0, 1), (1, 1), (2, 1), (3, 1), (4, 1)]\n"
     ]
    },
    {
     "name": "stderr",
     "output_type": "stream",
     "text": [
      "2024-04-29 05:00:43,045 : INFO : TfidfModel lifecycle event {'msg': 'calculated IDF weights for 27935 documents and 30730 features (985739 matrix non-zeros)', 'datetime': '2024-04-29T05:00:43.045980', 'gensim': '4.3.2', 'python': '3.12.3 | packaged by conda-forge | (main, Apr 15 2024, 18:20:11) [MSC v.1938 64 bit (AMD64)]', 'platform': 'Windows-10-10.0.19045-SP0', 'event': 'initialize'}\n"
     ]
    }
   ],
   "source": [
    "#TF-IDF Removal\n",
    "from gensim.models import TfidfModel\n",
    "\n",
    "id2word = corpora.Dictionary(data_bigrams_trigrams)\n",
    "\n",
    "texts = data_bigrams_trigrams\n",
    "\n",
    "corpus = [id2word.doc2bow(text) for text in texts]\n",
    "print(corpus[0])\n",
    "\n",
    "tfidf = TfidfModel(corpus, id2word=id2word)\n",
    "\n",
    "low_value=0.020\n",
    "words = []\n",
    "words_missing_in_tfidf = []\n",
    "for i in range(0, len(corpus)):\n",
    "    bow = corpus[i]\n",
    "    low_value_words = [] #reinitialize to be safe. You can skip this.\n",
    "    tfidf_ids = [id for id, value in tfidf[bow]]\n",
    "    bow_ids = [id for id, value in bow]\n",
    "    low_value_words = [id for id, value in tfidf[bow] if value < low_value]\n",
    "    drops = low_value_words + words_missing_in_tfidf\n",
    "    for item in drops:\n",
    "        words.append(id2word[item])\n",
    "    words_missing_in_tfidf = [id for id in bow_ids if id not in tfidf_ids] # The words with tf-idf socre 0 will be missing\n",
    "\n",
    "    new_bow = [b for b in bow if b[0] not in low_value_words and b[0] not in words_missing_in_tfidf]  \n",
    "    corpus[i] = new_bow"
   ]
  },
  {
   "cell_type": "code",
   "execution_count": 105,
   "id": "472f0038-2e92-4628-9a89-8bac58c2f109",
   "metadata": {},
   "outputs": [],
   "source": [
    "# # id2word = corpora.Dictionary(data_words)\n",
    "# data_words = data_bigrams_trigrams\n",
    "# id2word = corpora.Dictionary(data_words)\n",
    "\n",
    "\n",
    "# corpus = []\n",
    "# for text in data_words:\n",
    "#     new = id2word.doc2bow(text)\n",
    "#     corpus.append(new)\n",
    "\n",
    "# print (corpus[1])\n",
    "\n",
    "# word = id2word[[0][:1][0]]\n",
    "# print (word)"
   ]
  },
  {
   "cell_type": "code",
   "execution_count": 106,
   "id": "db4e88ee-0c2c-4424-a073-036ce99ffea4",
   "metadata": {},
   "outputs": [
    {
     "name": "stdout",
     "output_type": "stream",
     "text": [
      "27935\n"
     ]
    }
   ],
   "source": [
    "print (len(corpus))"
   ]
  },
  {
   "cell_type": "code",
   "execution_count": 107,
   "id": "cc07014c-c194-4acc-b9fc-cd004be1f4dc",
   "metadata": {
    "scrolled": true
   },
   "outputs": [
    {
     "name": "stderr",
     "output_type": "stream",
     "text": [
      "2024-04-29 05:00:48,535 : INFO : using autotuned alpha, starting with [0.1, 0.1, 0.1, 0.1, 0.1, 0.1, 0.1, 0.1, 0.1, 0.1]\n",
      "2024-04-29 05:00:48,536 : INFO : using symmetric eta at 0.1\n",
      "2024-04-29 05:00:48,543 : INFO : using serial LDA version on this node\n",
      "2024-04-29 05:00:48,585 : INFO : running online (multi-pass) LDA training, 10 topics, 30 passes over the supplied corpus of 27935 documents, updating model once every 27935 documents, evaluating perplexity every 0 documents, iterating 50x with a convergence threshold of 0.001000\n",
      "2024-04-29 05:00:48,587 : INFO : PROGRESS: pass 0, at document #27935/27935\n",
      "2024-04-29 05:01:13,369 : INFO : optimized alpha [0.10735683, 0.08379872, 0.09760615, 0.095402345, 0.10471499, 0.100270875, 0.10102429, 0.098011605, 0.095030904, 0.09782151]\n",
      "2024-04-29 05:01:13,417 : INFO : topic #1 (0.084): 0.036*\"game\" + 0.008*\"survival\" + 0.007*\"feel\" + 0.007*\"play\" + 0.005*\"come\" + 0.005*\"great\" + 0.005*\"enjoy\" + 0.004*\"fun\" + 0.004*\"thing\" + 0.004*\"build\"\n",
      "2024-04-29 05:01:13,418 : INFO : topic #8 (0.095): 0.047*\"game\" + 0.010*\"time\" + 0.009*\"find\" + 0.008*\"need\" + 0.008*\"play\" + 0.007*\"build\" + 0.006*\"love\" + 0.006*\"base\" + 0.006*\"hour\" + 0.005*\"survival\"\n",
      "2024-04-29 05:01:13,419 : INFO : topic #6 (0.101): 0.045*\"game\" + 0.010*\"play\" + 0.009*\"feel\" + 0.008*\"thing\" + 0.007*\"time\" + 0.006*\"world\" + 0.006*\"good\" + 0.006*\"want\" + 0.006*\"work\" + 0.005*\"way\"\n",
      "2024-04-29 05:01:13,421 : INFO : topic #4 (0.105): 0.050*\"game\" + 0.019*\"play\" + 0.009*\"good\" + 0.009*\"time\" + 0.007*\"need\" + 0.007*\"thing\" + 0.006*\"player\" + 0.006*\"get\" + 0.006*\"lot\" + 0.006*\"want\"\n",
      "2024-04-29 05:01:13,422 : INFO : topic #0 (0.107): 0.043*\"game\" + 0.019*\"fun\" + 0.011*\"time\" + 0.009*\"play\" + 0.007*\"craft\" + 0.007*\"good\" + 0.007*\"go\" + 0.006*\"survival\" + 0.006*\"get\" + 0.006*\"thing\"\n",
      "2024-04-29 05:01:13,424 : INFO : topic diff=5.440588, rho=1.000000\n",
      "2024-04-29 05:01:13,427 : INFO : PROGRESS: pass 1, at document #27935/27935\n",
      "2024-04-29 05:01:34,568 : INFO : optimized alpha [0.105538845, 0.07267136, 0.0910448, 0.08749868, 0.09946592, 0.09415774, 0.095914625, 0.08883715, 0.08626445, 0.08830167]\n",
      "2024-04-29 05:01:34,611 : INFO : topic #1 (0.073): 0.034*\"game\" + 0.008*\"survival\" + 0.007*\"feel\" + 0.006*\"play\" + 0.005*\"come\" + 0.005*\"enjoy\" + 0.005*\"great\" + 0.004*\"bad\" + 0.004*\"item\" + 0.004*\"fun\"\n",
      "2024-04-29 05:01:34,612 : INFO : topic #8 (0.086): 0.040*\"game\" + 0.010*\"time\" + 0.010*\"find\" + 0.008*\"need\" + 0.008*\"build\" + 0.006*\"base\" + 0.006*\"love\" + 0.006*\"play\" + 0.005*\"hour\" + 0.005*\"survival\"\n",
      "2024-04-29 05:01:34,613 : INFO : topic #6 (0.096): 0.044*\"game\" + 0.011*\"feel\" + 0.009*\"play\" + 0.008*\"thing\" + 0.007*\"time\" + 0.006*\"world\" + 0.006*\"way\" + 0.006*\"build\" + 0.005*\"work\" + 0.005*\"want\"\n",
      "2024-04-29 05:01:34,615 : INFO : topic #4 (0.099): 0.051*\"game\" + 0.021*\"play\" + 0.009*\"time\" + 0.009*\"good\" + 0.007*\"need\" + 0.007*\"thing\" + 0.006*\"get\" + 0.006*\"player\" + 0.006*\"lot\" + 0.006*\"want\"\n",
      "2024-04-29 05:01:34,616 : INFO : topic #0 (0.106): 0.042*\"game\" + 0.021*\"fun\" + 0.010*\"time\" + 0.009*\"play\" + 0.008*\"craft\" + 0.006*\"good\" + 0.006*\"go\" + 0.006*\"survival\" + 0.006*\"new\" + 0.006*\"thing\"\n",
      "2024-04-29 05:01:34,618 : INFO : topic diff=0.840239, rho=0.577350\n",
      "2024-04-29 05:01:34,621 : INFO : PROGRESS: pass 2, at document #27935/27935\n",
      "2024-04-29 05:01:55,855 : INFO : optimized alpha [0.10240943, 0.06526229, 0.087736115, 0.08169241, 0.093423024, 0.08956997, 0.09166403, 0.08094417, 0.08007666, 0.08069897]\n",
      "2024-04-29 05:01:55,900 : INFO : topic #1 (0.065): 0.033*\"game\" + 0.008*\"survival\" + 0.006*\"play\" + 0.006*\"feel\" + 0.005*\"enjoy\" + 0.005*\"come\" + 0.005*\"great\" + 0.004*\"bad\" + 0.004*\"realm\" + 0.004*\"good\"\n",
      "2024-04-29 05:01:55,901 : INFO : topic #8 (0.080): 0.034*\"game\" + 0.010*\"find\" + 0.009*\"time\" + 0.009*\"need\" + 0.008*\"build\" + 0.007*\"base\" + 0.005*\"love\" + 0.005*\"play\" + 0.005*\"die\" + 0.005*\"thing\"\n",
      "2024-04-29 05:01:55,902 : INFO : topic #6 (0.092): 0.044*\"game\" + 0.011*\"feel\" + 0.009*\"thing\" + 0.008*\"play\" + 0.007*\"time\" + 0.006*\"world\" + 0.006*\"way\" + 0.006*\"build\" + 0.005*\"good\" + 0.005*\"story\"\n",
      "2024-04-29 05:01:55,904 : INFO : topic #4 (0.093): 0.052*\"game\" + 0.023*\"play\" + 0.010*\"time\" + 0.009*\"good\" + 0.007*\"get\" + 0.007*\"need\" + 0.007*\"thing\" + 0.006*\"lot\" + 0.006*\"want\" + 0.006*\"player\"\n",
      "2024-04-29 05:01:55,905 : INFO : topic #0 (0.102): 0.041*\"game\" + 0.022*\"fun\" + 0.010*\"time\" + 0.010*\"craft\" + 0.008*\"play\" + 0.007*\"survival\" + 0.006*\"good\" + 0.006*\"new\" + 0.006*\"thing\" + 0.006*\"go\"\n",
      "2024-04-29 05:01:55,907 : INFO : topic diff=0.639160, rho=0.500000\n",
      "2024-04-29 05:01:55,910 : INFO : PROGRESS: pass 3, at document #27935/27935\n",
      "2024-04-29 05:02:16,941 : INFO : optimized alpha [0.09936604, 0.059916887, 0.08672934, 0.07741737, 0.08791875, 0.08631846, 0.088358305, 0.07476243, 0.07583021, 0.07495984]\n",
      "2024-04-29 05:02:16,994 : INFO : topic #1 (0.060): 0.031*\"game\" + 0.008*\"survival\" + 0.005*\"play\" + 0.005*\"feel\" + 0.005*\"enjoy\" + 0.004*\"come\" + 0.004*\"bad\" + 0.004*\"great\" + 0.004*\"realm\" + 0.004*\"eat\"\n",
      "2024-04-29 05:02:16,996 : INFO : topic #7 (0.075): 0.048*\"game\" + 0.012*\"good\" + 0.011*\"play\" + 0.008*\"time\" + 0.007*\"build\" + 0.007*\"craft\" + 0.007*\"like\" + 0.006*\"find\" + 0.006*\"item\" + 0.006*\"get\"\n",
      "2024-04-29 05:02:16,997 : INFO : topic #4 (0.088): 0.053*\"game\" + 0.024*\"play\" + 0.010*\"time\" + 0.008*\"good\" + 0.007*\"get\" + 0.007*\"thing\" + 0.007*\"need\" + 0.006*\"lot\" + 0.006*\"want\" + 0.006*\"start\"\n",
      "2024-04-29 05:02:16,998 : INFO : topic #6 (0.088): 0.044*\"game\" + 0.012*\"feel\" + 0.009*\"thing\" + 0.008*\"play\" + 0.007*\"time\" + 0.006*\"world\" + 0.006*\"way\" + 0.006*\"story\" + 0.006*\"build\" + 0.005*\"good\"\n",
      "2024-04-29 05:02:17,000 : INFO : topic #0 (0.099): 0.041*\"game\" + 0.023*\"fun\" + 0.011*\"craft\" + 0.010*\"time\" + 0.008*\"play\" + 0.007*\"survival\" + 0.006*\"good\" + 0.006*\"new\" + 0.006*\"thing\" + 0.006*\"player\"\n",
      "2024-04-29 05:02:17,002 : INFO : topic diff=0.476841, rho=0.447214\n",
      "2024-04-29 05:02:17,004 : INFO : PROGRESS: pass 4, at document #27935/27935\n",
      "2024-04-29 05:02:37,842 : INFO : optimized alpha [0.096598625, 0.055843297, 0.086993575, 0.074142486, 0.08329269, 0.08399414, 0.085761346, 0.06983072, 0.07286633, 0.07043619]\n",
      "2024-04-29 05:02:37,900 : INFO : topic #1 (0.056): 0.029*\"game\" + 0.007*\"survival\" + 0.005*\"play\" + 0.005*\"enjoy\" + 0.004*\"feel\" + 0.004*\"eat\" + 0.004*\"man\" + 0.004*\"bad\" + 0.004*\"come\" + 0.004*\"great\"\n",
      "2024-04-29 05:02:37,901 : INFO : topic #7 (0.070): 0.047*\"game\" + 0.012*\"good\" + 0.011*\"play\" + 0.007*\"time\" + 0.007*\"build\" + 0.007*\"like\" + 0.007*\"craft\" + 0.006*\"find\" + 0.006*\"item\" + 0.006*\"get\"\n",
      "2024-04-29 05:02:37,902 : INFO : topic #6 (0.086): 0.045*\"game\" + 0.012*\"feel\" + 0.009*\"thing\" + 0.008*\"play\" + 0.007*\"time\" + 0.006*\"world\" + 0.006*\"story\" + 0.006*\"way\" + 0.006*\"build\" + 0.006*\"good\"\n",
      "2024-04-29 05:02:37,903 : INFO : topic #2 (0.087): 0.094*\"game\" + 0.019*\"play\" + 0.012*\"bug\" + 0.010*\"grind\" + 0.009*\"love\" + 0.008*\"good\" + 0.008*\"fun\" + 0.008*\"year\" + 0.008*\"early_access\" + 0.008*\"hour\"\n",
      "2024-04-29 05:02:37,905 : INFO : topic #0 (0.097): 0.040*\"game\" + 0.023*\"fun\" + 0.011*\"craft\" + 0.009*\"time\" + 0.007*\"play\" + 0.007*\"survival\" + 0.006*\"good\" + 0.006*\"new\" + 0.006*\"thing\" + 0.006*\"player\"\n",
      "2024-04-29 05:02:37,906 : INFO : topic diff=0.360046, rho=0.408248\n",
      "2024-04-29 05:02:37,909 : INFO : PROGRESS: pass 5, at document #27935/27935\n",
      "2024-04-29 05:02:58,000 : INFO : optimized alpha [0.09410413, 0.05264634, 0.08794829, 0.07158609, 0.07948082, 0.08227616, 0.08373235, 0.06589942, 0.07066142, 0.06679395]\n",
      "2024-04-29 05:02:58,050 : INFO : topic #1 (0.053): 0.027*\"game\" + 0.006*\"survival\" + 0.005*\"man\" + 0.005*\"eat\" + 0.004*\"enjoy\" + 0.004*\"play\" + 0.004*\"bad\" + 0.004*\"feel\" + 0.004*\"come\" + 0.004*\"fish\"\n",
      "2024-04-29 05:02:58,052 : INFO : topic #7 (0.066): 0.046*\"game\" + 0.012*\"good\" + 0.010*\"play\" + 0.007*\"build\" + 0.007*\"like\" + 0.007*\"time\" + 0.007*\"craft\" + 0.006*\"item\" + 0.006*\"find\" + 0.006*\"get\"\n",
      "2024-04-29 05:02:58,053 : INFO : topic #6 (0.084): 0.045*\"game\" + 0.013*\"feel\" + 0.009*\"thing\" + 0.008*\"play\" + 0.007*\"time\" + 0.006*\"story\" + 0.006*\"way\" + 0.006*\"world\" + 0.006*\"build\" + 0.006*\"good\"\n",
      "2024-04-29 05:02:58,054 : INFO : topic #2 (0.088): 0.099*\"game\" + 0.020*\"play\" + 0.012*\"bug\" + 0.011*\"love\" + 0.010*\"grind\" + 0.009*\"fun\" + 0.009*\"good\" + 0.009*\"year\" + 0.009*\"early_access\" + 0.008*\"update\"\n",
      "2024-04-29 05:02:58,055 : INFO : topic #0 (0.094): 0.039*\"game\" + 0.022*\"fun\" + 0.012*\"craft\" + 0.009*\"time\" + 0.007*\"play\" + 0.007*\"survival\" + 0.006*\"new\" + 0.006*\"good\" + 0.006*\"player\" + 0.006*\"thing\"\n",
      "2024-04-29 05:02:58,058 : INFO : topic diff=0.277894, rho=0.377964\n",
      "2024-04-29 05:02:58,061 : INFO : PROGRESS: pass 6, at document #27935/27935\n",
      "2024-04-29 05:03:18,236 : INFO : optimized alpha [0.09191012, 0.05006477, 0.089278035, 0.06951514, 0.07632588, 0.08101477, 0.08210017, 0.06265536, 0.06895815, 0.06380053]\n",
      "2024-04-29 05:03:18,289 : INFO : topic #1 (0.050): 0.025*\"game\" + 0.006*\"man\" + 0.006*\"survival\" + 0.005*\"eat\" + 0.004*\"slavery\" + 0.004*\"fish\" + 0.004*\"scary\" + 0.004*\"racist\" + 0.004*\"enjoy\" + 0.004*\"bad\"\n",
      "2024-04-29 05:03:18,291 : INFO : topic #7 (0.063): 0.044*\"game\" + 0.011*\"good\" + 0.010*\"play\" + 0.008*\"like\" + 0.008*\"build\" + 0.007*\"time\" + 0.007*\"craft\" + 0.007*\"item\" + 0.006*\"island\" + 0.006*\"find\"\n",
      "2024-04-29 05:03:18,293 : INFO : topic #6 (0.082): 0.045*\"game\" + 0.013*\"feel\" + 0.009*\"thing\" + 0.008*\"play\" + 0.007*\"time\" + 0.006*\"story\" + 0.006*\"way\" + 0.006*\"world\" + 0.006*\"build\" + 0.006*\"good\"\n",
      "2024-04-29 05:03:18,295 : INFO : topic #2 (0.089): 0.102*\"game\" + 0.021*\"play\" + 0.012*\"bug\" + 0.012*\"love\" + 0.010*\"fun\" + 0.010*\"good\" + 0.010*\"grind\" + 0.009*\"update\" + 0.009*\"year\" + 0.009*\"early_access\"\n",
      "2024-04-29 05:03:18,298 : INFO : topic #0 (0.092): 0.039*\"game\" + 0.022*\"fun\" + 0.013*\"craft\" + 0.009*\"time\" + 0.007*\"survival\" + 0.007*\"play\" + 0.006*\"new\" + 0.006*\"item\" + 0.006*\"player\" + 0.006*\"thing\"\n",
      "2024-04-29 05:03:18,302 : INFO : topic diff=0.219162, rho=0.353553\n",
      "2024-04-29 05:03:18,312 : INFO : PROGRESS: pass 7, at document #27935/27935\n",
      "2024-04-29 05:03:42,617 : INFO : optimized alpha [0.09000676, 0.047908325, 0.090842016, 0.06780898, 0.07367805, 0.08005186, 0.08080592, 0.05993963, 0.067603506, 0.061279856]\n",
      "2024-04-29 05:03:42,667 : INFO : topic #1 (0.048): 0.023*\"game\" + 0.007*\"man\" + 0.007*\"slavery\" + 0.006*\"eat\" + 0.005*\"survival\" + 0.005*\"fish\" + 0.004*\"scary\" + 0.004*\"racist\" + 0.004*\"addictive\" + 0.004*\"check\"\n",
      "2024-04-29 05:03:42,669 : INFO : topic #7 (0.060): 0.043*\"game\" + 0.011*\"good\" + 0.009*\"play\" + 0.008*\"like\" + 0.008*\"build\" + 0.007*\"time\" + 0.007*\"island\" + 0.007*\"craft\" + 0.007*\"item\" + 0.006*\"find\"\n",
      "2024-04-29 05:03:42,670 : INFO : topic #6 (0.081): 0.046*\"game\" + 0.013*\"feel\" + 0.009*\"thing\" + 0.007*\"play\" + 0.007*\"time\" + 0.006*\"story\" + 0.006*\"way\" + 0.006*\"world\" + 0.006*\"build\" + 0.006*\"good\"\n",
      "2024-04-29 05:03:42,671 : INFO : topic #0 (0.090): 0.038*\"game\" + 0.022*\"fun\" + 0.013*\"craft\" + 0.009*\"time\" + 0.007*\"survival\" + 0.007*\"play\" + 0.006*\"item\" + 0.006*\"system\" + 0.006*\"player\" + 0.006*\"new\"\n",
      "2024-04-29 05:03:42,673 : INFO : topic #2 (0.091): 0.105*\"game\" + 0.023*\"play\" + 0.013*\"love\" + 0.012*\"bug\" + 0.012*\"fun\" + 0.011*\"good\" + 0.010*\"grind\" + 0.009*\"update\" + 0.009*\"hour\" + 0.009*\"early_access\"\n",
      "2024-04-29 05:03:42,674 : INFO : topic diff=0.176867, rho=0.333333\n",
      "2024-04-29 05:03:42,677 : INFO : PROGRESS: pass 8, at document #27935/27935\n",
      "2024-04-29 05:04:04,716 : INFO : optimized alpha [0.088299155, 0.046073172, 0.092492804, 0.06640251, 0.07142402, 0.07932349, 0.07978333, 0.057634596, 0.06649218, 0.059136696]\n",
      "2024-04-29 05:04:04,775 : INFO : topic #1 (0.046): 0.021*\"game\" + 0.009*\"slavery\" + 0.008*\"man\" + 0.006*\"eat\" + 0.005*\"fish\" + 0.005*\"racist\" + 0.005*\"scary\" + 0.004*\"survival\" + 0.004*\"addictive\" + 0.004*\"hate\"\n",
      "2024-04-29 05:04:04,776 : INFO : topic #7 (0.058): 0.042*\"game\" + 0.011*\"good\" + 0.009*\"play\" + 0.008*\"like\" + 0.008*\"island\" + 0.008*\"build\" + 0.007*\"time\" + 0.007*\"item\" + 0.007*\"craft\" + 0.006*\"find\"\n",
      "2024-04-29 05:04:04,778 : INFO : topic #6 (0.080): 0.046*\"game\" + 0.013*\"feel\" + 0.009*\"thing\" + 0.007*\"play\" + 0.007*\"time\" + 0.007*\"story\" + 0.006*\"way\" + 0.006*\"build\" + 0.006*\"world\" + 0.006*\"good\"\n",
      "2024-04-29 05:04:04,780 : INFO : topic #0 (0.088): 0.037*\"game\" + 0.022*\"fun\" + 0.014*\"craft\" + 0.009*\"time\" + 0.007*\"survival\" + 0.006*\"play\" + 0.006*\"item\" + 0.006*\"system\" + 0.006*\"player\" + 0.006*\"new\"\n",
      "2024-04-29 05:04:04,782 : INFO : topic #2 (0.092): 0.108*\"game\" + 0.023*\"play\" + 0.014*\"love\" + 0.012*\"fun\" + 0.012*\"bug\" + 0.011*\"good\" + 0.010*\"grind\" + 0.010*\"update\" + 0.010*\"hour\" + 0.009*\"early_access\"\n",
      "2024-04-29 05:04:04,784 : INFO : topic diff=0.145571, rho=0.316228\n",
      "2024-04-29 05:04:04,790 : INFO : PROGRESS: pass 9, at document #27935/27935\n",
      "2024-04-29 05:04:28,215 : INFO : optimized alpha [0.08682464, 0.04449499, 0.094208285, 0.065225124, 0.06951265, 0.07876765, 0.078971334, 0.05565276, 0.065586716, 0.05728562]\n",
      "2024-04-29 05:04:28,271 : INFO : topic #1 (0.044): 0.019*\"game\" + 0.011*\"slavery\" + 0.009*\"man\" + 0.007*\"eat\" + 0.005*\"fish\" + 0.005*\"racist\" + 0.005*\"scary\" + 0.004*\"hate\" + 0.004*\"suck\" + 0.004*\"addictive\"\n",
      "2024-04-29 05:04:28,273 : INFO : topic #7 (0.056): 0.041*\"game\" + 0.011*\"good\" + 0.009*\"play\" + 0.008*\"island\" + 0.008*\"like\" + 0.008*\"build\" + 0.007*\"item\" + 0.007*\"time\" + 0.007*\"craft\" + 0.006*\"monkey\"\n",
      "2024-04-29 05:04:28,274 : INFO : topic #6 (0.079): 0.046*\"game\" + 0.013*\"feel\" + 0.009*\"thing\" + 0.007*\"play\" + 0.007*\"time\" + 0.007*\"story\" + 0.006*\"way\" + 0.006*\"build\" + 0.006*\"world\" + 0.006*\"good\"\n",
      "2024-04-29 05:04:28,276 : INFO : topic #0 (0.087): 0.037*\"game\" + 0.021*\"fun\" + 0.014*\"craft\" + 0.009*\"time\" + 0.007*\"survival\" + 0.006*\"item\" + 0.006*\"play\" + 0.006*\"system\" + 0.006*\"player\" + 0.006*\"new\"\n",
      "2024-04-29 05:04:28,277 : INFO : topic #2 (0.094): 0.110*\"game\" + 0.024*\"play\" + 0.014*\"love\" + 0.013*\"fun\" + 0.012*\"bug\" + 0.012*\"good\" + 0.010*\"grind\" + 0.010*\"hour\" + 0.010*\"update\" + 0.009*\"early_access\"\n",
      "2024-04-29 05:04:28,279 : INFO : topic diff=0.122092, rho=0.301511\n",
      "2024-04-29 05:04:28,283 : INFO : PROGRESS: pass 10, at document #27935/27935\n",
      "2024-04-29 05:04:51,664 : INFO : optimized alpha [0.08554633, 0.043111365, 0.095930494, 0.06424983, 0.06788139, 0.07840036, 0.07833372, 0.05392127, 0.06483335, 0.055662137]\n",
      "2024-04-29 05:04:51,716 : INFO : topic #1 (0.043): 0.017*\"game\" + 0.013*\"slavery\" + 0.010*\"man\" + 0.007*\"eat\" + 0.006*\"fish\" + 0.005*\"racist\" + 0.005*\"scary\" + 0.005*\"hate\" + 0.004*\"suck\" + 0.004*\"cancer\"\n",
      "2024-04-29 05:04:51,718 : INFO : topic #7 (0.054): 0.041*\"game\" + 0.011*\"good\" + 0.009*\"island\" + 0.008*\"play\" + 0.008*\"like\" + 0.008*\"build\" + 0.007*\"item\" + 0.007*\"time\" + 0.007*\"craft\" + 0.007*\"monkey\"\n",
      "2024-04-29 05:04:51,719 : INFO : topic #5 (0.078): 0.070*\"game\" + 0.018*\"play\" + 0.017*\"server\" + 0.015*\"player\" + 0.011*\"time\" + 0.008*\"people\" + 0.008*\"buy\" + 0.007*\"hour\" + 0.007*\"want\" + 0.006*\"update\"\n",
      "2024-04-29 05:04:51,720 : INFO : topic #0 (0.086): 0.036*\"game\" + 0.021*\"fun\" + 0.015*\"craft\" + 0.008*\"time\" + 0.007*\"survival\" + 0.007*\"item\" + 0.006*\"system\" + 0.006*\"play\" + 0.006*\"player\" + 0.006*\"new\"\n",
      "2024-04-29 05:04:51,723 : INFO : topic #2 (0.096): 0.112*\"game\" + 0.025*\"play\" + 0.015*\"love\" + 0.014*\"fun\" + 0.012*\"good\" + 0.012*\"bug\" + 0.010*\"hour\" + 0.010*\"grind\" + 0.010*\"update\" + 0.009*\"early_access\"\n",
      "2024-04-29 05:04:51,725 : INFO : topic diff=0.104121, rho=0.288675\n",
      "2024-04-29 05:04:51,729 : INFO : PROGRESS: pass 11, at document #27935/27935\n",
      "2024-04-29 05:05:12,974 : INFO : optimized alpha [0.08442448, 0.041891128, 0.09764494, 0.06341102, 0.06647093, 0.07815589, 0.07782456, 0.052396197, 0.06420377, 0.054243214]\n",
      "2024-04-29 05:05:13,025 : INFO : topic #1 (0.042): 0.015*\"game\" + 0.014*\"slavery\" + 0.011*\"man\" + 0.007*\"eat\" + 0.006*\"fish\" + 0.006*\"racist\" + 0.005*\"scary\" + 0.005*\"hate\" + 0.005*\"suck\" + 0.004*\"ass\"\n",
      "2024-04-29 05:05:13,026 : INFO : topic #7 (0.052): 0.040*\"game\" + 0.011*\"good\" + 0.010*\"island\" + 0.008*\"like\" + 0.008*\"play\" + 0.008*\"build\" + 0.007*\"item\" + 0.007*\"monkey\" + 0.007*\"craft\" + 0.007*\"time\"\n",
      "2024-04-29 05:05:13,028 : INFO : topic #5 (0.078): 0.070*\"game\" + 0.018*\"play\" + 0.017*\"server\" + 0.015*\"player\" + 0.011*\"time\" + 0.008*\"people\" + 0.008*\"buy\" + 0.007*\"hour\" + 0.007*\"want\" + 0.006*\"update\"\n",
      "2024-04-29 05:05:13,029 : INFO : topic #0 (0.084): 0.036*\"game\" + 0.021*\"fun\" + 0.015*\"craft\" + 0.008*\"time\" + 0.007*\"survival\" + 0.007*\"item\" + 0.006*\"system\" + 0.006*\"player\" + 0.006*\"play\" + 0.006*\"new\"\n",
      "2024-04-29 05:05:13,031 : INFO : topic #2 (0.098): 0.113*\"game\" + 0.026*\"play\" + 0.015*\"love\" + 0.015*\"fun\" + 0.013*\"good\" + 0.012*\"bug\" + 0.011*\"hour\" + 0.010*\"grind\" + 0.010*\"update\" + 0.009*\"early_access\"\n",
      "2024-04-29 05:05:13,033 : INFO : topic diff=0.090102, rho=0.277350\n",
      "2024-04-29 05:05:13,036 : INFO : PROGRESS: pass 12, at document #27935/27935\n",
      "2024-04-29 05:05:33,613 : INFO : optimized alpha [0.083415, 0.04079979, 0.099334136, 0.06269293, 0.06525445, 0.07801563, 0.07740399, 0.05104003, 0.06367358, 0.0529734]\n",
      "2024-04-29 05:05:33,668 : INFO : topic #1 (0.041): 0.016*\"slavery\" + 0.014*\"game\" + 0.011*\"man\" + 0.007*\"eat\" + 0.006*\"fish\" + 0.006*\"racist\" + 0.006*\"scary\" + 0.005*\"hate\" + 0.005*\"suck\" + 0.005*\"ass\"\n",
      "2024-04-29 05:05:33,669 : INFO : topic #7 (0.051): 0.039*\"game\" + 0.011*\"good\" + 0.011*\"island\" + 0.008*\"like\" + 0.008*\"build\" + 0.008*\"play\" + 0.007*\"monkey\" + 0.007*\"item\" + 0.007*\"craft\" + 0.006*\"time\"\n",
      "2024-04-29 05:05:33,670 : INFO : topic #5 (0.078): 0.070*\"game\" + 0.018*\"play\" + 0.017*\"server\" + 0.016*\"player\" + 0.011*\"time\" + 0.008*\"people\" + 0.008*\"buy\" + 0.007*\"hour\" + 0.007*\"want\" + 0.006*\"update\"\n",
      "2024-04-29 05:05:33,672 : INFO : topic #0 (0.083): 0.035*\"game\" + 0.020*\"fun\" + 0.015*\"craft\" + 0.008*\"time\" + 0.007*\"survival\" + 0.007*\"item\" + 0.007*\"system\" + 0.006*\"player\" + 0.006*\"play\" + 0.006*\"need\"\n",
      "2024-04-29 05:05:33,673 : INFO : topic #2 (0.099): 0.114*\"game\" + 0.026*\"play\" + 0.016*\"love\" + 0.015*\"fun\" + 0.013*\"good\" + 0.012*\"bug\" + 0.011*\"hour\" + 0.010*\"grind\" + 0.010*\"update\" + 0.010*\"early_access\"\n",
      "2024-04-29 05:05:33,675 : INFO : topic diff=0.078886, rho=0.267261\n",
      "2024-04-29 05:05:33,679 : INFO : PROGRESS: pass 13, at document #27935/27935\n",
      "2024-04-29 05:05:53,905 : INFO : optimized alpha [0.08250376, 0.0398209, 0.100988396, 0.062078964, 0.06417265, 0.077973224, 0.07707642, 0.049820386, 0.06322439, 0.05183635]\n",
      "2024-04-29 05:05:53,958 : INFO : topic #1 (0.040): 0.017*\"slavery\" + 0.012*\"game\" + 0.012*\"man\" + 0.007*\"eat\" + 0.007*\"fish\" + 0.006*\"racist\" + 0.006*\"scary\" + 0.006*\"hate\" + 0.005*\"suck\" + 0.005*\"ass\"\n",
      "2024-04-29 05:05:53,959 : INFO : topic #7 (0.050): 0.038*\"game\" + 0.011*\"island\" + 0.011*\"good\" + 0.008*\"like\" + 0.008*\"build\" + 0.008*\"monkey\" + 0.008*\"play\" + 0.007*\"item\" + 0.006*\"craft\" + 0.006*\"time\"\n",
      "2024-04-29 05:05:53,960 : INFO : topic #5 (0.078): 0.070*\"game\" + 0.018*\"play\" + 0.017*\"server\" + 0.016*\"player\" + 0.011*\"time\" + 0.008*\"people\" + 0.008*\"buy\" + 0.007*\"hour\" + 0.007*\"want\" + 0.006*\"update\"\n",
      "2024-04-29 05:05:53,962 : INFO : topic #0 (0.083): 0.035*\"game\" + 0.020*\"fun\" + 0.016*\"craft\" + 0.008*\"time\" + 0.007*\"item\" + 0.007*\"survival\" + 0.007*\"system\" + 0.006*\"player\" + 0.006*\"need\" + 0.006*\"play\"\n",
      "2024-04-29 05:05:53,963 : INFO : topic #2 (0.101): 0.116*\"game\" + 0.027*\"play\" + 0.016*\"love\" + 0.016*\"fun\" + 0.013*\"good\" + 0.012*\"bug\" + 0.011*\"hour\" + 0.010*\"grind\" + 0.010*\"update\" + 0.010*\"early_access\"\n",
      "2024-04-29 05:05:53,965 : INFO : topic diff=0.069853, rho=0.258199\n",
      "2024-04-29 05:05:53,969 : INFO : PROGRESS: pass 14, at document #27935/27935\n",
      "2024-04-29 05:06:13,648 : INFO : optimized alpha [0.08170731, 0.03893461, 0.10258908, 0.061551582, 0.063227676, 0.0779938, 0.07682762, 0.0487202, 0.06283096, 0.05081327]\n",
      "2024-04-29 05:06:13,697 : INFO : topic #1 (0.039): 0.018*\"slavery\" + 0.012*\"man\" + 0.011*\"game\" + 0.007*\"eat\" + 0.007*\"fish\" + 0.006*\"racist\" + 0.006*\"hate\" + 0.006*\"scary\" + 0.006*\"suck\" + 0.005*\"ass\"\n",
      "2024-04-29 05:06:13,699 : INFO : topic #7 (0.049): 0.038*\"game\" + 0.012*\"island\" + 0.011*\"good\" + 0.008*\"like\" + 0.008*\"build\" + 0.008*\"monkey\" + 0.007*\"play\" + 0.007*\"item\" + 0.006*\"craft\" + 0.006*\"time\"\n",
      "2024-04-29 05:06:13,700 : INFO : topic #5 (0.078): 0.070*\"game\" + 0.018*\"play\" + 0.017*\"server\" + 0.016*\"player\" + 0.011*\"time\" + 0.008*\"people\" + 0.008*\"buy\" + 0.007*\"hour\" + 0.007*\"want\" + 0.007*\"update\"\n",
      "2024-04-29 05:06:13,703 : INFO : topic #0 (0.082): 0.035*\"game\" + 0.020*\"fun\" + 0.016*\"craft\" + 0.008*\"time\" + 0.007*\"item\" + 0.007*\"survival\" + 0.007*\"system\" + 0.006*\"player\" + 0.006*\"need\" + 0.006*\"world\"\n",
      "2024-04-29 05:06:13,705 : INFO : topic #2 (0.103): 0.117*\"game\" + 0.028*\"play\" + 0.016*\"love\" + 0.016*\"fun\" + 0.013*\"good\" + 0.012*\"bug\" + 0.011*\"hour\" + 0.010*\"grind\" + 0.010*\"update\" + 0.010*\"early_access\"\n",
      "2024-04-29 05:06:13,707 : INFO : topic diff=0.062313, rho=0.250000\n",
      "2024-04-29 05:06:13,709 : INFO : PROGRESS: pass 15, at document #27935/27935\n",
      "2024-04-29 05:06:34,076 : INFO : optimized alpha [0.0809764, 0.038123246, 0.104164444, 0.06109006, 0.062402662, 0.07811194, 0.076640435, 0.047723915, 0.062490333, 0.04988496]\n",
      "2024-04-29 05:06:34,130 : INFO : topic #1 (0.038): 0.018*\"slavery\" + 0.013*\"man\" + 0.010*\"game\" + 0.008*\"eat\" + 0.007*\"fish\" + 0.006*\"racist\" + 0.006*\"hate\" + 0.006*\"scary\" + 0.006*\"suck\" + 0.005*\"ass\"\n",
      "2024-04-29 05:06:34,132 : INFO : topic #7 (0.048): 0.037*\"game\" + 0.012*\"island\" + 0.011*\"good\" + 0.008*\"like\" + 0.008*\"monkey\" + 0.008*\"build\" + 0.007*\"play\" + 0.007*\"item\" + 0.006*\"cool\" + 0.006*\"craft\"\n",
      "2024-04-29 05:06:34,133 : INFO : topic #5 (0.078): 0.070*\"game\" + 0.018*\"play\" + 0.017*\"server\" + 0.016*\"player\" + 0.011*\"time\" + 0.008*\"people\" + 0.008*\"buy\" + 0.007*\"hour\" + 0.007*\"update\" + 0.007*\"want\"\n",
      "2024-04-29 05:06:34,135 : INFO : topic #0 (0.081): 0.034*\"game\" + 0.020*\"fun\" + 0.016*\"craft\" + 0.008*\"time\" + 0.007*\"item\" + 0.007*\"survival\" + 0.007*\"system\" + 0.006*\"player\" + 0.006*\"need\" + 0.006*\"world\"\n",
      "2024-04-29 05:06:34,136 : INFO : topic #2 (0.104): 0.118*\"game\" + 0.028*\"play\" + 0.017*\"fun\" + 0.017*\"love\" + 0.014*\"good\" + 0.012*\"hour\" + 0.011*\"bug\" + 0.010*\"grind\" + 0.010*\"update\" + 0.010*\"early_access\"\n",
      "2024-04-29 05:06:34,139 : INFO : topic diff=0.056122, rho=0.242536\n",
      "2024-04-29 05:06:34,142 : INFO : PROGRESS: pass 16, at document #27935/27935\n",
      "2024-04-29 05:06:56,499 : INFO : optimized alpha [0.080307126, 0.037379548, 0.105683595, 0.06067992, 0.061668213, 0.07826499, 0.076526865, 0.046816774, 0.06219757, 0.04904467]\n",
      "2024-04-29 05:06:56,564 : INFO : topic #1 (0.037): 0.019*\"slavery\" + 0.013*\"man\" + 0.009*\"game\" + 0.008*\"eat\" + 0.007*\"fish\" + 0.006*\"racist\" + 0.006*\"hate\" + 0.006*\"scary\" + 0.006*\"suck\" + 0.006*\"ass\"\n",
      "2024-04-29 05:06:56,566 : INFO : topic #7 (0.047): 0.036*\"game\" + 0.013*\"island\" + 0.010*\"good\" + 0.008*\"monkey\" + 0.008*\"like\" + 0.008*\"build\" + 0.007*\"item\" + 0.007*\"play\" + 0.007*\"cool\" + 0.006*\"craft\"\n",
      "2024-04-29 05:06:56,567 : INFO : topic #5 (0.078): 0.070*\"game\" + 0.018*\"play\" + 0.017*\"server\" + 0.016*\"player\" + 0.011*\"time\" + 0.009*\"people\" + 0.008*\"buy\" + 0.007*\"hour\" + 0.007*\"update\" + 0.007*\"want\"\n",
      "2024-04-29 05:06:56,569 : INFO : topic #0 (0.080): 0.034*\"game\" + 0.020*\"fun\" + 0.016*\"craft\" + 0.008*\"time\" + 0.007*\"item\" + 0.007*\"system\" + 0.007*\"survival\" + 0.006*\"player\" + 0.006*\"need\" + 0.006*\"world\"\n",
      "2024-04-29 05:06:56,570 : INFO : topic #2 (0.106): 0.118*\"game\" + 0.029*\"play\" + 0.017*\"fun\" + 0.017*\"love\" + 0.014*\"good\" + 0.012*\"hour\" + 0.011*\"bug\" + 0.010*\"grind\" + 0.010*\"update\" + 0.010*\"early_access\"\n",
      "2024-04-29 05:06:56,572 : INFO : topic diff=0.050868, rho=0.235702\n",
      "2024-04-29 05:06:56,576 : INFO : PROGRESS: pass 17, at document #27935/27935\n",
      "2024-04-29 05:07:18,729 : INFO : optimized alpha [0.07970713, 0.036692023, 0.10714813, 0.060321733, 0.061016828, 0.07846222, 0.07645255, 0.045984976, 0.061940484, 0.04827803]\n",
      "2024-04-29 05:07:18,778 : INFO : topic #1 (0.037): 0.019*\"slavery\" + 0.013*\"man\" + 0.008*\"game\" + 0.008*\"eat\" + 0.008*\"fish\" + 0.007*\"hate\" + 0.007*\"racist\" + 0.006*\"suck\" + 0.006*\"scary\" + 0.006*\"ass\"\n",
      "2024-04-29 05:07:18,780 : INFO : topic #7 (0.046): 0.036*\"game\" + 0.014*\"island\" + 0.010*\"good\" + 0.009*\"monkey\" + 0.008*\"like\" + 0.008*\"build\" + 0.007*\"item\" + 0.007*\"cool\" + 0.007*\"play\" + 0.006*\"raft\"\n",
      "2024-04-29 05:07:18,782 : INFO : topic #5 (0.078): 0.070*\"game\" + 0.018*\"play\" + 0.017*\"server\" + 0.016*\"player\" + 0.011*\"time\" + 0.009*\"people\" + 0.008*\"buy\" + 0.007*\"update\" + 0.007*\"hour\" + 0.007*\"want\"\n",
      "2024-04-29 05:07:18,783 : INFO : topic #0 (0.080): 0.034*\"game\" + 0.019*\"fun\" + 0.016*\"craft\" + 0.008*\"time\" + 0.008*\"item\" + 0.007*\"system\" + 0.007*\"survival\" + 0.006*\"player\" + 0.006*\"need\" + 0.006*\"world\"\n",
      "2024-04-29 05:07:18,785 : INFO : topic #2 (0.107): 0.119*\"game\" + 0.029*\"play\" + 0.018*\"fun\" + 0.017*\"love\" + 0.014*\"good\" + 0.012*\"hour\" + 0.011*\"bug\" + 0.010*\"grind\" + 0.010*\"update\" + 0.010*\"early_access\"\n",
      "2024-04-29 05:07:18,787 : INFO : topic diff=0.046402, rho=0.229416\n",
      "2024-04-29 05:07:18,790 : INFO : PROGRESS: pass 18, at document #27935/27935\n",
      "2024-04-29 05:07:40,434 : INFO : optimized alpha [0.07915438, 0.036056604, 0.10857949, 0.060000792, 0.060445122, 0.07869948, 0.07642421, 0.04521931, 0.061721526, 0.047573797]\n",
      "2024-04-29 05:07:40,481 : INFO : topic #1 (0.036): 0.020*\"slavery\" + 0.013*\"man\" + 0.008*\"eat\" + 0.008*\"fish\" + 0.007*\"game\" + 0.007*\"hate\" + 0.007*\"racist\" + 0.006*\"suck\" + 0.006*\"scary\" + 0.006*\"ass\"\n",
      "2024-04-29 05:07:40,482 : INFO : topic #7 (0.045): 0.035*\"game\" + 0.014*\"island\" + 0.010*\"good\" + 0.009*\"monkey\" + 0.009*\"like\" + 0.008*\"build\" + 0.007*\"cool\" + 0.007*\"item\" + 0.006*\"play\" + 0.006*\"raft\"\n",
      "2024-04-29 05:07:40,484 : INFO : topic #5 (0.079): 0.070*\"game\" + 0.018*\"play\" + 0.017*\"server\" + 0.016*\"player\" + 0.011*\"time\" + 0.009*\"people\" + 0.008*\"buy\" + 0.007*\"update\" + 0.007*\"hour\" + 0.007*\"want\"\n",
      "2024-04-29 05:07:40,485 : INFO : topic #0 (0.079): 0.033*\"game\" + 0.019*\"fun\" + 0.017*\"craft\" + 0.008*\"time\" + 0.008*\"item\" + 0.007*\"system\" + 0.007*\"survival\" + 0.006*\"player\" + 0.006*\"need\" + 0.006*\"level\"\n",
      "2024-04-29 05:07:40,486 : INFO : topic #2 (0.109): 0.120*\"game\" + 0.029*\"play\" + 0.018*\"fun\" + 0.017*\"love\" + 0.014*\"good\" + 0.012*\"hour\" + 0.011*\"bug\" + 0.010*\"grind\" + 0.010*\"update\" + 0.010*\"early_access\"\n",
      "2024-04-29 05:07:40,488 : INFO : topic diff=0.042551, rho=0.223607\n",
      "2024-04-29 05:07:40,491 : INFO : PROGRESS: pass 19, at document #27935/27935\n",
      "2024-04-29 05:08:01,871 : INFO : optimized alpha [0.07863918, 0.03546577, 0.10999411, 0.059724916, 0.059937365, 0.07897815, 0.07643681, 0.04451042, 0.061533604, 0.046926975]\n",
      "2024-04-29 05:08:01,924 : INFO : topic #1 (0.035): 0.020*\"slavery\" + 0.014*\"man\" + 0.008*\"eat\" + 0.008*\"fish\" + 0.007*\"hate\" + 0.007*\"racist\" + 0.007*\"suck\" + 0.006*\"scary\" + 0.006*\"game\" + 0.006*\"ass\"\n",
      "2024-04-29 05:08:01,925 : INFO : topic #7 (0.045): 0.034*\"game\" + 0.015*\"island\" + 0.010*\"good\" + 0.009*\"monkey\" + 0.008*\"like\" + 0.008*\"build\" + 0.007*\"cool\" + 0.007*\"item\" + 0.007*\"raft\" + 0.006*\"play\"\n",
      "2024-04-29 05:08:01,927 : INFO : topic #0 (0.079): 0.033*\"game\" + 0.019*\"fun\" + 0.017*\"craft\" + 0.008*\"item\" + 0.008*\"time\" + 0.007*\"system\" + 0.007*\"survival\" + 0.006*\"player\" + 0.006*\"level\" + 0.006*\"need\"\n",
      "2024-04-29 05:08:01,929 : INFO : topic #5 (0.079): 0.071*\"game\" + 0.018*\"play\" + 0.017*\"server\" + 0.016*\"player\" + 0.011*\"time\" + 0.009*\"people\" + 0.008*\"buy\" + 0.007*\"update\" + 0.007*\"hour\" + 0.007*\"devs\"\n",
      "2024-04-29 05:08:01,930 : INFO : topic #2 (0.110): 0.120*\"game\" + 0.030*\"play\" + 0.019*\"fun\" + 0.018*\"love\" + 0.014*\"good\" + 0.012*\"hour\" + 0.011*\"bug\" + 0.010*\"grind\" + 0.010*\"update\" + 0.009*\"well\"\n",
      "2024-04-29 05:08:01,932 : INFO : topic diff=0.039243, rho=0.218218\n",
      "2024-04-29 05:08:01,936 : INFO : PROGRESS: pass 20, at document #27935/27935\n",
      "2024-04-29 05:08:23,781 : INFO : optimized alpha [0.0781579, 0.0349141, 0.11137072, 0.05946988, 0.059486877, 0.07928156, 0.07647391, 0.043854922, 0.061370086, 0.04632884]\n",
      "2024-04-29 05:08:23,835 : INFO : topic #1 (0.035): 0.021*\"slavery\" + 0.014*\"man\" + 0.008*\"fish\" + 0.008*\"eat\" + 0.007*\"hate\" + 0.007*\"suck\" + 0.007*\"racist\" + 0.006*\"scary\" + 0.006*\"ass\" + 0.005*\"game\"\n",
      "2024-04-29 05:08:23,836 : INFO : topic #7 (0.044): 0.034*\"game\" + 0.015*\"island\" + 0.010*\"good\" + 0.009*\"monkey\" + 0.008*\"like\" + 0.008*\"build\" + 0.007*\"cool\" + 0.007*\"raft\" + 0.007*\"item\" + 0.006*\"play\"\n",
      "2024-04-29 05:08:23,838 : INFO : topic #0 (0.078): 0.033*\"game\" + 0.018*\"fun\" + 0.017*\"craft\" + 0.008*\"item\" + 0.008*\"time\" + 0.007*\"system\" + 0.007*\"survival\" + 0.006*\"player\" + 0.006*\"level\" + 0.006*\"need\"\n",
      "2024-04-29 05:08:23,841 : INFO : topic #5 (0.079): 0.071*\"game\" + 0.018*\"play\" + 0.017*\"server\" + 0.016*\"player\" + 0.011*\"time\" + 0.009*\"people\" + 0.008*\"buy\" + 0.007*\"update\" + 0.007*\"hour\" + 0.007*\"devs\"\n",
      "2024-04-29 05:08:23,844 : INFO : topic #2 (0.111): 0.121*\"game\" + 0.030*\"play\" + 0.020*\"fun\" + 0.018*\"love\" + 0.014*\"good\" + 0.012*\"hour\" + 0.011*\"bug\" + 0.010*\"grind\" + 0.010*\"update\" + 0.010*\"well\"\n",
      "2024-04-29 05:08:23,846 : INFO : topic diff=0.036353, rho=0.213201\n",
      "2024-04-29 05:08:23,850 : INFO : PROGRESS: pass 21, at document #27935/27935\n",
      "2024-04-29 05:08:46,274 : INFO : optimized alpha [0.077704936, 0.03439971, 0.11270034, 0.059244066, 0.059081342, 0.079623476, 0.07652913, 0.043247126, 0.06123244, 0.04576675]\n",
      "2024-04-29 05:08:46,327 : INFO : topic #1 (0.034): 0.021*\"slavery\" + 0.014*\"man\" + 0.008*\"fish\" + 0.008*\"eat\" + 0.007*\"hate\" + 0.007*\"suck\" + 0.007*\"racist\" + 0.006*\"ass\" + 0.006*\"scary\" + 0.005*\"cancer\"\n",
      "2024-04-29 05:08:46,329 : INFO : topic #7 (0.043): 0.033*\"game\" + 0.016*\"island\" + 0.010*\"good\" + 0.010*\"monkey\" + 0.008*\"like\" + 0.008*\"build\" + 0.007*\"cool\" + 0.007*\"raft\" + 0.007*\"item\" + 0.006*\"play\"\n",
      "2024-04-29 05:08:46,330 : INFO : topic #0 (0.078): 0.032*\"game\" + 0.017*\"craft\" + 0.016*\"fun\" + 0.008*\"item\" + 0.008*\"time\" + 0.007*\"system\" + 0.007*\"survival\" + 0.006*\"player\" + 0.006*\"level\" + 0.006*\"need\"\n",
      "2024-04-29 05:08:46,332 : INFO : topic #5 (0.080): 0.071*\"game\" + 0.018*\"play\" + 0.017*\"server\" + 0.016*\"player\" + 0.011*\"time\" + 0.008*\"people\" + 0.008*\"buy\" + 0.008*\"update\" + 0.007*\"hour\" + 0.007*\"devs\"\n",
      "2024-04-29 05:08:46,335 : INFO : topic #2 (0.113): 0.121*\"game\" + 0.031*\"play\" + 0.021*\"fun\" + 0.018*\"love\" + 0.014*\"good\" + 0.013*\"hour\" + 0.011*\"bug\" + 0.010*\"grind\" + 0.010*\"update\" + 0.010*\"great\"\n",
      "2024-04-29 05:08:46,338 : INFO : topic diff=0.033609, rho=0.208514\n",
      "2024-04-29 05:08:46,341 : INFO : PROGRESS: pass 22, at document #27935/27935\n",
      "2024-04-29 05:09:08,034 : INFO : optimized alpha [0.07727885, 0.033918694, 0.1138894, 0.059115615, 0.05871796, 0.08000007, 0.07660673, 0.042680915, 0.061117157, 0.04524873]\n",
      "2024-04-29 05:09:08,089 : INFO : topic #1 (0.034): 0.021*\"slavery\" + 0.014*\"man\" + 0.008*\"fish\" + 0.008*\"eat\" + 0.007*\"hate\" + 0.007*\"suck\" + 0.007*\"racist\" + 0.006*\"ass\" + 0.006*\"scary\" + 0.005*\"fuck\"\n",
      "2024-04-29 05:09:08,091 : INFO : topic #7 (0.043): 0.033*\"game\" + 0.016*\"island\" + 0.010*\"good\" + 0.010*\"monkey\" + 0.008*\"like\" + 0.008*\"build\" + 0.007*\"cool\" + 0.007*\"raft\" + 0.006*\"item\" + 0.006*\"shark\"\n",
      "2024-04-29 05:09:08,092 : INFO : topic #0 (0.077): 0.032*\"game\" + 0.017*\"craft\" + 0.015*\"fun\" + 0.008*\"item\" + 0.008*\"time\" + 0.007*\"system\" + 0.007*\"survival\" + 0.006*\"player\" + 0.006*\"level\" + 0.006*\"need\"\n",
      "2024-04-29 05:09:08,094 : INFO : topic #5 (0.080): 0.071*\"game\" + 0.018*\"play\" + 0.017*\"server\" + 0.016*\"player\" + 0.011*\"time\" + 0.008*\"people\" + 0.008*\"buy\" + 0.008*\"update\" + 0.007*\"hour\" + 0.007*\"devs\"\n",
      "2024-04-29 05:09:08,096 : INFO : topic #2 (0.114): 0.122*\"game\" + 0.031*\"play\" + 0.021*\"fun\" + 0.018*\"love\" + 0.015*\"good\" + 0.013*\"hour\" + 0.011*\"bug\" + 0.011*\"grind\" + 0.010*\"great\" + 0.010*\"well\"\n",
      "2024-04-29 05:09:08,097 : INFO : topic diff=0.031342, rho=0.204124\n",
      "2024-04-29 05:09:08,101 : INFO : PROGRESS: pass 23, at document #27935/27935\n",
      "2024-04-29 05:09:30,155 : INFO : optimized alpha [0.07687617, 0.03346808, 0.114933126, 0.05906143, 0.058388624, 0.08038421, 0.07671555, 0.042150054, 0.061003845, 0.044765905]\n",
      "2024-04-29 05:09:30,203 : INFO : topic #1 (0.033): 0.021*\"slavery\" + 0.014*\"man\" + 0.008*\"fish\" + 0.008*\"eat\" + 0.007*\"suck\" + 0.007*\"hate\" + 0.007*\"racist\" + 0.007*\"ass\" + 0.006*\"scary\" + 0.005*\"fuck\"\n",
      "2024-04-29 05:09:30,205 : INFO : topic #7 (0.042): 0.032*\"game\" + 0.017*\"island\" + 0.010*\"monkey\" + 0.010*\"good\" + 0.008*\"like\" + 0.008*\"build\" + 0.007*\"raft\" + 0.007*\"cool\" + 0.006*\"item\" + 0.006*\"shark\"\n",
      "2024-04-29 05:09:30,206 : INFO : topic #0 (0.077): 0.032*\"game\" + 0.017*\"craft\" + 0.014*\"fun\" + 0.008*\"item\" + 0.008*\"time\" + 0.007*\"system\" + 0.007*\"survival\" + 0.006*\"player\" + 0.006*\"level\" + 0.006*\"need\"\n",
      "2024-04-29 05:09:30,207 : INFO : topic #5 (0.080): 0.071*\"game\" + 0.018*\"play\" + 0.017*\"server\" + 0.016*\"player\" + 0.011*\"time\" + 0.008*\"people\" + 0.008*\"buy\" + 0.008*\"update\" + 0.007*\"hour\" + 0.007*\"devs\"\n",
      "2024-04-29 05:09:30,209 : INFO : topic #2 (0.115): 0.122*\"game\" + 0.031*\"play\" + 0.021*\"fun\" + 0.018*\"love\" + 0.015*\"good\" + 0.013*\"hour\" + 0.011*\"bug\" + 0.011*\"grind\" + 0.010*\"great\" + 0.010*\"well\"\n",
      "2024-04-29 05:09:30,211 : INFO : topic diff=0.029265, rho=0.200000\n",
      "2024-04-29 05:09:30,214 : INFO : PROGRESS: pass 24, at document #27935/27935\n",
      "2024-04-29 05:09:49,820 : INFO : optimized alpha [0.07650057, 0.03304178, 0.11587441, 0.059040792, 0.058107, 0.0807794, 0.07683232, 0.04164929, 0.06090998, 0.04431882]\n",
      "2024-04-29 05:09:49,871 : INFO : topic #1 (0.033): 0.022*\"slavery\" + 0.014*\"man\" + 0.008*\"fish\" + 0.008*\"eat\" + 0.007*\"suck\" + 0.007*\"hate\" + 0.007*\"ass\" + 0.007*\"racist\" + 0.006*\"scary\" + 0.006*\"fuck\"\n",
      "2024-04-29 05:09:49,873 : INFO : topic #7 (0.042): 0.032*\"game\" + 0.018*\"island\" + 0.010*\"monkey\" + 0.010*\"good\" + 0.008*\"like\" + 0.008*\"build\" + 0.008*\"raft\" + 0.008*\"cool\" + 0.006*\"item\" + 0.006*\"shark\"\n",
      "2024-04-29 05:09:49,874 : INFO : topic #6 (0.077): 0.049*\"game\" + 0.014*\"feel\" + 0.009*\"thing\" + 0.007*\"story\" + 0.007*\"time\" + 0.007*\"play\" + 0.006*\"way\" + 0.006*\"build\" + 0.006*\"good\" + 0.006*\"survival\"\n",
      "2024-04-29 05:09:49,877 : INFO : topic #5 (0.081): 0.071*\"game\" + 0.018*\"play\" + 0.017*\"server\" + 0.016*\"player\" + 0.011*\"time\" + 0.008*\"people\" + 0.008*\"update\" + 0.008*\"buy\" + 0.007*\"hour\" + 0.007*\"devs\"\n",
      "2024-04-29 05:09:49,879 : INFO : topic #2 (0.116): 0.123*\"game\" + 0.032*\"play\" + 0.021*\"fun\" + 0.019*\"love\" + 0.015*\"good\" + 0.013*\"hour\" + 0.011*\"grind\" + 0.011*\"bug\" + 0.010*\"great\" + 0.010*\"well\"\n",
      "2024-04-29 05:09:49,880 : INFO : topic diff=0.027353, rho=0.196116\n",
      "2024-04-29 05:09:49,883 : INFO : PROGRESS: pass 25, at document #27935/27935\n",
      "2024-04-29 05:10:09,035 : INFO : optimized alpha [0.076148644, 0.032640073, 0.11672375, 0.0590641, 0.057852525, 0.08118967, 0.07697261, 0.04117967, 0.060833383, 0.043902807]\n",
      "2024-04-29 05:10:09,085 : INFO : topic #1 (0.033): 0.022*\"slavery\" + 0.014*\"man\" + 0.008*\"fish\" + 0.008*\"eat\" + 0.007*\"suck\" + 0.007*\"hate\" + 0.007*\"ass\" + 0.007*\"racist\" + 0.006*\"scary\" + 0.006*\"fuck\"\n",
      "2024-04-29 05:10:09,087 : INFO : topic #7 (0.041): 0.031*\"game\" + 0.018*\"island\" + 0.011*\"monkey\" + 0.010*\"good\" + 0.008*\"like\" + 0.008*\"raft\" + 0.008*\"build\" + 0.008*\"cool\" + 0.006*\"shark\" + 0.006*\"item\"\n",
      "2024-04-29 05:10:09,088 : INFO : topic #6 (0.077): 0.049*\"game\" + 0.014*\"feel\" + 0.009*\"thing\" + 0.007*\"story\" + 0.007*\"time\" + 0.007*\"play\" + 0.006*\"way\" + 0.006*\"build\" + 0.006*\"good\" + 0.006*\"survival\"\n",
      "2024-04-29 05:10:09,090 : INFO : topic #5 (0.081): 0.071*\"game\" + 0.018*\"play\" + 0.017*\"server\" + 0.016*\"player\" + 0.011*\"time\" + 0.008*\"people\" + 0.008*\"update\" + 0.008*\"buy\" + 0.007*\"devs\" + 0.007*\"hour\"\n",
      "2024-04-29 05:10:09,091 : INFO : topic #2 (0.117): 0.123*\"game\" + 0.032*\"play\" + 0.020*\"fun\" + 0.019*\"love\" + 0.015*\"good\" + 0.013*\"hour\" + 0.011*\"grind\" + 0.011*\"bug\" + 0.010*\"great\" + 0.010*\"well\"\n",
      "2024-04-29 05:10:09,093 : INFO : topic diff=0.025677, rho=0.192450\n",
      "2024-04-29 05:10:09,097 : INFO : PROGRESS: pass 26, at document #27935/27935\n",
      "2024-04-29 05:10:29,031 : INFO : optimized alpha [0.07582283, 0.032261316, 0.11756501, 0.059098214, 0.05762914, 0.08160838, 0.07711917, 0.040743347, 0.060766313, 0.04351058]\n",
      "2024-04-29 05:10:29,083 : INFO : topic #1 (0.032): 0.022*\"slavery\" + 0.014*\"man\" + 0.008*\"fish\" + 0.008*\"eat\" + 0.007*\"suck\" + 0.007*\"hate\" + 0.007*\"ass\" + 0.007*\"racist\" + 0.006*\"scary\" + 0.006*\"fuck\"\n",
      "2024-04-29 05:10:29,085 : INFO : topic #7 (0.041): 0.031*\"game\" + 0.019*\"island\" + 0.011*\"monkey\" + 0.010*\"good\" + 0.008*\"like\" + 0.008*\"raft\" + 0.008*\"build\" + 0.008*\"cool\" + 0.006*\"shark\" + 0.006*\"item\"\n",
      "2024-04-29 05:10:29,087 : INFO : topic #6 (0.077): 0.049*\"game\" + 0.014*\"feel\" + 0.009*\"thing\" + 0.007*\"story\" + 0.007*\"time\" + 0.007*\"play\" + 0.006*\"way\" + 0.006*\"build\" + 0.006*\"good\" + 0.006*\"survival\"\n",
      "2024-04-29 05:10:29,088 : INFO : topic #5 (0.082): 0.072*\"game\" + 0.018*\"play\" + 0.017*\"server\" + 0.016*\"player\" + 0.011*\"time\" + 0.008*\"people\" + 0.008*\"update\" + 0.008*\"buy\" + 0.007*\"devs\" + 0.007*\"hour\"\n",
      "2024-04-29 05:10:29,090 : INFO : topic #2 (0.118): 0.123*\"game\" + 0.032*\"play\" + 0.020*\"fun\" + 0.019*\"love\" + 0.015*\"good\" + 0.013*\"hour\" + 0.011*\"grind\" + 0.010*\"bug\" + 0.010*\"great\" + 0.010*\"well\"\n",
      "2024-04-29 05:10:29,091 : INFO : topic diff=0.024250, rho=0.188982\n",
      "2024-04-29 05:10:29,095 : INFO : PROGRESS: pass 27, at document #27935/27935\n",
      "2024-04-29 05:10:51,933 : INFO : optimized alpha [0.07552929, 0.031901468, 0.1183722, 0.059147466, 0.057435744, 0.08204388, 0.077279024, 0.04032709, 0.060708176, 0.04314725]\n",
      "2024-04-29 05:10:51,982 : INFO : topic #1 (0.032): 0.022*\"slavery\" + 0.014*\"man\" + 0.008*\"fish\" + 0.008*\"eat\" + 0.008*\"suck\" + 0.007*\"hate\" + 0.007*\"ass\" + 0.007*\"racist\" + 0.006*\"scary\" + 0.006*\"fuck\"\n",
      "2024-04-29 05:10:51,984 : INFO : topic #7 (0.040): 0.030*\"game\" + 0.019*\"island\" + 0.011*\"monkey\" + 0.010*\"good\" + 0.008*\"raft\" + 0.008*\"like\" + 0.008*\"cool\" + 0.008*\"build\" + 0.007*\"shark\" + 0.006*\"item\"\n",
      "2024-04-29 05:10:51,985 : INFO : topic #6 (0.077): 0.050*\"game\" + 0.014*\"feel\" + 0.009*\"thing\" + 0.007*\"story\" + 0.007*\"time\" + 0.007*\"play\" + 0.006*\"way\" + 0.006*\"build\" + 0.006*\"good\" + 0.006*\"survival\"\n",
      "2024-04-29 05:10:51,987 : INFO : topic #5 (0.082): 0.072*\"game\" + 0.018*\"play\" + 0.016*\"server\" + 0.016*\"player\" + 0.011*\"time\" + 0.008*\"people\" + 0.008*\"update\" + 0.008*\"buy\" + 0.007*\"devs\" + 0.007*\"hour\"\n",
      "2024-04-29 05:10:51,988 : INFO : topic #2 (0.118): 0.124*\"game\" + 0.033*\"play\" + 0.020*\"fun\" + 0.019*\"love\" + 0.015*\"good\" + 0.014*\"hour\" + 0.011*\"grind\" + 0.010*\"bug\" + 0.010*\"great\" + 0.010*\"well\"\n",
      "2024-04-29 05:10:51,989 : INFO : topic diff=0.022984, rho=0.185695\n",
      "2024-04-29 05:10:51,993 : INFO : PROGRESS: pass 28, at document #27935/27935\n",
      "2024-04-29 05:11:13,199 : INFO : optimized alpha [0.07526927, 0.031560443, 0.11912452, 0.059214525, 0.057267666, 0.08248485, 0.0774606, 0.03993474, 0.060667686, 0.042806108]\n",
      "2024-04-29 05:11:13,250 : INFO : topic #1 (0.032): 0.022*\"slavery\" + 0.014*\"man\" + 0.009*\"fish\" + 0.008*\"eat\" + 0.008*\"suck\" + 0.007*\"hate\" + 0.007*\"ass\" + 0.007*\"racist\" + 0.007*\"scary\" + 0.006*\"fuck\"\n",
      "2024-04-29 05:11:13,252 : INFO : topic #7 (0.040): 0.030*\"game\" + 0.020*\"island\" + 0.011*\"monkey\" + 0.010*\"good\" + 0.008*\"raft\" + 0.008*\"like\" + 0.008*\"cool\" + 0.008*\"build\" + 0.007*\"shark\" + 0.006*\"item\"\n",
      "2024-04-29 05:11:13,253 : INFO : topic #6 (0.077): 0.050*\"game\" + 0.014*\"feel\" + 0.009*\"thing\" + 0.007*\"story\" + 0.007*\"time\" + 0.007*\"play\" + 0.006*\"way\" + 0.006*\"build\" + 0.006*\"good\" + 0.006*\"survival\"\n",
      "2024-04-29 05:11:13,254 : INFO : topic #5 (0.082): 0.072*\"game\" + 0.018*\"play\" + 0.016*\"server\" + 0.016*\"player\" + 0.011*\"time\" + 0.008*\"people\" + 0.008*\"update\" + 0.008*\"buy\" + 0.007*\"devs\" + 0.007*\"hour\"\n",
      "2024-04-29 05:11:13,256 : INFO : topic #2 (0.119): 0.124*\"game\" + 0.033*\"play\" + 0.019*\"fun\" + 0.019*\"love\" + 0.015*\"good\" + 0.014*\"hour\" + 0.011*\"grind\" + 0.010*\"great\" + 0.010*\"bug\" + 0.010*\"well\"\n",
      "2024-04-29 05:11:13,258 : INFO : topic diff=0.021801, rho=0.182574\n",
      "2024-04-29 05:11:13,263 : INFO : PROGRESS: pass 29, at document #27935/27935\n",
      "2024-04-29 05:11:33,628 : INFO : optimized alpha [0.0750348, 0.031236231, 0.11988925, 0.059296258, 0.057120748, 0.08292067, 0.07764597, 0.039559696, 0.060634248, 0.04248768]\n",
      "2024-04-29 05:11:33,684 : INFO : topic #1 (0.031): 0.022*\"slavery\" + 0.014*\"man\" + 0.009*\"fish\" + 0.008*\"eat\" + 0.008*\"suck\" + 0.008*\"hate\" + 0.007*\"ass\" + 0.007*\"racist\" + 0.007*\"scary\" + 0.006*\"fuck\"\n",
      "2024-04-29 05:11:33,686 : INFO : topic #7 (0.040): 0.029*\"game\" + 0.020*\"island\" + 0.011*\"monkey\" + 0.010*\"good\" + 0.009*\"raft\" + 0.008*\"cool\" + 0.008*\"like\" + 0.008*\"build\" + 0.007*\"shark\" + 0.006*\"boat\"\n",
      "2024-04-29 05:11:33,687 : INFO : topic #6 (0.078): 0.050*\"game\" + 0.014*\"feel\" + 0.009*\"thing\" + 0.007*\"story\" + 0.007*\"time\" + 0.007*\"play\" + 0.006*\"build\" + 0.006*\"way\" + 0.006*\"good\" + 0.006*\"survival\"\n",
      "2024-04-29 05:11:33,688 : INFO : topic #5 (0.083): 0.072*\"game\" + 0.018*\"play\" + 0.016*\"server\" + 0.016*\"player\" + 0.011*\"time\" + 0.008*\"people\" + 0.008*\"update\" + 0.008*\"buy\" + 0.007*\"devs\" + 0.007*\"hour\"\n",
      "2024-04-29 05:11:33,689 : INFO : topic #2 (0.120): 0.124*\"game\" + 0.033*\"play\" + 0.019*\"love\" + 0.019*\"fun\" + 0.016*\"good\" + 0.014*\"hour\" + 0.011*\"grind\" + 0.010*\"great\" + 0.010*\"bug\" + 0.010*\"well\"\n",
      "2024-04-29 05:11:33,692 : INFO : topic diff=0.020720, rho=0.179605\n",
      "2024-04-29 05:11:33,694 : INFO : LdaModel lifecycle event {'msg': 'trained LdaModel<num_terms=30730, num_topics=10, decay=0.5, chunksize=28000> in 645.11s', 'datetime': '2024-04-29T05:11:33.694413', 'gensim': '4.3.2', 'python': '3.12.3 | packaged by conda-forge | (main, Apr 15 2024, 18:20:11) [MSC v.1938 64 bit (AMD64)]', 'platform': 'Windows-10-10.0.19045-SP0', 'event': 'created'}\n"
     ]
    }
   ],
   "source": [
    "lda_model = gensim.models.ldamodel.LdaModel(corpus=corpus,\n",
    "                                           id2word=id2word,\n",
    "                                           num_topics=10,\n",
    "                                           random_state=100,\n",
    "                                           update_every=1,\n",
    "                                           chunksize=28000,\n",
    "                                           passes=30,\n",
    "                                           alpha=\"auto\",\n",
    "                                           eval_every = None,\n",
    "                                           )"
   ]
  },
  {
   "cell_type": "code",
   "execution_count": 108,
   "id": "fa355376-11ec-47a7-99b0-e689c955e86f",
   "metadata": {},
   "outputs": [],
   "source": [
    "## Visualize Data"
   ]
  },
  {
   "cell_type": "code",
   "execution_count": 109,
   "id": "acaeeaa4-808c-43f9-8428-afe45cf12bbb",
   "metadata": {},
   "outputs": [
    {
     "data": {
      "text/html": [
       "\n",
       "<link rel=\"stylesheet\" type=\"text/css\" href=\"https://cdn.jsdelivr.net/gh/bmabey/pyLDAvis@3.4.0/pyLDAvis/js/ldavis.v1.0.0.css\">\n",
       "\n",
       "\n",
       "<div id=\"ldavis_el1682821233484547366208159815\" style=\"background-color:white;\"></div>\n",
       "<script type=\"text/javascript\">\n",
       "\n",
       "var ldavis_el1682821233484547366208159815_data = {\"mdsDat\": {\"x\": [-0.0797773529809325, -0.04740192109782098, -0.11798476989412704, 0.0863956583234752, -0.03607504960353619, -0.24919585385632292, 0.04906386271935597, -0.15437274457895347, 0.14732630969979185, 0.40202186126907], \"y\": [0.1010542603564349, 0.1598930660848175, -0.03438563792532321, 0.17372907672405716, 0.016766317431037205, 0.014529725628468876, -0.14225708143473054, -0.1842265707645946, 0.028644015318371876, -0.13374717141853917], \"topics\": [1, 2, 3, 4, 5, 6, 7, 8, 9, 10], \"cluster\": [1, 1, 1, 1, 1, 1, 1, 1, 1, 1], \"Freq\": [21.709741783555465, 18.891503155963175, 16.899381132141038, 14.629663958719256, 9.126756274683206, 8.515462129137266, 4.387204878684596, 3.391482856005311, 1.988846966320652, 0.45995686479003506]}, \"tinfo\": {\"Term\": [\"game\", \"fun\", \"good\", \"play\", \"zombie\", \"great\", \"server\", \"friend\", \"player\", \"love\", \"airship\", \"leviathan\", \"terraformation\", \"pass_pet\", \"flora\", \"seamoth\", \"absolutely_gorgeous\", \"sea_truck\", \"terraform_planet\", \"floaty\", \"prawn_suit\", \"cyclop\", \"seatruck\", \"underwater\", \"feel\", \"sequel\", \"story\", \"original\", \"physics\", \"campaign\", \"planet\", \"sound\", \"mission\", \"game\", \"thing\", \"bit\", \"world\", \"way\", \"little\", \"survival\", \"look\", \"think\", \"build\", \"time\", \"play\", \"good\", \"augmentation\", \"gear_score\", \"augment\", \"wand\", \"enchantment\", \"confusion\", \"crashland\", \"infusion\", \"pixel_art\", \"standout_feature\", \"enchant\", \"embark\", \"realm\", \"dungeon\", \"recipe\", \"bench\", \"boss\", \"craft\", \"essence\", \"tier\", \"unlock\", \"material\", \"item\", \"gear\", \"combat\", \"level\", \"system\", \"resource\", \"different\", \"game\", \"fun\", \"world\", \"survival\", \"time\", \"player\", \"need\", \"pay_win\", \"battle_pass\", \"abandonware\", \"unofficial_server\", \"fund\", \"fomo\", \"business_practice\", \"business_model\", \"disregard\", \"scummy\", \"customer\", \"playerbase\", \"consumer\", \"server\", \"official_server\", \"pay\", \"refund\", \"community\", \"online\", \"devs\", \"player\", \"developer\", \"company\", \"money\", \"update\", \"game\", \"buy\", \"people\", \"play\", \"time\", \"hour\", \"rabbit\", \"solar_panel\", \"bandage\", \"hatchet\", \"wound\", \"hound\", \"growl\", \"protein\", \"dehydrate\", \"jaguar\", \"wolf\", \"freeze_death\", \"cold\", \"shotgun\", \"food\", \"clothe\", \"fire\", \"turret\", \"wood\", \"die\", \"eat\", \"house\", \"door\", \"spawn\", \"night\", \"kill\", \"find\", \"water\", \"build\", \"run\", \"day\", \"need\", \"base\", \"start\", \"time\", \"game\", \"add_sex_add_sex\", \"sphere\", \"bee_happy\", \"fanbois\", \"palball\", \"pal_sphere\", \"sorcery\", \"palworld_win\", \"uncle_instal_computer\", \"return_monke\", \"pal\", \"breed\", \"tr_td\", \"assign\", \"catch\", \"pathing\", \"block\", \"menu\", \"work\", \"issue\", \"play\", \"fix\", \"game\", \"load\", \"get\", \"time\", \"base\", \"thing\", \"need\", \"build\", \"grind_care_leaderboard\", \"rank_necessary_progress_average\", \"big_terrarium\", \"pokemon\", \"good_bad_deaf\", \"good_gameplay_paint\", \"worth_price_sale_spare\", \"leave_recommend_burn\", \"money_hear\", \"fast_boi_ask_spare\", \"love\", \"game\", \"grind\", \"amazing\", \"play\", \"early_access\", \"fun\", \"year\", \"bug\", \"hour\", \"good\", \"buy\", \"great\", \"well\", \"nation\", \"bully\", \"censor\", \"warfare\", \"civil\", \"censorship\", \"gv\", \"clan_member\", \"liar\", \"gambling_addict_friend\", \"guild\", \"mercenary\", \"founder\", \"ban\", \"faction\", \"moderation\", \"criminal\", \"moderator\", \"king\", \"castle\", \"horse\", \"dino\", \"rust\", \"people\", \"toxic\", \"exploit\", \"post\", \"player\", \"game\", \"know\", \"time\", \"get\", \"kill\", \"go\", \"zombot\", \"dead_rise\", \"redemption_arc\", \"puppet_spawn\", \"free_running\", \"pls\", \"bug_use_speedrun\", \"palwordi\", \"\\u10d7\\u10e3\\u10db\\u10ea\\u10d0\", \"sigma\", \"zombie\", \"fps_cap\", \"parkour\", \"zombie_apocalypse\", \"puppet\", \"fun\", \"horde\", \"good\", \"friend\", \"co_op\", \"great\", \"play\", \"game\", \"kill\", \"pretty\", \"get\", \"hour\", \"monkey\", \"cactus_hate_roll_cactus\", \"roll_cactus_hate_roll\", \"hate_roll_cactus_hate\", \"monke\", \"ancestor\", \"bricktron\", \"paddle\", \"ape\", \"monkey_minion\", \"shark\", \"raft\", \"sex\", \"island\", \"boat\", \"starve\", \"cool\", \"game\", \"learn\", \"like\", \"good\", \"build\", \"slavery\", \"wasp\", \"expand_factory_expand_factory\", \"\\u1d00\\u0274\\u1d05\", \"\\u0438\\u0433\\u0440\\u0430\", \"\\u0262\\u1d00\\u1d0d\\u1d07\", \"racial_slur\", \"factory_expand_factory_expand\", \"skibidi\", \"lamball\", \"cancer\", \"racist\", \"black_screen\", \"disease\", \"man\", \"woman\", \"ass\", \"fish\", \"scary\", \"fuck\", \"suck\", \"hate\", \"eat\"], \"Freq\": [64023.0, 8979.0, 9399.0, 15357.0, 2259.0, 4853.0, 4190.0, 3503.0, 7010.0, 3989.0, 79.45936968448552, 63.71697327055807, 24.026897467373566, 22.925316766946292, 22.979326846049023, 21.005204183190166, 18.966206812190446, 17.013963761515864, 16.02706205259837, 21.65990157991464, 21.715227772373837, 32.246311669211345, 33.92866909599749, 157.34146298652544, 3915.141750535022, 123.65789992162819, 2074.548711060911, 548.2809442701429, 137.0634969080641, 127.99515045804387, 741.1601042272919, 594.394656300157, 633.5256763964776, 14099.852277106183, 2644.3773680306454, 1113.4371393091078, 1569.6189836609462, 1714.4684012213402, 1102.2708958110068, 1657.2430839641488, 1462.5179545353033, 1351.8890990049892, 1717.787560839829, 2027.6523338110887, 1928.3674114995163, 1665.6270597073872, 71.5048681561498, 52.774419490031356, 111.98715873152973, 27.82956876840298, 51.80922283065526, 23.84872668715835, 62.12137697106997, 19.94547033561545, 17.930044390561672, 16.96168974519064, 39.38150483740661, 43.08971522760782, 795.5735965031841, 507.3805978991472, 584.18023642189, 238.01726822495127, 1105.9508122567552, 4444.185958833324, 162.46046387265284, 507.96989744235515, 785.2817022229775, 1093.100239580331, 2123.6476661006595, 808.0602086052826, 1449.804772932072, 1631.1556709770018, 1921.0083435646252, 1413.7425085254254, 1375.1312583379192, 7647.45011743818, 2400.725701057621, 1516.8604653824727, 1618.8929640249455, 1841.817726097182, 1626.791011722772, 1548.435220936685, 78.58324031592461, 64.51681199191417, 47.06452543517224, 26.24604002912147, 64.14812239707872, 23.232098787965754, 23.230271052106854, 20.18825642946928, 20.139617813020664, 18.20661559158853, 96.7396925745717, 119.1875147153151, 45.78982717508053, 3603.5298503644362, 264.7012236935497, 831.1431935919258, 383.3508581914698, 1144.532966195133, 698.2946808447537, 1566.391333034881, 3484.513642597412, 1390.7972475133315, 358.22940479700407, 993.7065100581997, 1843.7657565186228, 15864.541625339825, 1747.57918811982, 1853.9144747142868, 3914.6532305026085, 2421.4023199628828, 1504.122001251693, 74.3522865057424, 58.774734722085306, 124.88308000857664, 42.167372460791846, 95.6458049763832, 37.27786293658399, 36.193464597900466, 31.347533758186852, 29.362423220723823, 26.498566095692382, 340.0674122810308, 48.761258520363455, 256.3007808423818, 116.41298709649507, 1014.2474659603208, 166.70951220648854, 603.3257040123771, 171.56320998417368, 423.7802136763832, 1464.2363374165031, 562.3653492437412, 674.5188676110456, 354.7714750112574, 743.1430234833457, 597.7236043002296, 1224.388140805602, 2035.5926807318083, 664.4249794510825, 1716.8760091013128, 1214.4957599941838, 1137.1509594509353, 1585.746023630936, 1360.5913857855423, 1157.7126147349459, 1540.412599643636, 1771.5941592837937, 38.41472205335102, 52.182228579808196, 14.810426396927218, 10.868863940213059, 10.86934536564095, 22.455465655310284, 10.816881250350889, 9.899554537191223, 9.906360299535134, 9.765494007112263, 1660.0273593307763, 107.05559066659778, 35.416151653516096, 95.12863243033236, 439.6960813749981, 74.40955746166757, 463.12139760400004, 241.48354878831347, 1315.607711455965, 860.9628925830516, 2504.1712008730065, 641.7120826515497, 5249.850998510546, 269.6066351236183, 1078.7425218227986, 1525.0867073728039, 1015.9798299761486, 1122.3361969658822, 1026.9283447143584, 936.7302498529674, 180.4856209335304, 174.6688576006608, 166.90373713700149, 612.637646450966, 149.45065511060645, 145.57108079738154, 145.57078349812653, 144.60108381063878, 131.02130696100414, 129.08170076915562, 2144.086654689823, 13805.329883671635, 1207.0077789554962, 786.2363689201611, 3672.2308844098966, 1020.9359825764993, 2125.178422070659, 959.7164302084403, 1144.665004149869, 1536.710274376752, 1724.8724723001646, 1067.9624168057665, 1162.3398843465623, 1090.3498262719183, 38.78740795488191, 25.82765019302919, 20.343407492929945, 21.106042241517027, 11.095360049325203, 10.223781522817015, 10.220290247337148, 10.969446042044876, 9.303266035976227, 9.308472148720883, 386.6612400821651, 10.12578107047014, 18.121084950758327, 316.4688685227215, 268.0317416305426, 21.74909456157911, 30.903724996516555, 53.60541665335767, 80.51154298622768, 137.249447876504, 138.04075037544294, 78.47890475400942, 111.45445284668993, 849.8006792868385, 115.15218141411296, 120.3686164801686, 177.7278651826472, 527.3943848567599, 1157.5694691219112, 335.26902570055523, 510.8732364144876, 396.2337480553923, 300.7440971657795, 307.32265244461536, 35.73305028308877, 40.826435992796284, 23.844377155415877, 20.165439706749243, 14.713161584919584, 11.96107092711882, 11.954915080664474, 10.141704908972761, 9.23466480826143, 9.227521812689274, 1775.8151509761542, 10.797881074650643, 75.43869750253845, 40.37802318427471, 81.19122597338219, 3108.742707328973, 175.0094353929851, 2649.3856249343053, 985.6896918429412, 199.84737363088456, 865.3211506393604, 1647.5252001445674, 3658.977103024643, 431.7632812250896, 305.05499296332243, 352.32546889776347, 335.6851875977091, 295.78127654270236, 50.37804687114267, 50.37804083319805, 50.37803479525342, 33.049719392626216, 29.42223999985647, 30.81063517741373, 18.193616266282948, 55.23154299658048, 14.088467526536633, 175.77367335066901, 221.96312859678827, 83.40026946393155, 518.0974316860188, 152.8872185896184, 126.46374794119173, 208.1159479040021, 757.9310166956658, 143.20809145320246, 205.3228913260589, 249.95559538454964, 198.0606809690208, 132.930886154961, 25.89388020598682, 17.76597718477558, 16.40398751967022, 12.303666489608373, 11.639002367928613, 12.847189411996668, 10.278057896246802, 8.233526903309436, 8.223746629777677, 31.464111834931227, 40.58428113696016, 18.826981864347463, 30.132098345140868, 86.57506508616773, 24.369944906551694, 43.40730598424792, 51.4398988155805, 39.13627002834011, 37.8855428439225, 46.15372241256091, 45.09157968002952, 46.676855335790044], \"Total\": [64023.0, 8979.0, 9399.0, 15357.0, 2259.0, 4853.0, 4190.0, 3503.0, 7010.0, 3989.0, 81.79128540070262, 65.6212657652584, 24.85917815197725, 23.753602333572474, 23.848018817932495, 21.873921584482453, 19.83241195744742, 17.876355524786867, 16.864934118130467, 22.79236517709726, 22.85957904758085, 34.31948689371485, 36.498197134416536, 193.92165631303615, 6801.18201014528, 152.91497545687477, 3459.0197889894753, 806.8413801582981, 174.09947855511942, 168.34992895007474, 1361.8136777300667, 1080.6544970567545, 1168.4512147816974, 64023.82613110795, 7498.223932108476, 2657.977372331682, 4205.731530681892, 5165.775180119203, 2767.232447749491, 5469.649994434882, 4620.38878518458, 4007.444509049883, 6414.51792499643, 11338.841212480478, 15357.34101956681, 9399.598429174597, 72.52173124967536, 53.61840673647578, 114.27959064987088, 28.73749485677014, 53.57572737901975, 24.70784215243906, 64.50336110362925, 20.788230681866573, 18.770986568977122, 17.79628154442955, 41.509839380735606, 45.55562487147683, 919.950191989176, 594.0138450568367, 693.6769591941361, 274.4671568136795, 1383.985612654384, 6427.898675715918, 184.75218215879877, 656.9971297398761, 1102.0176653310255, 1646.4813829407256, 3918.3062967583264, 1244.3122244375322, 2632.832162583033, 3255.7977807870748, 4343.333123148496, 3002.9458473302925, 2932.18492524263, 64023.82613110795, 8979.385240730997, 4205.731530681892, 5469.649994434882, 11338.841212480478, 7010.272681306777, 7221.7023796895965, 79.48622474367333, 65.38422354529573, 48.23941628519644, 27.085867951552046, 66.28888224084648, 24.064381338074472, 24.0716481061406, 21.031092559477433, 21.026060496411493, 19.037612737590628, 101.44723082383477, 125.38010002689451, 48.08312531750746, 4190.6229274456755, 298.38400809562614, 1035.5932455100708, 468.8208996510588, 1534.5540009476872, 999.7503663039394, 2617.757600813721, 7010.272681306777, 2410.432251469646, 483.55035263194253, 1725.3000272011145, 3817.363028752754, 64023.82613110795, 3633.7335395248706, 4257.059549606324, 15357.34101956681, 11338.841212480478, 6602.5588674282135, 75.32440722174539, 59.65989154442325, 127.16097103103034, 43.012769186770804, 97.77835331008048, 38.113339817012836, 37.12039648370496, 32.22871306828517, 30.265862119524922, 27.34265827806639, 357.2312419304184, 50.76807045192193, 289.02156198171105, 127.23735243972061, 1273.6283336846552, 191.24790320737415, 775.6771114926022, 199.5774195260672, 569.637871011702, 2493.0002595459887, 808.9028849117848, 1032.6436049575598, 480.63913819219266, 1242.7997686778608, 945.7722144008476, 2669.298495250894, 5838.17833379304, 1155.8509969927711, 6414.51792499643, 3566.790806195141, 3439.9261258328615, 7221.7023796895965, 5818.169801964481, 4395.277093376233, 11338.841212480478, 64023.82613110795, 39.244301425099216, 53.95103793531332, 15.640431641961857, 11.69913562114863, 11.701853068228457, 24.186851043047593, 11.651320127225286, 10.729489588065794, 10.738777365874911, 10.59711765684035, 2136.927496785017, 151.7296525088838, 44.570236567049974, 140.56709590583995, 838.7823853780017, 111.07877521492499, 1142.2642858129423, 524.207044645143, 5039.150118436897, 3198.942178909205, 15357.34101956681, 2390.1304524432094, 64023.82613110795, 672.7010876141732, 6298.596462799917, 11338.841212480478, 5818.169801964481, 7498.223932108476, 7221.7023796895965, 6414.51792499643, 181.3247072822904, 175.50579492637505, 167.74426815584525, 615.8220889128993, 150.28684077870517, 146.4070184474314, 146.40701619932827, 145.43712246117417, 131.85721805820808, 129.91719806571808, 3989.823344510169, 64023.82613110795, 2675.329833272548, 1585.2196610449605, 15357.34101956681, 2553.637296200705, 8979.385240730997, 2623.58888784526, 3758.8080233287856, 6602.5588674282135, 9399.598429174597, 3633.7335395248706, 4853.092226821134, 4084.245783561625, 39.6662164160843, 26.74487807920927, 21.21103906388872, 22.10945352567759, 11.94708377558729, 11.05987419553293, 11.05931673841238, 11.93421753927259, 10.139739483171862, 10.147304452556622, 431.59748187330655, 11.050860588670393, 20.25105804854181, 427.35681475032817, 374.8735978998916, 25.071533898853236, 38.12636743969992, 71.41198911290822, 114.53534414672845, 230.04843167388236, 235.95908109459333, 121.52991073656354, 218.313425851157, 4257.059549606324, 232.4824635213903, 263.34327912436413, 563.3233522192047, 7010.272681306777, 64023.82613110795, 3475.3466684536843, 11338.841212480478, 6298.596462799917, 2669.298495250894, 5089.1858041572605, 36.57780582465281, 42.0935865272564, 24.68355239321445, 21.026479529792358, 15.552965329874857, 12.798683193412547, 12.792641492642307, 10.978096001871595, 10.071448395058352, 10.065119205846965, 2259.5586485447416, 11.819729021893584, 87.72740650311681, 47.05436075855408, 117.58578467756563, 8979.385240730997, 309.8182367333884, 9399.598429174597, 3503.82916576131, 476.6794865781794, 4853.092226821134, 15357.34101956681, 64023.82613110795, 2669.298495250894, 2979.317158571078, 6298.596462799917, 6602.5588674282135, 296.95022545282853, 51.22346971420506, 51.223470561766845, 51.223468394886446, 33.90455583660009, 30.612857509321376, 32.180395588824496, 19.05231531456928, 58.004647013783284, 14.936026294563842, 190.32323240662376, 246.57468906248567, 93.31382181610869, 1065.8371970876744, 253.33183768893596, 410.89269590925244, 1375.3720313901472, 64023.82613110795, 1154.1441180333743, 4317.322628037812, 9399.598429174597, 6414.51792499643, 135.54392223273814, 26.76782914407166, 18.625769421527302, 17.26460594252367, 13.181185114975019, 12.49948671158198, 13.905853509501318, 11.137850132998526, 9.09434783782708, 9.09110195432315, 41.83911938192723, 57.55029388957556, 25.94318084113606, 65.1543575063701, 481.8511664196401, 51.83629651794352, 193.06453545240308, 310.1354580693974, 204.2919460652479, 209.98585436120052, 533.9675288628472, 616.8111905244575, 808.9028849117848], \"Category\": [\"Default\", \"Default\", \"Default\", \"Default\", \"Default\", \"Default\", \"Default\", \"Default\", \"Default\", \"Default\", \"Topic1\", \"Topic1\", \"Topic1\", \"Topic1\", \"Topic1\", \"Topic1\", \"Topic1\", \"Topic1\", \"Topic1\", \"Topic1\", \"Topic1\", \"Topic1\", \"Topic1\", \"Topic1\", \"Topic1\", \"Topic1\", \"Topic1\", \"Topic1\", \"Topic1\", \"Topic1\", \"Topic1\", \"Topic1\", \"Topic1\", \"Topic1\", \"Topic1\", \"Topic1\", \"Topic1\", \"Topic1\", \"Topic1\", \"Topic1\", \"Topic1\", \"Topic1\", \"Topic1\", \"Topic1\", \"Topic1\", \"Topic1\", \"Topic2\", \"Topic2\", \"Topic2\", \"Topic2\", \"Topic2\", \"Topic2\", \"Topic2\", \"Topic2\", \"Topic2\", \"Topic2\", \"Topic2\", \"Topic2\", \"Topic2\", \"Topic2\", \"Topic2\", \"Topic2\", \"Topic2\", \"Topic2\", \"Topic2\", \"Topic2\", \"Topic2\", \"Topic2\", \"Topic2\", \"Topic2\", \"Topic2\", \"Topic2\", \"Topic2\", \"Topic2\", \"Topic2\", \"Topic2\", \"Topic2\", \"Topic2\", \"Topic2\", \"Topic2\", \"Topic2\", \"Topic2\", \"Topic3\", \"Topic3\", \"Topic3\", \"Topic3\", \"Topic3\", \"Topic3\", \"Topic3\", \"Topic3\", \"Topic3\", \"Topic3\", \"Topic3\", \"Topic3\", \"Topic3\", \"Topic3\", \"Topic3\", \"Topic3\", \"Topic3\", \"Topic3\", \"Topic3\", \"Topic3\", \"Topic3\", \"Topic3\", \"Topic3\", \"Topic3\", \"Topic3\", \"Topic3\", \"Topic3\", \"Topic3\", \"Topic3\", \"Topic3\", \"Topic3\", \"Topic4\", \"Topic4\", \"Topic4\", \"Topic4\", \"Topic4\", \"Topic4\", \"Topic4\", \"Topic4\", \"Topic4\", \"Topic4\", \"Topic4\", \"Topic4\", \"Topic4\", \"Topic4\", \"Topic4\", \"Topic4\", \"Topic4\", \"Topic4\", \"Topic4\", \"Topic4\", \"Topic4\", \"Topic4\", \"Topic4\", \"Topic4\", \"Topic4\", \"Topic4\", \"Topic4\", \"Topic4\", \"Topic4\", \"Topic4\", \"Topic4\", \"Topic4\", \"Topic4\", \"Topic4\", \"Topic4\", \"Topic4\", \"Topic5\", \"Topic5\", \"Topic5\", \"Topic5\", \"Topic5\", \"Topic5\", \"Topic5\", \"Topic5\", \"Topic5\", \"Topic5\", \"Topic5\", \"Topic5\", \"Topic5\", \"Topic5\", \"Topic5\", \"Topic5\", \"Topic5\", \"Topic5\", \"Topic5\", \"Topic5\", \"Topic5\", \"Topic5\", \"Topic5\", \"Topic5\", \"Topic5\", \"Topic5\", \"Topic5\", \"Topic5\", \"Topic5\", \"Topic5\", \"Topic6\", \"Topic6\", \"Topic6\", \"Topic6\", \"Topic6\", \"Topic6\", \"Topic6\", \"Topic6\", \"Topic6\", \"Topic6\", \"Topic6\", \"Topic6\", \"Topic6\", \"Topic6\", \"Topic6\", \"Topic6\", \"Topic6\", \"Topic6\", \"Topic6\", \"Topic6\", \"Topic6\", \"Topic6\", \"Topic6\", \"Topic6\", \"Topic7\", \"Topic7\", \"Topic7\", \"Topic7\", \"Topic7\", \"Topic7\", \"Topic7\", \"Topic7\", \"Topic7\", \"Topic7\", \"Topic7\", \"Topic7\", \"Topic7\", \"Topic7\", \"Topic7\", \"Topic7\", \"Topic7\", \"Topic7\", \"Topic7\", \"Topic7\", \"Topic7\", \"Topic7\", \"Topic7\", \"Topic7\", \"Topic7\", \"Topic7\", \"Topic7\", \"Topic7\", \"Topic7\", \"Topic7\", \"Topic7\", \"Topic7\", \"Topic7\", \"Topic7\", \"Topic8\", \"Topic8\", \"Topic8\", \"Topic8\", \"Topic8\", \"Topic8\", \"Topic8\", \"Topic8\", \"Topic8\", \"Topic8\", \"Topic8\", \"Topic8\", \"Topic8\", \"Topic8\", \"Topic8\", \"Topic8\", \"Topic8\", \"Topic8\", \"Topic8\", \"Topic8\", \"Topic8\", \"Topic8\", \"Topic8\", \"Topic8\", \"Topic8\", \"Topic8\", \"Topic8\", \"Topic9\", \"Topic9\", \"Topic9\", \"Topic9\", \"Topic9\", \"Topic9\", \"Topic9\", \"Topic9\", \"Topic9\", \"Topic9\", \"Topic9\", \"Topic9\", \"Topic9\", \"Topic9\", \"Topic9\", \"Topic9\", \"Topic9\", \"Topic9\", \"Topic9\", \"Topic9\", \"Topic9\", \"Topic9\", \"Topic10\", \"Topic10\", \"Topic10\", \"Topic10\", \"Topic10\", \"Topic10\", \"Topic10\", \"Topic10\", \"Topic10\", \"Topic10\", \"Topic10\", \"Topic10\", \"Topic10\", \"Topic10\", \"Topic10\", \"Topic10\", \"Topic10\", \"Topic10\", \"Topic10\", \"Topic10\", \"Topic10\", \"Topic10\", \"Topic10\"], \"logprob\": [10.0, 9.0, 8.0, 7.0, 6.0, 5.0, 4.0, 3.0, 2.0, 1.0, -8.1782, -8.399, -9.3743, -9.4212, -9.4189, -9.5087, -9.6108, -9.7194, -9.7792, -9.478, -9.4755, -9.0801, -9.0292, -7.4951, -4.2809, -7.736, -4.916, -6.2467, -7.633, -7.7015, -5.9453, -6.1659, -6.1022, -2.9995, -4.6733, -5.5383, -5.1949, -5.1066, -5.5483, -5.1406, -5.2656, -5.3442, -5.1047, -4.9388, -4.989, -5.1355, -8.1447, -8.4484, -7.696, -9.0883, -8.4669, -9.2427, -8.2853, -9.4214, -9.5279, -9.5835, -8.7411, -8.6511, -5.7354, -6.1852, -6.0442, -6.9421, -5.406, -4.0151, -7.324, -6.184, -5.7484, -5.4176, -4.7535, -5.7198, -5.1352, -5.0174, -4.8538, -5.1604, -5.1881, -3.4723, -4.6309, -5.09, -5.0249, -4.8959, -5.0201, -5.0694, -7.9388, -8.1361, -8.4515, -9.0355, -8.1418, -9.1574, -9.1575, -9.2979, -9.3003, -9.4012, -7.731, -7.5223, -8.4789, -4.1133, -6.7244, -5.5802, -6.354, -5.2602, -5.7543, -4.9465, -4.1469, -5.0654, -6.4218, -5.4015, -4.7834, -2.6311, -4.837, -4.7779, -4.0305, -4.5109, -4.987, -7.8499, -8.085, -7.3314, -8.4171, -7.5981, -8.5404, -8.5699, -8.7136, -8.779, -8.8817, -6.3296, -8.2718, -6.6124, -7.4016, -5.2369, -7.0425, -5.7563, -7.0138, -6.1095, -4.8697, -5.8266, -5.6448, -6.2873, -5.5479, -5.7656, -5.0486, -4.5402, -5.6598, -4.7105, -5.0567, -5.1225, -4.7899, -4.9431, -5.1046, -4.819, -4.6791, -8.0385, -7.7322, -8.9916, -9.301, -9.301, -8.5754, -9.3058, -9.3944, -9.3937, -9.4081, -4.2723, -7.0136, -8.1198, -7.1317, -5.6008, -7.3773, -5.5489, -6.2001, -4.5049, -4.9289, -3.8612, -5.2228, -3.121, -6.09, -4.7034, -4.3571, -4.7633, -4.6638, -4.7526, -4.8445, -6.4219, -6.4547, -6.5002, -5.1998, -6.6106, -6.6369, -6.6369, -6.6436, -6.7422, -6.7571, -3.9471, -2.0848, -4.5217, -4.9503, -3.409, -4.6891, -3.956, -4.751, -4.5747, -4.2802, -4.1647, -4.6441, -4.5594, -4.6233, -7.2963, -7.703, -7.9416, -7.9048, -8.5479, -8.6297, -8.63, -8.5593, -8.724, -8.7235, -4.9969, -8.6393, -8.0573, -5.1972, -5.3633, -7.8748, -7.5235, -6.9728, -6.566, -6.0326, -6.0269, -6.5916, -6.2408, -4.2094, -6.2081, -6.1638, -5.7741, -4.6865, -3.9003, -5.1395, -4.7183, -4.9724, -5.2481, -5.2265, -7.1209, -6.9876, -7.5254, -7.693, -8.0082, -8.2153, -8.2158, -8.3803, -8.474, -8.4748, -3.215, -8.3176, -6.3737, -6.9987, -6.3002, -2.655, -5.5321, -2.8149, -3.8036, -5.3994, -3.9339, -3.2899, -2.492, -4.6291, -4.9765, -4.8324, -4.8808, -4.4736, -6.2437, -6.2437, -6.2437, -6.6652, -6.7815, -6.7354, -7.2622, -6.1517, -7.5179, -4.9941, -4.7608, -5.7396, -3.9131, -5.1336, -5.3233, -4.8252, -3.5327, -5.199, -4.8387, -4.642, -4.8747, -3.8093, -5.4451, -5.8218, -5.9016, -6.1892, -6.2447, -6.146, -6.3691, -6.5909, -6.5921, -5.2502, -4.9957, -5.7638, -5.2935, -4.2381, -5.5057, -4.9285, -4.7587, -5.032, -5.0645, -4.8671, -4.8904, -4.8558], \"loglift\": [10.0, 9.0, 8.0, 7.0, 6.0, 5.0, 4.0, 3.0, 2.0, 1.0, 1.4985, 1.498, 1.4934, 1.4919, 1.4903, 1.4869, 1.4828, 1.478, 1.4765, 1.4764, 1.4761, 1.4651, 1.4544, 1.3184, 0.9752, 1.315, 1.0162, 1.1411, 1.2882, 1.2534, 0.9191, 0.9296, 0.9153, 0.0143, 0.4852, 0.6573, 0.5418, 0.4245, 0.6069, 0.3333, 0.3771, 0.4408, 0.2099, -0.1939, -0.5475, -0.2031, 1.6523, 1.6506, 1.6462, 1.6344, 1.6329, 1.6311, 1.6288, 1.6251, 1.6206, 1.6184, 1.6138, 1.6108, 1.5212, 1.5088, 1.4947, 1.524, 1.4422, 1.2974, 1.5379, 1.4092, 1.3276, 1.2568, 1.0539, 1.2348, 1.0698, 0.9753, 0.8507, 0.9131, 0.9093, -0.4584, 0.3473, 0.6467, 0.449, -0.151, 0.2057, 0.1266, 1.7665, 1.7645, 1.7532, 1.7464, 1.7451, 1.7427, 1.7423, 1.737, 1.7348, 1.7333, 1.7304, 1.7272, 1.729, 1.627, 1.6581, 1.558, 1.5766, 1.4847, 1.419, 1.2643, 1.0788, 1.228, 1.4779, 1.2262, 1.0501, 0.3827, 1.0459, 0.9466, 0.411, 0.234, 0.2986, 1.9091, 1.9072, 1.904, 1.9023, 1.9001, 1.9, 1.8968, 1.8944, 1.8918, 1.8908, 1.8729, 1.8818, 1.802, 1.8332, 1.6944, 1.7848, 1.6708, 1.7709, 1.6263, 1.39, 1.5586, 1.4962, 1.6185, 1.4079, 1.4632, 1.1427, 0.8685, 1.3684, 0.6041, 0.8448, 0.8152, 0.4061, 0.4691, 0.588, -0.0741, -1.6653, 2.3726, 2.3606, 2.3394, 2.3203, 2.3202, 2.3197, 2.3196, 2.3135, 2.3133, 2.3122, 2.1414, 2.0452, 2.1641, 2.0035, 1.7481, 1.9933, 1.4912, 1.6189, 1.051, 1.0814, 0.5803, 1.079, -0.1071, 1.4796, 0.6294, 0.3878, 0.6488, 0.4947, 0.4434, 0.47, 2.4586, 2.4585, 2.4583, 2.4581, 2.4577, 2.4576, 2.4576, 2.4575, 2.4569, 2.4568, 1.8423, 0.9291, 1.6674, 1.7621, 1.0325, 1.5465, 1.0222, 1.4576, 1.2743, 1.0055, 0.7678, 1.2388, 1.0341, 1.1426, 3.1041, 3.0916, 3.0847, 3.08, 3.0525, 3.0479, 3.0476, 3.0422, 3.0404, 3.0402, 3.0165, 3.0391, 3.0153, 2.8261, 2.791, 2.9843, 2.9164, 2.8397, 2.774, 2.61, 2.5904, 2.6891, 2.4542, 1.5151, 2.4239, 2.3436, 1.9729, 0.5393, -0.8865, 0.788, 0.0266, 0.3604, 0.9432, 0.3195, 3.3605, 3.3533, 3.3493, 3.3421, 3.3284, 3.3162, 3.3162, 3.3047, 3.2972, 3.297, 3.143, 3.2935, 3.233, 3.2309, 3.0135, 2.3232, 2.8128, 2.1176, 2.1156, 2.5146, 1.6596, 1.1516, 0.5218, 1.5622, 1.1049, 0.5004, 0.4049, 3.9137, 3.901, 3.901, 3.901, 3.8921, 3.8779, 3.8741, 3.8715, 3.8686, 3.8592, 3.8381, 3.8125, 3.8053, 3.1963, 3.4126, 2.7392, 2.0292, -0.5188, 1.8308, 0.8718, 0.2905, 0.4399, 5.3623, 5.3486, 5.3345, 5.3307, 5.3129, 5.3105, 5.3026, 5.3015, 5.2824, 5.2815, 5.0968, 5.0325, 5.0612, 4.6106, 3.6652, 4.6271, 3.8894, 3.5852, 3.7293, 3.6693, 2.9334, 2.7659, 2.5294]}, \"token.table\": {\"Topic\": [3, 1, 5, 1, 3, 1, 2, 3, 4, 5, 6, 7, 8, 9, 9, 7, 9, 1, 2, 3, 4, 5, 6, 7, 8, 10, 1, 2, 4, 5, 9, 2, 4, 2, 3, 7, 4, 7, 1, 2, 3, 4, 5, 6, 7, 8, 9, 3, 5, 1, 2, 3, 4, 5, 9, 6, 1, 2, 3, 4, 5, 6, 7, 8, 9, 2, 4, 10, 1, 2, 3, 4, 5, 7, 9, 1, 2, 3, 4, 5, 8, 9, 1, 2, 3, 4, 5, 6, 7, 8, 9, 2, 3, 4, 5, 6, 7, 9, 10, 9, 1, 2, 3, 4, 5, 6, 7, 8, 9, 8, 1, 2, 3, 4, 5, 6, 7, 8, 9, 7, 3, 3, 1, 2, 3, 4, 5, 6, 7, 8, 9, 10, 9, 1, 2, 3, 5, 8, 2, 3, 7, 10, 1, 2, 3, 4, 5, 7, 9, 1, 2, 3, 4, 5, 6, 7, 9, 7, 7, 7, 7, 1, 2, 3, 4, 5, 1, 2, 3, 4, 5, 6, 8, 9, 1, 2, 4, 5, 10, 1, 2, 3, 4, 5, 6, 7, 8, 9, 1, 2, 3, 4, 5, 6, 7, 8, 9, 10, 1, 2, 3, 4, 5, 6, 7, 8, 2, 3, 7, 1, 2, 3, 4, 5, 6, 7, 8, 9, 10, 1, 2, 3, 4, 5, 6, 7, 8, 9, 2, 6, 2, 4, 7, 3, 6, 7, 1, 10, 1, 2, 3, 4, 5, 6, 7, 8, 9, 8, 4, 1, 2, 3, 4, 5, 6, 7, 8, 9, 1, 2, 3, 4, 5, 6, 7, 8, 9, 1, 2, 3, 4, 5, 6, 7, 8, 9, 1, 2, 3, 4, 5, 6, 7, 8, 9, 4, 5, 6, 7, 2, 3, 4, 10, 3, 1, 2, 3, 4, 5, 7, 8, 9, 1, 2, 3, 4, 5, 6, 7, 9, 1, 2, 3, 4, 5, 6, 7, 8, 9, 1, 2, 3, 4, 5, 6, 7, 9, 10, 2, 4, 2, 7, 9, 2, 4, 1, 2, 3, 4, 5, 9, 10, 1, 2, 3, 4, 5, 7, 1, 2, 3, 4, 5, 7, 10, 5, 6, 1, 2, 3, 4, 5, 6, 7, 8, 9, 10, 1, 2, 3, 4, 5, 6, 7, 8, 9, 1, 2, 3, 4, 5, 6, 7, 8, 9, 1, 2, 3, 4, 5, 7, 9, 10, 1, 2, 3, 4, 5, 6, 7, 8, 9, 1, 1, 3, 1, 2, 3, 4, 5, 6, 7, 9, 6, 7, 8, 8, 4, 7, 1, 2, 3, 4, 5, 6, 7, 8, 9, 1, 2, 3, 4, 5, 6, 7, 8, 9, 10, 1, 2, 3, 4, 5, 6, 7, 8, 9, 10, 2, 3, 7, 1, 2, 3, 4, 5, 6, 7, 8, 9, 10, 1, 2, 3, 4, 5, 7, 8, 9, 2, 1, 2, 3, 4, 5, 6, 7, 8, 9, 10, 1, 2, 3, 4, 5, 6, 7, 8, 9, 1, 2, 3, 4, 5, 6, 7, 8, 9, 10, 6, 6, 1, 2, 3, 4, 5, 6, 7, 8, 9, 10, 1, 2, 3, 4, 5, 6, 7, 8, 9, 6, 4, 3, 5, 7, 7, 4, 1, 2, 3, 4, 5, 6, 7, 8, 9, 10, 9, 1, 2, 3, 4, 7, 8, 1, 2, 3, 4, 5, 7, 4, 1, 2, 3, 4, 5, 6, 7, 8, 9, 1, 2, 3, 4, 5, 7, 8, 9, 2, 1, 2, 3, 4, 5, 6, 7, 8, 9, 1, 2, 3, 4, 5, 6, 7, 8, 9, 1, 2, 3, 4, 5, 7, 8, 9, 4, 1, 2, 3, 4, 5, 6, 7, 8, 9, 10, 1, 3, 4, 7, 8, 1, 2, 3, 4, 5, 6, 7, 8, 9, 10, 1, 2, 3, 4, 5, 6, 7, 8, 9, 6, 1, 2, 3, 4, 5, 6, 7, 8, 9, 1, 9, 7, 1, 2, 3, 4, 5, 6, 7, 8, 9, 10, 1, 2, 3, 4, 5, 6, 7, 8, 9, 1, 2, 3, 4, 5, 6, 8, 9, 1, 2, 3, 4, 5, 6, 7, 8, 9, 1, 2, 3, 4, 5, 6, 7, 8, 9, 10, 1, 2, 3, 4, 5, 6, 7, 8, 9, 10, 1, 2, 3, 4, 5, 6, 7, 8, 9, 1, 2, 3, 4, 5, 7, 9, 7, 1, 2, 3, 4, 5, 7, 8, 9, 3, 7, 3, 7, 8, 1, 2, 3, 4, 5, 6, 7, 8, 9, 6, 9, 9, 9, 7, 1, 2, 3, 4, 5, 6, 7, 8, 9, 10, 1, 2, 3, 4, 5, 6, 7, 8, 9, 3, 5, 7, 8, 1, 2, 3, 4, 5, 6, 7, 8, 9, 1, 2, 3, 4, 5, 6, 7, 8, 9, 9, 2, 3, 5, 6, 7, 9, 5, 10, 5, 8, 5, 1, 2, 4, 8, 1, 1, 2, 3, 4, 5, 6, 8, 1, 2, 3, 4, 5, 6, 7, 8, 9, 3, 1, 2, 3, 4, 5, 6, 7, 8, 9, 10, 1, 2, 4, 5, 8, 2, 1, 2, 3, 4, 5, 6, 9, 1, 2, 3, 4, 5, 6, 7, 8, 9, 10, 1, 2, 3, 4, 5, 6, 7, 8, 9, 2, 3, 7, 8, 8, 2, 6, 1, 2, 3, 4, 5, 6, 7, 9, 1, 1, 2, 3, 4, 5, 6, 7, 8, 9, 4, 4, 8, 8, 4, 10, 7, 10, 1, 4, 6, 9, 6, 1, 2, 3, 5, 7, 10, 1, 2, 3, 4, 5, 7, 9, 8, 1, 2, 3, 4, 5, 6, 7, 8, 9, 1, 2, 3, 4, 5, 6, 7, 8, 9, 5, 9, 1, 2, 3, 4, 5, 6, 7, 8, 9, 10, 1, 3, 4, 5, 6, 7, 8, 1, 2, 3, 4, 6, 8, 9, 10, 3, 1, 1, 1, 9, 1, 2, 4, 6, 1, 2, 3, 4, 5, 6, 7, 8, 9, 7, 9, 10, 1, 2, 4, 9, 2, 3, 4, 5, 8, 8, 10, 6, 10, 4, 5, 1, 2, 3, 4, 5, 6, 7, 8, 9, 10, 1, 2, 3, 4, 5, 7, 8, 9, 2, 5, 2, 1, 2, 3, 4, 5, 6, 7, 8, 9, 1, 2, 3, 4, 5, 6, 7, 8, 9, 10, 1, 2, 3, 4, 5, 6, 7, 8, 9, 1, 2, 3, 4, 5, 6, 7, 8, 9, 10, 1, 2, 3, 4, 5, 6, 7, 8, 9, 10, 1, 2, 3, 4, 5, 6, 7, 8, 9, 1, 1, 1, 2, 3, 4, 5, 6, 7, 8, 9, 1, 2, 3, 4, 5, 6, 7, 8, 9, 10, 1, 2, 3, 4, 5, 6, 7, 9, 1, 2, 3, 4, 5, 6, 7, 8, 9, 1, 2, 3, 4, 7, 8, 10, 2, 5, 8, 2, 3, 4, 5, 7, 8, 5, 1, 2, 4, 7, 9, 1, 2, 3, 4, 5, 6, 9, 3, 1, 2, 3, 4, 5, 6, 7, 8, 9, 2, 7, 10, 1, 2, 3, 4, 5, 6, 7, 8, 9, 10, 1, 2, 3, 4, 5, 6, 7, 8, 9, 1, 2, 3, 4, 5, 6, 7, 8, 9, 1, 2, 3, 4, 7, 1, 4, 7, 10, 1, 2, 3, 4, 5, 7, 9, 1, 2, 3, 4, 5, 6, 7, 8, 9, 1, 2, 3, 4, 5, 6, 7, 8, 9, 6, 4, 7, 1, 2, 3, 4, 5, 6, 7, 8, 9, 1, 2, 3, 4, 5, 6, 7, 8, 1, 2, 4, 8, 8, 10, 10, 8, 10], \"Freq\": [0.97430698004576, 0.9580276993421956, 0.9682934494967617, 0.9658730708653389, 0.01222624140335872, 0.23151365644687838, 0.07002184159564986, 0.04668122773043325, 0.01766316724935312, 0.0498353647392463, 0.4958303377854126, 0.013878202838777451, 0.07191432380093771, 0.0025233096070504456, 0.9473143757053626, 0.03447999605143278, 0.9481998914144015, 0.07769422781274092, 0.020718460750064244, 0.16574768600051396, 0.21754383787567458, 0.08805345818777303, 0.015538845562548184, 0.05697576706267667, 0.1346699948754176, 0.22272345306319064, 0.03557020202899612, 0.13516676771018524, 0.03557020202899612, 0.6758338385509263, 0.11382464649278758, 0.9800525129910985, 0.0175009377319839, 0.9928058632814604, 0.2573961528243432, 0.7394289481135677, 0.9830060197440376, 0.0078640481579523, 0.19593790466807684, 0.2060785506114247, 0.13354715081324184, 0.23392235811688825, 0.17462536065154918, 0.014093779107703774, 0.022515671501331637, 0.012375025557983801, 0.007046889553851887, 0.9941236046791999, 0.9590528153811537, 0.01457369270129241, 0.8671347157268984, 0.0036434231753231026, 0.07651188668178516, 0.025503962227261718, 0.010930269525969307, 0.9955630784644529, 0.4187394563948574, 0.19638993372696814, 0.06207727790220258, 0.07599763718936316, 0.1226496520976851, 0.07035424828916292, 0.007148292606920297, 0.03536523710792147, 0.010910551873720453, 0.15418309822893864, 0.11563732367170398, 0.7323697165874585, 0.1908490029037814, 0.1155599467123814, 0.032391803245137206, 0.17421537421033256, 0.40533526763509536, 0.07966632690020232, 0.0008754541417604651, 0.0986847931474657, 0.027631742081290395, 0.027631742081290395, 0.12236914350285746, 0.08684261796976982, 0.03947391725898628, 0.6039509340624901, 0.019508873324351948, 0.7991412554345649, 0.004335305183189322, 0.005057856047054208, 0.09537671403016507, 0.0014451017277297739, 0.002167652591594661, 0.015896119005027513, 0.05635896738146118, 0.08567870409667516, 0.01977200863769427, 0.006590669545898089, 0.7052016414110955, 0.09226937364257325, 0.01977200863769427, 0.03295334772949045, 0.03295334772949045, 0.9633194195650466, 0.1287642244552228, 0.02554001146219295, 0.2724267889300581, 0.009843546084386865, 0.19580675454347926, 0.3046178450438638, 0.013036047517160984, 0.03910814255148295, 0.010641671442580394, 0.9380392631890611, 0.2678299476419276, 0.191440730910528, 0.07872766214154449, 0.26767405128125127, 0.1460748899537172, 0.005144579902318749, 0.009977367083284847, 0.0023384454101448857, 0.030867479413912494, 0.9721487577171527, 0.9509729436755875, 0.9554809001271821, 0.07485414025035127, 0.03357428349464285, 0.48104793072652213, 0.02063992837785421, 0.05779179945799179, 0.29391258010064397, 0.02339191882823477, 0.004403184720608898, 0.010457563711446132, 0.00027519904503805614, 0.9761150558321946, 0.7603210812043718, 0.03564005068145493, 0.08910012670363732, 0.017820025340727463, 0.08910012670363732, 0.047802153332699375, 0.11950538333174844, 0.07170322999904907, 0.7409333766568403, 0.008693821494228695, 0.008693821494228695, 0.13910114390765912, 0.030428375229800436, 0.06955057195382956, 0.5955267723546657, 0.14779496540188783, 0.01192204339805425, 0.05126478661163327, 0.00238440867961085, 0.11206720794170995, 0.524569909514387, 0.15617876851451068, 0.13114247737859674, 0.010729839058248824, 0.9429052456958374, 0.9041694166864022, 0.9207267820853016, 0.9217194142642106, 0.020915261986756088, 0.08366104794702435, 0.005228815496689022, 0.8732121879470666, 0.010457630993378044, 0.19719749359212926, 0.16782765412096107, 0.014684919735584093, 0.010489228382560067, 0.08181598138396852, 0.09859874679606463, 0.4195691353024027, 0.008391382706048053, 0.08995868620226075, 0.0034599494693177213, 0.8857470641453367, 0.010379848407953163, 0.0034599494693177213, 0.29815801066097886, 0.5507377266986234, 0.06494906983825144, 0.010634935412111348, 0.024688242920972773, 0.00037981912186111955, 0.028486434139583967, 0.019750594336778216, 0.001899095609305598, 0.04626751483242223, 0.04887413538636151, 0.7461451335651191, 0.0052132411078785615, 0.015639723323635685, 0.03649268775514993, 0.09644496049575339, 0.003258275692424101, 0.0019549654154544607, 0.0006516551384848202, 0.022748406531248506, 0.01861233261647605, 0.7403572307442696, 0.004136073914772455, 0.022748406531248506, 0.11581006961362876, 0.06824521959374552, 0.0062041108721586835, 0.9713515187578133, 0.9566765824028295, 0.02079731700875716, 0.24647876520897277, 0.24720584121253905, 0.04798701623537523, 0.06907222033879767, 0.11560508456704031, 0.05380362426390556, 0.023266432114121324, 0.04289748421041119, 0.1512318087417886, 0.0029083040142651654, 0.1173011645078587, 0.6913612401497666, 0.020846626053120775, 0.06082858796097182, 0.07094075731509757, 0.013845893423341412, 0.0040448677416503, 0.0029558648881290654, 0.017890761164991713, 0.9611902223264395, 0.03100613620407869, 0.02622856744958944, 0.15737140469753663, 0.8130855909372726, 0.9561621269726182, 0.02957202454554489, 0.00985734151518163, 0.9324148726087267, 0.02913796476902271, 0.10174637105477355, 0.039826436670011366, 0.24593551403525266, 0.33053035396936437, 0.06453626964045638, 0.13285169020580434, 0.04941966594089001, 0.030233207399132715, 0.004941966594089001, 0.9740201152365984, 0.9581752499061212, 0.18129528416887059, 0.0526876455136077, 0.5770749205466796, 0.014520217267529681, 0.015764807319032226, 0.10413070097571285, 0.04812414865809837, 0.004978360206010176, 0.001244590051502544, 0.11269187028940351, 0.03514458327669533, 0.5982219283837488, 0.0057300950994611955, 0.06532308413385762, 0.13637626336717645, 0.03552658961665941, 0.009932164839066072, 0.0007640126799281594, 0.04251904892272419, 0.03449658686183284, 0.04572803374708073, 0.5872442228572473, 0.052948249601882956, 0.06377857338408628, 0.053750495807972094, 0.09546729852460714, 0.023666263079629504, 0.276926599345643, 0.46893358879342256, 0.06616226634612653, 0.06582122373609495, 0.06889060722637917, 0.021485684431989543, 0.014323789621326362, 0.004433553930410541, 0.012959619181200041, 0.04937056205863597, 0.2797665183322705, 0.016456854019545324, 0.6418173067622677, 0.12278534093775455, 0.015348167617219318, 0.3990523580477023, 0.46044502851657954, 0.9512005353267861, 0.06657801551567404, 0.010402814924324068, 0.02912788178810739, 0.7385998596270088, 0.10818927521297031, 0.035369570742701834, 0.008322251939459254, 0.0020805629848648136, 0.021885011785804636, 0.8535154596463809, 0.021885011785804636, 0.0033669248901237905, 0.06397157291235202, 0.0016834624450618953, 0.006733849780247581, 0.026935399120990324, 0.21694545299140164, 0.07166248717947021, 0.2044143076922593, 0.008223564102562156, 0.09594158119655849, 0.39982185470076004, 0.0007831965811963958, 0.0011747948717945936, 0.0007831965811963958, 0.03090605864599727, 0.022252362225118033, 0.0037087270375196725, 0.6947681983620186, 0.028433573954317486, 0.09766314532135137, 0.013598665804238798, 0.05068593617943552, 0.05810339025447486, 0.9439010028138819, 0.02195118611195074, 0.9395362781890116, 0.024090673799718246, 0.024090673799718246, 0.9705887823440581, 0.018665168891231886, 0.05953921556685726, 0.8768502656209888, 0.027063279803116937, 0.021650623842493548, 0.005412655960623387, 0.005412655960623387, 0.9664030297291208, 0.030378599471384236, 0.1025277732159218, 0.39112446819407204, 0.007594649867846059, 0.007594649867846059, 0.45567899207076357, 0.04001348743691917, 0.1200404623107575, 0.05868644824081478, 0.045348619095175055, 0.021340526633023556, 0.7149076422062891, 0.897839338883958, 0.940240403753864, 0.9929401335668113, 0.5756352343107447, 0.1977597420556709, 0.07557509845101476, 0.03440578411972267, 0.05337307536521081, 0.03984601494207198, 0.009116062459071818, 0.012203761033918724, 0.001911432451095704, 0.0001470332654689003, 0.22986622252220723, 0.17471203202134974, 0.08958273798741757, 0.34873891881908636, 0.09215203257596684, 0.01473062230768243, 0.025007800661879475, 0.0034257261180656814, 0.022095933461523647, 0.06317061477514968, 0.048989456356238525, 0.020627139518416222, 0.7773853206003113, 0.0464110639164365, 0.007735177319406083, 0.021916335738317236, 0.010313569759208111, 0.0038675886597030417, 0.13864909310169274, 0.05159036022388567, 0.006448795027985709, 0.4933328196409067, 0.012897590055971417, 0.02901957762593569, 0.09995632293377849, 0.16444427321363558, 0.08074873059866416, 0.03137904038808193, 0.5141978751593692, 0.019245811438023584, 0.2686045857219813, 0.04769614138988453, 0.009204518513837365, 0.025940006720814396, 0.003347097641395406, 0.9652355000922211, 0.9644407015774901, 0.9557694285541255, 0.0643829897869584, 0.10207059356469014, 0.008636742532396859, 0.7961506298045832, 0.010207059356469015, 0.000785158412036078, 0.000785158412036078, 0.016488326652757637, 0.04938013597131561, 0.888842447483681, 0.930647392983781, 0.9644463085883246, 0.9651735739376521, 0.019697419876278613, 0.03795847163430465, 0.10274473525074942, 0.11016518835219244, 0.08019797390405718, 0.11986885779254099, 0.19892522352714542, 0.06250304727753923, 0.28140641377010817, 0.006278844931990242, 0.019048902185189707, 0.004762225546297427, 0.40478917143528126, 0.2762090816852507, 0.01428667663889228, 0.04286002991667684, 0.047622255462974265, 0.009524451092594853, 0.004762225546297427, 0.1809645707593022, 0.03853270471463063, 0.26739024283187324, 0.047219268205212106, 0.0022273239719439674, 0.04165095827535219, 0.2366531720190465, 0.013252577633066604, 0.3462375114386897, 0.0067933381144291, 0.00011136619859719836, 0.015085485924573504, 0.9654710991727042, 0.8869350517745077, 0.22023051185860135, 0.11943990951650528, 0.247798373804022, 0.027677196242088056, 0.08200072250054306, 0.21562285221333274, 0.01808701650583407, 0.05715059878656896, 0.011839342410554598, 0.00017181103762018546, 0.04259381123090521, 0.6493547070673851, 0.052237693019034685, 0.1599277063198139, 0.025717018101678615, 0.061077917991486715, 0.0072329113410971105, 0.0008036568156774567, 0.9884665215899621, 0.13225168573979515, 0.10875438743308484, 0.14590552124234302, 0.16051194991948728, 0.17130800589824605, 0.1409837898402618, 0.06287114952336, 0.05588546624298667, 0.019528160079225455, 0.0019051863491927272, 0.1870633214496372, 0.10708982162820617, 0.2243973877053421, 0.19728106589856695, 0.10964425774043861, 0.09844403786372714, 0.06032399126579687, 0.009628259192260739, 0.00609134765224659, 0.17724161436823166, 0.10223841020880589, 0.09170604536939717, 0.02872463138020561, 0.09330185822385303, 0.18351847826242473, 0.01478786578462437, 0.28182055009690615, 0.02659688090759779, 0.00010638752363039115, 0.9914374354265653, 0.9972199526242143, 0.243556055553107, 0.11621456457863989, 0.13208073740231946, 0.022459906984169768, 0.05748911971177399, 0.23943497170280062, 0.0032968670802451033, 0.1782368765257509, 0.007211896738036163, 0.00020605419251531896, 0.044480496767172605, 0.29267419301425335, 0.06242220974888929, 0.04672321088988719, 0.06690763799431845, 0.4511593243527507, 0.026538783785455926, 0.00037378568711909753, 0.008597070803739244, 0.9926942814239426, 0.9698172274588504, 0.06950920999304246, 0.03243763133008648, 0.8966688089102477, 0.9042149923482118, 0.9764542203183166, 0.25615618268153817, 0.07133463315182076, 0.21562514111800368, 0.05674345818894833, 0.08268332478961044, 0.17185161622938638, 0.02918234992574486, 0.030803591588286237, 0.011348691637789668, 0.07295587481436214, 0.9761150809731466, 0.1161971625026693, 0.0839201729185945, 0.0064553979168149615, 0.21948352917170869, 0.0064553979168149615, 0.5648473177213091, 0.012714068838051347, 0.025428137676102695, 0.22037719319289004, 0.05933232124423962, 0.09323650481237655, 0.584847166550362, 0.9707887101377595, 0.11722727741486742, 0.13237292049172367, 0.22779047187591808, 0.10480785009184529, 0.10208163433801117, 0.23278853409128064, 0.027110701107572698, 0.050889360738237015, 0.004846605784594002, 0.018399377973953437, 0.09974399638511601, 0.029051649432558058, 0.6536621122325563, 0.15494213030697632, 0.022272931231627845, 0.010652271458604621, 0.00968388314418602, 0.9620828393753519, 0.16794309720950346, 0.20359582175677235, 0.011258755120190176, 0.09382295933491813, 0.009382295933491814, 0.0009382295933491813, 0.02064105105368199, 0.006567607153444269, 0.48600292935487593, 0.17662088540551776, 0.10378430788430425, 0.40263309805718034, 0.007502480088021994, 0.26915147315778903, 0.021882233590064148, 0.01125372013203299, 0.003751240044010997, 0.003751240044010997, 0.08370963757258061, 0.542070945744394, 0.07911581599847557, 0.13271040102970097, 0.11459032704295334, 0.008932430838537566, 0.0005104246193450038, 0.03828184645087528, 0.9508951081342578, 0.020604664520604846, 0.07829772517829842, 0.05731843039368257, 0.45854744314946055, 0.06069010276978155, 0.002247781584065983, 0.11276370946731015, 0.16184027405275078, 0.047203413265385644, 0.0003746302640109972, 0.03492371747602816, 0.05238557621404224, 0.18334951674914785, 0.7072052788895703, 0.01746185873801408, 0.24659410463397377, 0.09610552035909829, 0.25378763160696016, 0.15279051290623114, 0.0693456000195889, 0.0653172249147165, 0.09639326143801775, 0.014962536103811711, 0.004603857262711296, 0.8799813312175768, 0.2521348897881618, 0.13256576679583762, 0.10224026458763948, 0.13083288095536916, 0.10917180794951334, 0.019061744245153122, 0.06325033317709901, 0.06671610485803593, 0.12390133759349531, 0.9969944230621666, 0.05405741137812704, 0.500952488396166, 0.05436455576095731, 0.10135764633398821, 0.09183617046624992, 0.10350765701380008, 0.07555751817624576, 0.0159715079071739, 0.0024571550626421384, 0.9752935920032688, 0.015238962375051075, 0.8875967686286813, 0.3122305456733158, 0.1285518938046664, 0.10284151504373311, 0.025247128693168714, 0.11210651639902437, 0.19201715308841158, 0.028258254133638375, 0.0470198818781032, 0.047483131945867764, 0.004169250609881072, 0.39823181492983156, 0.17418124754644176, 0.09504080519650245, 0.10805019298005411, 0.07841769858418643, 0.07408123598966922, 0.030355238161620553, 0.024573288035597593, 0.016984478495192454, 0.09216574960491222, 0.06094831828711937, 0.277983793163203, 0.12189663657423874, 0.40136697408590805, 0.02675779827239387, 0.0029730886969326522, 0.016351987833129588, 0.3166400205738432, 0.1255305618132803, 0.1341878419383341, 0.12206764976325878, 0.11708971369135282, 0.11232820962257323, 0.02640470438141413, 0.020561040297002807, 0.025106112362656058, 0.16617277075995368, 0.06115558984227556, 0.06641898077132387, 0.03859820014635425, 0.07519129898640438, 0.5373671500895033, 0.022808027359209327, 0.01854718708331308, 0.010276144194808597, 0.003007651959456175, 0.06848587758997055, 0.020753296239385016, 0.05603389984633954, 0.37148400268499177, 0.018677966615446514, 0.012451977743631009, 0.18677966615446515, 0.06848587758997055, 0.018677966615446514, 0.18055367728264962, 0.09656957050799772, 0.6638398777688146, 0.018828029470112764, 0.15669779365448688, 0.04251490525509334, 0.0006073557893584762, 0.002429423157433905, 0.0006073557893584762, 0.01822067368075429, 0.23273246944360837, 0.21556368071416185, 0.01716878872944652, 0.05722929576482173, 0.4597420093107346, 0.0057229295764821735, 0.007630572768642898, 0.9049069002148339, 0.5425986057265135, 0.09243004640136192, 0.050494192015558825, 0.2730109703892079, 0.013693340207609173, 0.0008558337629755733, 0.018828342785462613, 0.008558337629755733, 0.11965761696523958, 0.8774891910784235, 0.22405201421714618, 0.7561755479828683, 0.014003250888571636, 0.041731872059842676, 0.02144554536408582, 0.5761316781594947, 0.01449023335411204, 0.006375702675809298, 0.30371529110218837, 0.034196950715704416, 0.0011592186683289632, 0.0005796093341644816, 0.9934988916736461, 0.9733205224407152, 0.9968000514181139, 0.937330969020554, 0.9832044375219473, 0.17890518496492414, 0.21435389034497102, 0.11050026130186491, 0.2196158075498217, 0.14221023603635996, 0.09637616775200247, 0.00747746129110364, 0.023401684411046578, 0.007062046774931215, 0.00013847150539080815, 0.1184217492273789, 0.02537608912015262, 0.011630707513403284, 0.6322875539104694, 0.05075217824030524, 0.013745381606749336, 0.03806413368022893, 0.1025616935272835, 0.007401359326711181, 0.8881173012297388, 0.06032494876277471, 0.04021663250851647, 0.006702772084752745, 0.0320079902729153, 0.13003246048371842, 0.698174287827965, 0.006001498176171619, 0.07801947629023105, 0.012002996352343238, 0.021005243616600666, 0.021005243616600666, 0.0020004993920572063, 0.6791917388923275, 0.03966083146816511, 0.14996751898899935, 0.00867580688366112, 0.04461843540168575, 0.03718202950140479, 0.019830415734082556, 0.011154608850421438, 0.009915207867041278, 0.9447670638872654, 0.09078454944862228, 0.0004679615950959911, 0.7768162478593453, 0.13009332343668553, 0.0004679615950959911, 0.0004679615950959911, 0.9095851279211399, 0.04134477854186999, 0.940022057691525, 0.9109047687590959, 0.9320107837303657, 0.05699473174124164, 0.034196839044744985, 0.034196839044744985, 0.8549209761186246, 0.9682741875110303, 0.009002619970062796, 0.22506549925156988, 0.04501309985031398, 0.009002619970062796, 0.6661938777846469, 0.027007859910188385, 0.01800523994012559, 0.011587561093148617, 0.027037642550680106, 0.8024386057005417, 0.020278231913010078, 0.008690670819861463, 0.07435351701437029, 0.04152209391711588, 0.006759410637670027, 0.006759410637670027, 0.9938829055570156, 0.11040484506341089, 0.03758462810669307, 0.43551187818630593, 0.034295973147357425, 0.07446454443638564, 0.08620974071972723, 0.19966833681680693, 0.015033851242677228, 0.006342405993004455, 0.0004698078513336634, 0.786906434970316, 0.07466995368331465, 0.045950740728193634, 0.005743842591024204, 0.08615763886536307, 0.9589266890078472, 0.5441273003184494, 0.12042763461838825, 0.01248335236897927, 0.30253771623643877, 0.01101472267851112, 0.005140203916638522, 0.0036715742261703736, 0.12554256609549352, 0.06947817324890643, 0.25492694308291347, 0.015106781812320797, 0.16304905887091067, 0.23910389144328434, 0.01771139936616921, 0.10731024321855463, 0.007683621783852819, 6.511543884621034e-05, 0.058485599439417585, 0.23208797631203026, 0.49712759523504946, 0.04850025319366336, 0.04907084440770646, 0.00042794341053232376, 0.07517539245017821, 0.03723107671631217, 0.0019970692491508442, 0.007975747345754998, 0.9491139341448447, 0.03190298938301999, 0.007975747345754998, 0.9375964557179111, 0.003247691234217609, 0.9954173632876971, 0.0727823546431744, 0.04792984330160265, 0.4615466392006181, 0.019526973196949227, 0.03727876701235762, 0.0408291257754393, 0.3159819299142693, 0.0017751793815408388, 0.9623974244761162, 0.331283964569042, 0.19568242284068035, 0.07921278180171623, 0.051018401838393505, 0.15037002647105455, 0.05202534397994075, 0.016111074264755845, 0.10237245105730276, 0.02181707973352354, 0.9618752053275659, 0.30615945710373355, 0.6888587784834004, 0.9511815790019464, 0.9824172898188697, 0.934858115046129, 0.2780176940659929, 0.7124203410441068, 0.08516689235154339, 0.004055566302454447, 0.004055566302454447, 0.9003357191448872, 0.997118072787356, 0.03913255338548108, 0.8652642359678595, 0.06413390693731622, 0.023914338180016217, 0.006522092230913513, 0.001087015371818919, 0.04036461010976692, 0.8418904394322815, 0.005766372872823846, 0.06198850838285634, 0.033156644018737115, 0.002883186436411923, 0.012974338963853653, 0.9723073736581629, 0.03199516064911873, 0.01919709638947124, 0.8169431019074983, 0.01706408567952999, 0.07678838555788496, 0.014931074969588742, 0.01919709638947124, 0.002133010709941249, 0.002133010709941249, 0.24575867748534452, 0.47087096201121564, 0.03696370352421849, 0.1871495619874846, 0.03130259577726611, 0.0003330063380560224, 0.007992152113344538, 0.0006660126761120448, 0.0193143676072493, 0.9436528237039139, 0.9761150396810473, 0.11775291089976572, 0.11018308091335222, 0.16541480340681375, 0.3403619853150371, 0.11382781386977353, 0.052988809904894574, 0.041493882888488876, 0.04401715955062671, 0.013457475531401796, 0.00028036407357087076, 0.004580570324986727, 0.12825596909962836, 0.100772547149708, 0.027483421949920362, 0.21070623494938945, 0.5084433060735267, 0.018322281299946907, 0.5188652907841268, 0.009789911146870316, 0.019579822293740633, 0.19090326736397117, 0.034264689014046106, 0.004894955573435158, 0.02447477786717579, 0.19090326736397117, 0.9454966989877983, 0.9509768350952891, 0.9600473293685746, 0.9315528620436755, 0.05479722717903974, 0.810908150948045, 0.013079163724968467, 0.006539581862484233, 0.1700291284245901, 0.0004772560153053586, 0.00668158421427502, 0.8600153395802562, 0.0071588402295803795, 0.057986605859601074, 0.0002386280076526793, 0.06586133011213949, 0.0011931400382633964, 0.0004772560153053586, 0.010716526025165662, 0.8894716600887499, 0.0857322082013253, 0.03677953506508636, 0.0052542192950123376, 0.031525315770074024, 0.9247425959221715, 0.03143730927515976, 0.02357798195636982, 0.911681968979633, 0.00785932731878994, 0.01571865463757988, 0.8941771891555718, 0.8796672551631197, 0.014755364660068371, 0.9812317498945468, 0.9889391092182611, 0.9440990273966152, 0.5496668931816826, 0.09531260942375977, 0.019432667940766556, 0.22393836388883365, 0.014805842240584044, 0.015731207380620546, 0.0342385101813506, 0.0360892404614236, 0.005552190840219016, 0.003701460560146011, 0.030576124133355684, 0.07080786641408685, 0.13678792375448595, 0.5978436902916651, 0.09494691178252554, 0.0345992983614288, 0.028162219596511814, 0.007241713610531609, 0.01853532458817546, 0.9638368785851239, 0.955255734607166, 0.1831511376639144, 0.1014725557740445, 0.16813501954488538, 0.26346461790659986, 0.16153702825016053, 0.0543765489461808, 0.024116795766925374, 0.02002149082537201, 0.023661761884530556, 0.0340721559165704, 0.1825294066959129, 0.004867450845224343, 0.34315528458831623, 0.04137333218440692, 0.07057803725575298, 0.0024337254226121717, 0.0073011762678365155, 0.30664940324913365, 0.0073011762678365155, 0.5998809277139737, 0.12691456735731782, 0.0034691909072615346, 0.017056855294035878, 0.004336488634076918, 0.180108827935328, 0.0014454962113589727, 0.0641800317843384, 0.002601893180446151, 0.1310941138107668, 0.1741678940628759, 0.23035108569606166, 0.1086208371574925, 0.08240201439533913, 0.10674806410305297, 0.04494655330654862, 0.014982184435516207, 0.020600503598834783, 0.08614756050421819, 0.3029444300249416, 0.29599700193746553, 0.03729671920645026, 0.09653268500493008, 0.03930781681071963, 0.18410684431811475, 0.0005484811648007391, 0.04040477914032111, 0.0027424058240036954, 0.0001828270549335797, 0.24013815436839575, 0.4422870513343128, 0.14574060567132743, 0.05226400866886465, 0.06699923578255337, 0.0011511896182569306, 0.015195702960991484, 0.034996164395010694, 0.0013814275419083168, 0.9487140529531848, 0.9654381916117805, 0.3526168361921029, 0.16803979334419425, 0.1252296555160305, 0.10589174278991288, 0.1496354350255444, 0.04414378698168912, 0.02493923917092407, 0.012402937127785766, 0.01720407408047703, 0.3373721075729987, 0.09282723669907952, 0.177669334757378, 0.0953225925243236, 0.08459256247577408, 0.1434829599515342, 0.032938696893221764, 0.028197520825258025, 0.007236531893207812, 0.0002495355825244073, 0.0334856866250092, 0.7732149457047578, 0.01978699664205089, 0.10350121320457388, 0.04566229994319436, 0.012176613318185162, 0.0030441533295462904, 0.007610383323865727, 0.17885425520976636, 0.16245046257218423, 0.21351388158917373, 0.13581634764449713, 0.13449346114146632, 0.09480686605054182, 0.04506633353658314, 0.024429304089302405, 0.01058309202424653, 0.012904199114889263, 0.004301399704963088, 0.3226049778722316, 0.06452099557444632, 0.4946609660707551, 0.08602799409926176, 0.012904199114889263, 0.022436497470585185, 0.7852774114704815, 0.15705548229409627, 0.005010586880894049, 0.08016939009430478, 0.8618209435137764, 0.005010586880894049, 0.015031760642682145, 0.03006352128536429, 0.9312047041572389, 0.8096052962056196, 0.04641049468694635, 0.07735082447824392, 0.0051567216318829275, 0.056723937950712205, 0.1705961763721168, 0.712329779000594, 0.00816683823058006, 0.05989014702425377, 0.033574779392384686, 0.002722279410193353, 0.011796544110837864, 0.9599101659398799, 0.09221025020379287, 0.03562668757873815, 0.48305596981759674, 0.022266679736711346, 0.08644710956605582, 0.26536643027398343, 0.003405492195026441, 0.006810984390052882, 0.0049772578235001835, 0.974336842496332, 0.9498199480874058, 0.971315225454444, 0.339144060107993, 0.028550392815213696, 0.0034606536745713573, 0.5744685099788452, 0.01124712444235691, 0.0008651634186428393, 0.0017303268372856786, 0.0034606536745713573, 0.031145883071142213, 0.004325817093214197, 0.33179918603435016, 0.15563975820981185, 0.12408592663244951, 0.1434441055142669, 0.12021429085608602, 0.03755486703072575, 0.04510455679463453, 0.029618013689180614, 0.012389234484363134, 0.19024320307247156, 0.18191853266775596, 0.1420090833745605, 0.07883952559760082, 0.06978032545129266, 0.26687913944529473, 0.008324670404715616, 0.04260272501236815, 0.01909777328140641, 0.011197228938837105, 0.013996536173546383, 0.0027993072347092763, 0.951764459801154, 0.019595150642964937, 0.11574900992247886, 0.36653853142118303, 0.03858300330749295, 0.46299603968991543, 0.007022005037859971, 0.1474621057950594, 0.0017555012594649927, 0.7443325340131569, 0.06319804534073974, 0.026332518891974892, 0.008777506297324964, 0.21610787025685968, 0.08414117262526033, 0.24408877907799575, 0.06489189492561351, 0.26115514899727027, 0.08056914171192381, 0.020638400832611023, 0.022225970127427257, 0.006151831017412902, 0.3733000997677685, 0.36069824926605404, 0.06372256480112226, 0.03756778074096014, 0.10604576082574825, 0.029959116287094797, 0.016881724257013734, 0.004993186047849133, 0.006895352161315469, 0.997219967936686, 0.9818124027468447, 0.010227212528612965, 0.1032936224328084, 0.015627448412343706, 0.39068621030859263, 0.020201335752541863, 0.042689615175182806, 0.36591098721585263, 0.036209941443235416, 0.019057863917492323, 0.00647967373194739, 0.01637487923751379, 0.002655385822299533, 0.0008851286074331777, 0.19163034350928296, 0.0017702572148663553, 0.0004425643037165888, 0.0004425643037165888, 0.7859942034006617, 0.042504030822189356, 0.042504030822189356, 0.042504030822189356, 0.8500806164437871, 0.9842033765660327, 0.9600394221692994, 0.9103885496886706, 0.8936152623703987, 0.9267515316171291], \"Term\": [\"abandonware\", \"absolutely_gorgeous\", \"add_sex_add_sex\", \"airship\", \"airship\", \"amazing\", \"amazing\", \"amazing\", \"amazing\", \"amazing\", \"amazing\", \"amazing\", \"amazing\", \"amazing\", \"ancestor\", \"ape\", \"ape\", \"ass\", \"ass\", \"ass\", \"ass\", \"ass\", \"ass\", \"ass\", \"ass\", \"ass\", \"assign\", \"assign\", \"assign\", \"assign\", \"assign\", \"augment\", \"augment\", \"augmentation\", \"ban\", \"ban\", \"bandage\", \"bandage\", \"base\", \"base\", \"base\", \"base\", \"base\", \"base\", \"base\", \"base\", \"base\", \"battle_pass\", \"bee_happy\", \"bench\", \"bench\", \"bench\", \"bench\", \"bench\", \"bench\", \"big_terrarium\", \"bit\", \"bit\", \"bit\", \"bit\", \"bit\", \"bit\", \"bit\", \"bit\", \"bit\", \"black_screen\", \"black_screen\", \"black_screen\", \"block\", \"block\", \"block\", \"block\", \"block\", \"block\", \"block\", \"boat\", \"boat\", \"boat\", \"boat\", \"boat\", \"boat\", \"boat\", \"boss\", \"boss\", \"boss\", \"boss\", \"boss\", \"boss\", \"boss\", \"boss\", \"boss\", \"breed\", \"breed\", \"breed\", \"breed\", \"breed\", \"breed\", \"breed\", \"breed\", \"bricktron\", \"bug\", \"bug\", \"bug\", \"bug\", \"bug\", \"bug\", \"bug\", \"bug\", \"bug\", \"bug_use_speedrun\", \"build\", \"build\", \"build\", \"build\", \"build\", \"build\", \"build\", \"build\", \"build\", \"bully\", \"business_model\", \"business_practice\", \"buy\", \"buy\", \"buy\", \"buy\", \"buy\", \"buy\", \"buy\", \"buy\", \"buy\", \"buy\", \"cactus_hate_roll_cactus\", \"campaign\", \"campaign\", \"campaign\", \"campaign\", \"campaign\", \"cancer\", \"cancer\", \"cancer\", \"cancer\", \"castle\", \"castle\", \"castle\", \"castle\", \"castle\", \"castle\", \"castle\", \"catch\", \"catch\", \"catch\", \"catch\", \"catch\", \"catch\", \"catch\", \"catch\", \"censor\", \"censorship\", \"civil\", \"clan_member\", \"clothe\", \"clothe\", \"clothe\", \"clothe\", \"clothe\", \"co_op\", \"co_op\", \"co_op\", \"co_op\", \"co_op\", \"co_op\", \"co_op\", \"co_op\", \"cold\", \"cold\", \"cold\", \"cold\", \"cold\", \"combat\", \"combat\", \"combat\", \"combat\", \"combat\", \"combat\", \"combat\", \"combat\", \"combat\", \"community\", \"community\", \"community\", \"community\", \"community\", \"community\", \"community\", \"community\", \"community\", \"community\", \"company\", \"company\", \"company\", \"company\", \"company\", \"company\", \"company\", \"company\", \"confusion\", \"consumer\", \"consumer\", \"cool\", \"cool\", \"cool\", \"cool\", \"cool\", \"cool\", \"cool\", \"cool\", \"cool\", \"cool\", \"craft\", \"craft\", \"craft\", \"craft\", \"craft\", \"craft\", \"craft\", \"craft\", \"craft\", \"crashland\", \"crashland\", \"criminal\", \"criminal\", \"criminal\", \"customer\", \"customer\", \"customer\", \"cyclop\", \"cyclop\", \"day\", \"day\", \"day\", \"day\", \"day\", \"day\", \"day\", \"day\", \"day\", \"dead_rise\", \"dehydrate\", \"developer\", \"developer\", \"developer\", \"developer\", \"developer\", \"developer\", \"developer\", \"developer\", \"developer\", \"devs\", \"devs\", \"devs\", \"devs\", \"devs\", \"devs\", \"devs\", \"devs\", \"devs\", \"die\", \"die\", \"die\", \"die\", \"die\", \"die\", \"die\", \"die\", \"die\", \"different\", \"different\", \"different\", \"different\", \"different\", \"different\", \"different\", \"different\", \"different\", \"dino\", \"dino\", \"dino\", \"dino\", \"disease\", \"disease\", \"disease\", \"disease\", \"disregard\", \"door\", \"door\", \"door\", \"door\", \"door\", \"door\", \"door\", \"door\", \"dungeon\", \"dungeon\", \"dungeon\", \"dungeon\", \"dungeon\", \"dungeon\", \"dungeon\", \"dungeon\", \"early_access\", \"early_access\", \"early_access\", \"early_access\", \"early_access\", \"early_access\", \"early_access\", \"early_access\", \"early_access\", \"eat\", \"eat\", \"eat\", \"eat\", \"eat\", \"eat\", \"eat\", \"eat\", \"eat\", \"embark\", \"embark\", \"enchant\", \"enchant\", \"enchant\", \"enchantment\", \"enchantment\", \"essence\", \"essence\", \"essence\", \"essence\", \"essence\", \"essence\", \"expand_factory_expand_factory\", \"exploit\", \"exploit\", \"exploit\", \"exploit\", \"exploit\", \"exploit\", \"faction\", \"faction\", \"faction\", \"faction\", \"faction\", \"faction\", \"factory_expand_factory_expand\", \"fanbois\", \"fast_boi_ask_spare\", \"feel\", \"feel\", \"feel\", \"feel\", \"feel\", \"feel\", \"feel\", \"feel\", \"feel\", \"feel\", \"find\", \"find\", \"find\", \"find\", \"find\", \"find\", \"find\", \"find\", \"find\", \"fire\", \"fire\", \"fire\", \"fire\", \"fire\", \"fire\", \"fire\", \"fire\", \"fire\", \"fish\", \"fish\", \"fish\", \"fish\", \"fish\", \"fish\", \"fish\", \"fish\", \"fix\", \"fix\", \"fix\", \"fix\", \"fix\", \"fix\", \"fix\", \"fix\", \"fix\", \"floaty\", \"flora\", \"fomo\", \"food\", \"food\", \"food\", \"food\", \"food\", \"food\", \"food\", \"food\", \"founder\", \"founder\", \"fps_cap\", \"free_running\", \"freeze_death\", \"freeze_death\", \"friend\", \"friend\", \"friend\", \"friend\", \"friend\", \"friend\", \"friend\", \"friend\", \"friend\", \"fuck\", \"fuck\", \"fuck\", \"fuck\", \"fuck\", \"fuck\", \"fuck\", \"fuck\", \"fuck\", \"fuck\", \"fun\", \"fun\", \"fun\", \"fun\", \"fun\", \"fun\", \"fun\", \"fun\", \"fun\", \"fun\", \"fund\", \"fund\", \"gambling_addict_friend\", \"game\", \"game\", \"game\", \"game\", \"game\", \"game\", \"game\", \"game\", \"game\", \"game\", \"gear\", \"gear\", \"gear\", \"gear\", \"gear\", \"gear\", \"gear\", \"gear\", \"gear_score\", \"get\", \"get\", \"get\", \"get\", \"get\", \"get\", \"get\", \"get\", \"get\", \"get\", \"go\", \"go\", \"go\", \"go\", \"go\", \"go\", \"go\", \"go\", \"go\", \"good\", \"good\", \"good\", \"good\", \"good\", \"good\", \"good\", \"good\", \"good\", \"good\", \"good_bad_deaf\", \"good_gameplay_paint\", \"great\", \"great\", \"great\", \"great\", \"great\", \"great\", \"great\", \"great\", \"great\", \"great\", \"grind\", \"grind\", \"grind\", \"grind\", \"grind\", \"grind\", \"grind\", \"grind\", \"grind\", \"grind_care_leaderboard\", \"growl\", \"guild\", \"guild\", \"guild\", \"gv\", \"hatchet\", \"hate\", \"hate\", \"hate\", \"hate\", \"hate\", \"hate\", \"hate\", \"hate\", \"hate\", \"hate\", \"hate_roll_cactus_hate\", \"horde\", \"horde\", \"horde\", \"horde\", \"horde\", \"horde\", \"horse\", \"horse\", \"horse\", \"horse\", \"horse\", \"horse\", \"hound\", \"hour\", \"hour\", \"hour\", \"hour\", \"hour\", \"hour\", \"hour\", \"hour\", \"hour\", \"house\", \"house\", \"house\", \"house\", \"house\", \"house\", \"house\", \"house\", \"infusion\", \"island\", \"island\", \"island\", \"island\", \"island\", \"island\", \"island\", \"island\", \"island\", \"issue\", \"issue\", \"issue\", \"issue\", \"issue\", \"issue\", \"issue\", \"issue\", \"issue\", \"item\", \"item\", \"item\", \"item\", \"item\", \"item\", \"item\", \"item\", \"jaguar\", \"kill\", \"kill\", \"kill\", \"kill\", \"kill\", \"kill\", \"kill\", \"kill\", \"kill\", \"kill\", \"king\", \"king\", \"king\", \"king\", \"king\", \"know\", \"know\", \"know\", \"know\", \"know\", \"know\", \"know\", \"know\", \"know\", \"lamball\", \"learn\", \"learn\", \"learn\", \"learn\", \"learn\", \"learn\", \"learn\", \"learn\", \"learn\", \"leave_recommend_burn\", \"level\", \"level\", \"level\", \"level\", \"level\", \"level\", \"level\", \"level\", \"level\", \"leviathan\", \"leviathan\", \"liar\", \"like\", \"like\", \"like\", \"like\", \"like\", \"like\", \"like\", \"like\", \"like\", \"like\", \"little\", \"little\", \"little\", \"little\", \"little\", \"little\", \"little\", \"little\", \"little\", \"load\", \"load\", \"load\", \"load\", \"load\", \"load\", \"load\", \"load\", \"look\", \"look\", \"look\", \"look\", \"look\", \"look\", \"look\", \"look\", \"look\", \"love\", \"love\", \"love\", \"love\", \"love\", \"love\", \"love\", \"love\", \"love\", \"love\", \"man\", \"man\", \"man\", \"man\", \"man\", \"man\", \"man\", \"man\", \"man\", \"man\", \"material\", \"material\", \"material\", \"material\", \"material\", \"material\", \"material\", \"material\", \"material\", \"menu\", \"menu\", \"menu\", \"menu\", \"menu\", \"menu\", \"menu\", \"mercenary\", \"mission\", \"mission\", \"mission\", \"mission\", \"mission\", \"mission\", \"mission\", \"mission\", \"moderation\", \"moderation\", \"moderator\", \"moderator\", \"moderator\", \"money\", \"money\", \"money\", \"money\", \"money\", \"money\", \"money\", \"money\", \"money\", \"money_hear\", \"monke\", \"monkey\", \"monkey_minion\", \"nation\", \"need\", \"need\", \"need\", \"need\", \"need\", \"need\", \"need\", \"need\", \"need\", \"need\", \"night\", \"night\", \"night\", \"night\", \"night\", \"night\", \"night\", \"night\", \"night\", \"official_server\", \"official_server\", \"official_server\", \"official_server\", \"online\", \"online\", \"online\", \"online\", \"online\", \"online\", \"online\", \"online\", \"online\", \"original\", \"original\", \"original\", \"original\", \"original\", \"original\", \"original\", \"original\", \"original\", \"paddle\", \"pal\", \"pal\", \"pal\", \"pal\", \"pal\", \"pal\", \"pal_sphere\", \"pal_sphere\", \"palball\", \"palwordi\", \"palworld_win\", \"parkour\", \"parkour\", \"parkour\", \"parkour\", \"pass_pet\", \"pathing\", \"pathing\", \"pathing\", \"pathing\", \"pathing\", \"pathing\", \"pathing\", \"pay\", \"pay\", \"pay\", \"pay\", \"pay\", \"pay\", \"pay\", \"pay\", \"pay\", \"pay_win\", \"people\", \"people\", \"people\", \"people\", \"people\", \"people\", \"people\", \"people\", \"people\", \"people\", \"physics\", \"physics\", \"physics\", \"physics\", \"physics\", \"pixel_art\", \"planet\", \"planet\", \"planet\", \"planet\", \"planet\", \"planet\", \"planet\", \"play\", \"play\", \"play\", \"play\", \"play\", \"play\", \"play\", \"play\", \"play\", \"play\", \"player\", \"player\", \"player\", \"player\", \"player\", \"player\", \"player\", \"player\", \"player\", \"playerbase\", \"playerbase\", \"playerbase\", \"playerbase\", \"pls\", \"pokemon\", \"pokemon\", \"post\", \"post\", \"post\", \"post\", \"post\", \"post\", \"post\", \"post\", \"prawn_suit\", \"pretty\", \"pretty\", \"pretty\", \"pretty\", \"pretty\", \"pretty\", \"pretty\", \"pretty\", \"pretty\", \"protein\", \"puppet\", \"puppet\", \"puppet_spawn\", \"rabbit\", \"racial_slur\", \"racist\", \"racist\", \"raft\", \"raft\", \"raft\", \"raft\", \"rank_necessary_progress_average\", \"realm\", \"realm\", \"realm\", \"realm\", \"realm\", \"realm\", \"recipe\", \"recipe\", \"recipe\", \"recipe\", \"recipe\", \"recipe\", \"recipe\", \"redemption_arc\", \"refund\", \"refund\", \"refund\", \"refund\", \"refund\", \"refund\", \"refund\", \"refund\", \"refund\", \"resource\", \"resource\", \"resource\", \"resource\", \"resource\", \"resource\", \"resource\", \"resource\", \"resource\", \"return_monke\", \"roll_cactus_hate_roll\", \"run\", \"run\", \"run\", \"run\", \"run\", \"run\", \"run\", \"run\", \"run\", \"run\", \"rust\", \"rust\", \"rust\", \"rust\", \"rust\", \"rust\", \"rust\", \"scary\", \"scary\", \"scary\", \"scary\", \"scary\", \"scary\", \"scary\", \"scary\", \"scummy\", \"sea_truck\", \"seamoth\", \"seatruck\", \"seatruck\", \"sequel\", \"sequel\", \"sequel\", \"sequel\", \"server\", \"server\", \"server\", \"server\", \"server\", \"server\", \"server\", \"server\", \"server\", \"sex\", \"sex\", \"sex\", \"shark\", \"shark\", \"shark\", \"shark\", \"shotgun\", \"shotgun\", \"shotgun\", \"shotgun\", \"shotgun\", \"sigma\", \"skibidi\", \"slavery\", \"slavery\", \"solar_panel\", \"sorcery\", \"sound\", \"sound\", \"sound\", \"sound\", \"sound\", \"sound\", \"sound\", \"sound\", \"sound\", \"sound\", \"spawn\", \"spawn\", \"spawn\", \"spawn\", \"spawn\", \"spawn\", \"spawn\", \"spawn\", \"sphere\", \"sphere\", \"standout_feature\", \"start\", \"start\", \"start\", \"start\", \"start\", \"start\", \"start\", \"start\", \"start\", \"starve\", \"starve\", \"starve\", \"starve\", \"starve\", \"starve\", \"starve\", \"starve\", \"starve\", \"starve\", \"story\", \"story\", \"story\", \"story\", \"story\", \"story\", \"story\", \"story\", \"story\", \"suck\", \"suck\", \"suck\", \"suck\", \"suck\", \"suck\", \"suck\", \"suck\", \"suck\", \"suck\", \"survival\", \"survival\", \"survival\", \"survival\", \"survival\", \"survival\", \"survival\", \"survival\", \"survival\", \"survival\", \"system\", \"system\", \"system\", \"system\", \"system\", \"system\", \"system\", \"system\", \"system\", \"terraform_planet\", \"terraformation\", \"thing\", \"thing\", \"thing\", \"thing\", \"thing\", \"thing\", \"thing\", \"thing\", \"thing\", \"think\", \"think\", \"think\", \"think\", \"think\", \"think\", \"think\", \"think\", \"think\", \"think\", \"tier\", \"tier\", \"tier\", \"tier\", \"tier\", \"tier\", \"tier\", \"tier\", \"time\", \"time\", \"time\", \"time\", \"time\", \"time\", \"time\", \"time\", \"time\", \"toxic\", \"toxic\", \"toxic\", \"toxic\", \"toxic\", \"toxic\", \"toxic\", \"tr_td\", \"tr_td\", \"tr_td\", \"turret\", \"turret\", \"turret\", \"turret\", \"turret\", \"turret\", \"uncle_instal_computer\", \"underwater\", \"underwater\", \"underwater\", \"underwater\", \"underwater\", \"unlock\", \"unlock\", \"unlock\", \"unlock\", \"unlock\", \"unlock\", \"unlock\", \"unofficial_server\", \"update\", \"update\", \"update\", \"update\", \"update\", \"update\", \"update\", \"update\", \"update\", \"wand\", \"warfare\", \"wasp\", \"water\", \"water\", \"water\", \"water\", \"water\", \"water\", \"water\", \"water\", \"water\", \"water\", \"way\", \"way\", \"way\", \"way\", \"way\", \"way\", \"way\", \"way\", \"way\", \"well\", \"well\", \"well\", \"well\", \"well\", \"well\", \"well\", \"well\", \"well\", \"wolf\", \"wolf\", \"wolf\", \"wolf\", \"wolf\", \"woman\", \"woman\", \"woman\", \"woman\", \"wood\", \"wood\", \"wood\", \"wood\", \"wood\", \"wood\", \"wood\", \"work\", \"work\", \"work\", \"work\", \"work\", \"work\", \"work\", \"work\", \"work\", \"world\", \"world\", \"world\", \"world\", \"world\", \"world\", \"world\", \"world\", \"world\", \"worth_price_sale_spare\", \"wound\", \"wound\", \"year\", \"year\", \"year\", \"year\", \"year\", \"year\", \"year\", \"year\", \"year\", \"zombie\", \"zombie\", \"zombie\", \"zombie\", \"zombie\", \"zombie\", \"zombie\", \"zombie\", \"zombie_apocalypse\", \"zombie_apocalypse\", \"zombie_apocalypse\", \"zombie_apocalypse\", \"zombot\", \"\\u0262\\u1d00\\u1d0d\\u1d07\", \"\\u0438\\u0433\\u0440\\u0430\", \"\\u10d7\\u10e3\\u10db\\u10ea\\u10d0\", \"\\u1d00\\u0274\\u1d05\"]}, \"R\": 10, \"lambda.step\": 0.01, \"plot.opts\": {\"xlab\": \"PC1\", \"ylab\": \"PC2\"}, \"topic.order\": [7, 1, 6, 9, 5, 3, 10, 4, 8, 2]};\n",
       "\n",
       "function LDAvis_load_lib(url, callback){\n",
       "  var s = document.createElement('script');\n",
       "  s.src = url;\n",
       "  s.async = true;\n",
       "  s.onreadystatechange = s.onload = callback;\n",
       "  s.onerror = function(){console.warn(\"failed to load library \" + url);};\n",
       "  document.getElementsByTagName(\"head\")[0].appendChild(s);\n",
       "}\n",
       "\n",
       "if(typeof(LDAvis) !== \"undefined\"){\n",
       "   // already loaded: just create the visualization\n",
       "   !function(LDAvis){\n",
       "       new LDAvis(\"#\" + \"ldavis_el1682821233484547366208159815\", ldavis_el1682821233484547366208159815_data);\n",
       "   }(LDAvis);\n",
       "}else if(typeof define === \"function\" && define.amd){\n",
       "   // require.js is available: use it to load d3/LDAvis\n",
       "   require.config({paths: {d3: \"https://d3js.org/d3.v5\"}});\n",
       "   require([\"d3\"], function(d3){\n",
       "      window.d3 = d3;\n",
       "      LDAvis_load_lib(\"https://cdn.jsdelivr.net/gh/bmabey/pyLDAvis@3.4.0/pyLDAvis/js/ldavis.v3.0.0.js\", function(){\n",
       "        new LDAvis(\"#\" + \"ldavis_el1682821233484547366208159815\", ldavis_el1682821233484547366208159815_data);\n",
       "      });\n",
       "    });\n",
       "}else{\n",
       "    // require.js not available: dynamically load d3 & LDAvis\n",
       "    LDAvis_load_lib(\"https://d3js.org/d3.v5.js\", function(){\n",
       "         LDAvis_load_lib(\"https://cdn.jsdelivr.net/gh/bmabey/pyLDAvis@3.4.0/pyLDAvis/js/ldavis.v3.0.0.js\", function(){\n",
       "                 new LDAvis(\"#\" + \"ldavis_el1682821233484547366208159815\", ldavis_el1682821233484547366208159815_data);\n",
       "            })\n",
       "         });\n",
       "}\n",
       "</script>"
      ],
      "text/plain": [
       "PreparedData(topic_coordinates=              x         y  topics  cluster       Freq\n",
       "topic                                                \n",
       "6     -0.079777  0.101054       1        1  21.709742\n",
       "0     -0.047402  0.159893       2        1  18.891503\n",
       "5     -0.117985 -0.034386       3        1  16.899381\n",
       "8      0.086396  0.173729       4        1  14.629664\n",
       "4     -0.036075  0.016766       5        1   9.126756\n",
       "2     -0.249196  0.014530       6        1   8.515462\n",
       "9      0.049064 -0.142257       7        1   4.387205\n",
       "3     -0.154373 -0.184227       8        1   3.391483\n",
       "7      0.147326  0.028644       9        1   1.988847\n",
       "1      0.402022 -0.133747      10        1   0.459957, topic_info=        Term          Freq         Total Category  logprob  loglift\n",
       "1       game  64023.000000  64023.000000  Default  10.0000  10.0000\n",
       "67       fun   8979.000000   8979.000000  Default   9.0000   9.0000\n",
       "37      good   9399.000000   9399.000000  Default   8.0000   8.0000\n",
       "4       play  15357.000000  15357.000000  Default   7.0000   7.0000\n",
       "362   zombie   2259.000000   2259.000000  Default   6.0000   6.0000\n",
       "...      ...           ...           ...      ...      ...      ...\n",
       "1036   scary     39.136270    204.291946  Topic10  -5.0320   3.7293\n",
       "799     fuck     37.885543    209.985854  Topic10  -5.0645   3.6693\n",
       "830     suck     46.153722    533.967529  Topic10  -4.8671   2.9334\n",
       "237     hate     45.091580    616.811191  Topic10  -4.8904   2.7659\n",
       "350      eat     46.676855    808.902885  Topic10  -4.8558   2.5294\n",
       "\n",
       "[309 rows x 6 columns], token_table=       Topic      Freq                 Term\n",
       "term                                       \n",
       "4018       3  0.974307          abandonware\n",
       "7716       1  0.958028  absolutely_gorgeous\n",
       "15017      5  0.968293      add_sex_add_sex\n",
       "15348      1  0.965873              airship\n",
       "15348      3  0.012226              airship\n",
       "...      ...       ...                  ...\n",
       "12113      8  0.984203               zombot\n",
       "12862     10  0.960039                 ɢᴀᴍᴇ\n",
       "1095      10  0.910389                 игра\n",
       "9268       8  0.893615                თუმცა\n",
       "22854     10  0.926752                  ᴀɴᴅ\n",
       "\n",
       "[1242 rows x 3 columns], R=10, lambda_step=0.01, plot_opts={'xlab': 'PC1', 'ylab': 'PC2'}, topic_order=[7, 1, 6, 9, 5, 3, 10, 4, 8, 2])"
      ]
     },
     "execution_count": 109,
     "metadata": {},
     "output_type": "execute_result"
    }
   ],
   "source": [
    "pyLDAvis.enable_notebook()\n",
    "vis = pyLDAvis.gensim_models.prepare(lda_model, corpus, id2word, mds=\"mmds\", R=10)\n",
    "vis"
   ]
  },
  {
   "cell_type": "code",
   "execution_count": null,
   "id": "63d9e518-3f6b-4fad-ad35-32a74f69ed5e",
   "metadata": {},
   "outputs": [],
   "source": []
  }
 ],
 "metadata": {
  "kernelspec": {
   "display_name": "NLPtorch",
   "language": "python",
   "name": "torch-gpu"
  },
  "language_info": {
   "codemirror_mode": {
    "name": "ipython",
    "version": 3
   },
   "file_extension": ".py",
   "mimetype": "text/x-python",
   "name": "python",
   "nbconvert_exporter": "python",
   "pygments_lexer": "ipython3",
   "version": "3.12.3"
  }
 },
 "nbformat": 4,
 "nbformat_minor": 5
}
