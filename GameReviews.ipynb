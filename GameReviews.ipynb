{
 "cells": [
  {
   "cell_type": "code",
   "execution_count": 39,
   "id": "81ce6e34-93f7-42ea-bd49-db4bc81df51b",
   "metadata": {
    "scrolled": true
   },
   "outputs": [
    {
     "name": "stdout",
     "output_type": "stream",
     "text": [
      "AoIIPwIkeXu77+UE\n",
      "AoIIPwAAAHPvsuUE\n",
      "AoIIPwYwunigyeME\n",
      "AoIIPwAAAHPvsuUE\n",
      "AoIIPwYwunigyeME\n",
      "len:  416\n"
     ]
    }
   ],
   "source": [
    "import requests\n",
    "import json\n",
    "import urllib.parse\n",
    "\n",
    "def getApiSteam (repeat, num_per_page, url = \"https://store.steampowered.com/appreviews/892970?json=1&language=english\", cursor = None, data = []):\n",
    "    if repeat == 0:\n",
    "        data = [x for xs in data for x in xs]\n",
    "        reviewData = []\n",
    "        \n",
    "        for i in data:\n",
    "            reviewData.append(i[\"review\"])\n",
    "            \n",
    "        with open('reviewdata.json', 'w', encoding='utf-8') as f:\n",
    "            json.dump(reviewData, f, ensure_ascii=False, indent=4)\n",
    "            \n",
    "        return 1\n",
    "    else:\n",
    "        repeat-=1\n",
    "        if cursor == None:\n",
    "            response = requests.get(f'{url}&num_per_page={num_per_page}')\n",
    "            temp=json.loads(response.text)\n",
    "            data.append(temp[\"reviews\"])\n",
    "            print(temp['cursor'])\n",
    "            return getApiSteam(repeat, num_per_page, cursor = urllib.parse.quote(temp[\"cursor\"]), data=data)\n",
    "        else:\n",
    "            response = requests.get(f'{url}&cursor={cursor}&num_per_page={num_per_page}')\n",
    "            temp=json.loads(response.text)\n",
    "            data.append(temp[\"reviews\"])\n",
    "            print(temp['cursor'])\n",
    "            return getApiSteam(repeat, num_per_page, cursor = urllib.parse.quote(temp[\"cursor\"]), data=data)\n",
    "            \n",
    "def main():\n",
    "    getApiSteam(5, 100)\n",
    "    with open(\"reviewdata.json\",\"r\", encoding='utf-8') as file:\n",
    "        reviewData = json.load(file)\n",
    "    print(\"len: \",  len(reviewData))\n",
    "    \n",
    "main()"
   ]
  },
  {
   "cell_type": "code",
   "execution_count": 57,
   "id": "e6aa5a7a-49d0-4f32-a9b4-5c3ce26a8911",
   "metadata": {},
   "outputs": [
    {
     "name": "stdout",
     "output_type": "stream",
     "text": [
      "\n",
      "Processed:\n",
      "took three try get game felt unnatural first sat put two three hour game immediately hooked like basically game ever writing 383 hour later even dove playing game friend yet absolute best part game according take space drive cost le aaa game find absolutely delightful exploration amazing genuinely love world natural difficulty make actually care preparing cooking lose stats adjusted game definitely within top ten game time\n",
      "\n",
      "\n",
      "Not Processed:\n",
      "It took me three tries to get into this game - it felt unnatural to me at first, but after I sat down and put about two to three hours into the game it immediately hooked me like basically no other game ever has. \n",
      "\n",
      "I am writing this 383 hours later, and I haven't even dove into playing the game with my friends yet (The absolute best part of the game according to most). It takes no space on your drive, it costs less than all AAA games, and I find it absolutely delightful.\n",
      "\n",
      "Exploration is amazing - I genuinely love this world.\n",
      "Natural difficulty makes me *actually care* about preparing, about cooking, so I don't lose stats (Can be adjusted)\n",
      "\n",
      "This game is definitely within my top ten games of all time now.\n"
     ]
    },
    {
     "name": "stderr",
     "output_type": "stream",
     "text": [
      "[nltk_data] Downloading package punkt to\n",
      "[nltk_data]     C:\\Users\\reapy\\AppData\\Roaming\\nltk_data...\n",
      "[nltk_data]   Package punkt is already up-to-date!\n",
      "[nltk_data] Downloading package stopwords to\n",
      "[nltk_data]     C:\\Users\\reapy\\AppData\\Roaming\\nltk_data...\n",
      "[nltk_data]   Package stopwords is already up-to-date!\n",
      "[nltk_data] Downloading package wordnet to\n",
      "[nltk_data]     C:\\Users\\reapy\\AppData\\Roaming\\nltk_data...\n",
      "[nltk_data]   Package wordnet is already up-to-date!\n"
     ]
    }
   ],
   "source": [
    "from nltk.tokenize import word_tokenize\n",
    "from nltk.corpus import stopwords\n",
    "from nltk.stem import WordNetLemmatizer\n",
    "import json\n",
    "\n",
    "# Download necessary NLTK resources\n",
    "nltk.download('punkt')\n",
    "nltk.download('stopwords')\n",
    "nltk.download('wordnet')\n",
    "\n",
    "# Read Game Review Data JSON\n",
    "with open(\"reviewdata.json\",\"r\", encoding='utf-8') as file:\n",
    "        reviewData = json.load(file)\n",
    "    \n",
    "def preprocess(text):\n",
    "    # Convert text to lowercase\n",
    "    text_lower = text.lower()\n",
    "    \n",
    "    # Tokenization\n",
    "    tokens = word_tokenize(text_lower)\n",
    "    \n",
    "    # Removing punctuation and special characters\n",
    "    tokens = [word for word in tokens if word.isalnum()]\n",
    "    \n",
    "    # Removing stop words\n",
    "    stop_words = set(stopwords.words('english'))\n",
    "    tokens = [word for word in tokens if word not in stop_words]\n",
    "    \n",
    "    # Lemmatization\n",
    "    lemmatizer = WordNetLemmatizer()\n",
    "    tokens = [lemmatizer.lemmatize(word) for word in tokens]\n",
    "    \n",
    "    return tokens\n",
    "    \n",
    "# Joining tokens back into a string\n",
    "preprocessed_text = ' '.join(preprocess(reviewData[22]))\n",
    "\n",
    "print(\"\\nProcessed:\\n\"+preprocessed_text)\n",
    "print(\"\\n\\nNot Processed:\\n\"+reviewData[22])"
   ]
  },
  {
   "cell_type": "code",
   "execution_count": null,
   "id": "54e37d6f-a42b-48d3-90a4-4b0707508da4",
   "metadata": {},
   "outputs": [],
   "source": []
  }
 ],
 "metadata": {
  "kernelspec": {
   "display_name": "NLP Virtual Environment",
   "language": "python",
   "name": "nlpenv"
  },
  "language_info": {
   "codemirror_mode": {
    "name": "ipython",
    "version": 3
   },
   "file_extension": ".py",
   "mimetype": "text/x-python",
   "name": "python",
   "nbconvert_exporter": "python",
   "pygments_lexer": "ipython3",
   "version": "3.12.1"
  }
 },
 "nbformat": 4,
 "nbformat_minor": 5
}
